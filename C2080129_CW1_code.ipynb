{
 "cells": [
  {
   "cell_type": "code",
   "execution_count": 2,
   "metadata": {},
   "outputs": [],
   "source": [
    "import pandas as pd\n",
    "import numpy as np\n",
    "import seaborn as sns\n",
    "import matplotlib.pyplot as plt\n",
    "import xgboost\n",
    "from sklearn.preprocessing import OneHotEncoder,PowerTransformer\n",
    "from sklearn.compose import ColumnTransformer\n",
    "from sklearn.model_selection import train_test_split,RepeatedStratifiedKFold,RandomizedSearchCV\n",
    "from sklearn import metrics\n",
    "from sklearn.svm import SVC\n",
    "from sklearn.linear_model import LogisticRegression\n",
    "from sklearn.metrics import roc_auc_score,auc,accuracy_score,precision_recall_curve,roc_curve,auc\n",
    "from statsmodels.stats.outliers_influence import variance_inflation_factor\n",
    "from xgboost import XGBClassifier\n",
    "from matplotlib import pyplot\n",
    "from imblearn.pipeline import Pipeline\n",
    "from numpy import argmax"
   ]
  },
  {
   "cell_type": "code",
   "execution_count": 3,
   "metadata": {},
   "outputs": [],
   "source": [
    "dataset = pd.read_csv('C:/Users/c2080129/Downloads/Coursework_1_data(1).csv')"
   ]
  },
  {
   "cell_type": "markdown",
   "metadata": {},
   "source": [
    "# Data exploration"
   ]
  },
  {
   "cell_type": "markdown",
   "metadata": {},
   "source": [
    "First look at the data."
   ]
  },
  {
   "cell_type": "code",
   "execution_count": 33,
   "metadata": {},
   "outputs": [
    {
     "data": {
      "text/html": [
       "<div>\n",
       "<style scoped>\n",
       "    .dataframe tbody tr th:only-of-type {\n",
       "        vertical-align: middle;\n",
       "    }\n",
       "\n",
       "    .dataframe tbody tr th {\n",
       "        vertical-align: top;\n",
       "    }\n",
       "\n",
       "    .dataframe thead th {\n",
       "        text-align: right;\n",
       "    }\n",
       "</style>\n",
       "<table border=\"1\" class=\"dataframe\">\n",
       "  <thead>\n",
       "    <tr style=\"text-align: right;\">\n",
       "      <th></th>\n",
       "      <th>Administrative</th>\n",
       "      <th>Administrative_Duration</th>\n",
       "      <th>Informational</th>\n",
       "      <th>Informational_Duration</th>\n",
       "      <th>ProductRelated</th>\n",
       "      <th>ProductRelated_Duration</th>\n",
       "      <th>BounceRates</th>\n",
       "      <th>ExitRates</th>\n",
       "      <th>PageValues</th>\n",
       "      <th>SpecialDay</th>\n",
       "      <th>OperatingSystems</th>\n",
       "      <th>Browser</th>\n",
       "      <th>Region</th>\n",
       "      <th>TrafficType</th>\n",
       "    </tr>\n",
       "  </thead>\n",
       "  <tbody>\n",
       "    <tr>\n",
       "      <th>count</th>\n",
       "      <td>12330.000000</td>\n",
       "      <td>12330.000000</td>\n",
       "      <td>12330.000000</td>\n",
       "      <td>12330.000000</td>\n",
       "      <td>12330.000000</td>\n",
       "      <td>12330.000000</td>\n",
       "      <td>12330.000000</td>\n",
       "      <td>12330.000000</td>\n",
       "      <td>12330.000000</td>\n",
       "      <td>12330.000000</td>\n",
       "      <td>12330.000000</td>\n",
       "      <td>12330.000000</td>\n",
       "      <td>12330.000000</td>\n",
       "      <td>12330.000000</td>\n",
       "    </tr>\n",
       "    <tr>\n",
       "      <th>mean</th>\n",
       "      <td>2.315166</td>\n",
       "      <td>80.818611</td>\n",
       "      <td>0.503569</td>\n",
       "      <td>34.472398</td>\n",
       "      <td>31.731468</td>\n",
       "      <td>1194.746220</td>\n",
       "      <td>0.022191</td>\n",
       "      <td>0.043073</td>\n",
       "      <td>5.889258</td>\n",
       "      <td>0.061427</td>\n",
       "      <td>2.124006</td>\n",
       "      <td>2.357097</td>\n",
       "      <td>3.147364</td>\n",
       "      <td>4.069586</td>\n",
       "    </tr>\n",
       "    <tr>\n",
       "      <th>std</th>\n",
       "      <td>3.321784</td>\n",
       "      <td>176.779107</td>\n",
       "      <td>1.270156</td>\n",
       "      <td>140.749294</td>\n",
       "      <td>44.475503</td>\n",
       "      <td>1913.669288</td>\n",
       "      <td>0.048488</td>\n",
       "      <td>0.048597</td>\n",
       "      <td>18.568437</td>\n",
       "      <td>0.198917</td>\n",
       "      <td>0.911325</td>\n",
       "      <td>1.717277</td>\n",
       "      <td>2.401591</td>\n",
       "      <td>4.025169</td>\n",
       "    </tr>\n",
       "    <tr>\n",
       "      <th>min</th>\n",
       "      <td>0.000000</td>\n",
       "      <td>0.000000</td>\n",
       "      <td>0.000000</td>\n",
       "      <td>0.000000</td>\n",
       "      <td>0.000000</td>\n",
       "      <td>0.000000</td>\n",
       "      <td>0.000000</td>\n",
       "      <td>0.000000</td>\n",
       "      <td>0.000000</td>\n",
       "      <td>0.000000</td>\n",
       "      <td>1.000000</td>\n",
       "      <td>1.000000</td>\n",
       "      <td>1.000000</td>\n",
       "      <td>1.000000</td>\n",
       "    </tr>\n",
       "    <tr>\n",
       "      <th>25%</th>\n",
       "      <td>0.000000</td>\n",
       "      <td>0.000000</td>\n",
       "      <td>0.000000</td>\n",
       "      <td>0.000000</td>\n",
       "      <td>7.000000</td>\n",
       "      <td>184.137500</td>\n",
       "      <td>0.000000</td>\n",
       "      <td>0.014286</td>\n",
       "      <td>0.000000</td>\n",
       "      <td>0.000000</td>\n",
       "      <td>2.000000</td>\n",
       "      <td>2.000000</td>\n",
       "      <td>1.000000</td>\n",
       "      <td>2.000000</td>\n",
       "    </tr>\n",
       "    <tr>\n",
       "      <th>50%</th>\n",
       "      <td>1.000000</td>\n",
       "      <td>7.500000</td>\n",
       "      <td>0.000000</td>\n",
       "      <td>0.000000</td>\n",
       "      <td>18.000000</td>\n",
       "      <td>598.936905</td>\n",
       "      <td>0.003112</td>\n",
       "      <td>0.025156</td>\n",
       "      <td>0.000000</td>\n",
       "      <td>0.000000</td>\n",
       "      <td>2.000000</td>\n",
       "      <td>2.000000</td>\n",
       "      <td>3.000000</td>\n",
       "      <td>2.000000</td>\n",
       "    </tr>\n",
       "    <tr>\n",
       "      <th>75%</th>\n",
       "      <td>4.000000</td>\n",
       "      <td>93.256250</td>\n",
       "      <td>0.000000</td>\n",
       "      <td>0.000000</td>\n",
       "      <td>38.000000</td>\n",
       "      <td>1464.157213</td>\n",
       "      <td>0.016813</td>\n",
       "      <td>0.050000</td>\n",
       "      <td>0.000000</td>\n",
       "      <td>0.000000</td>\n",
       "      <td>3.000000</td>\n",
       "      <td>2.000000</td>\n",
       "      <td>4.000000</td>\n",
       "      <td>4.000000</td>\n",
       "    </tr>\n",
       "    <tr>\n",
       "      <th>max</th>\n",
       "      <td>27.000000</td>\n",
       "      <td>3398.750000</td>\n",
       "      <td>24.000000</td>\n",
       "      <td>2549.375000</td>\n",
       "      <td>705.000000</td>\n",
       "      <td>63973.522230</td>\n",
       "      <td>0.200000</td>\n",
       "      <td>0.200000</td>\n",
       "      <td>361.763742</td>\n",
       "      <td>1.000000</td>\n",
       "      <td>8.000000</td>\n",
       "      <td>13.000000</td>\n",
       "      <td>9.000000</td>\n",
       "      <td>20.000000</td>\n",
       "    </tr>\n",
       "  </tbody>\n",
       "</table>\n",
       "</div>"
      ],
      "text/plain": [
       "       Administrative  Administrative_Duration  Informational  \\\n",
       "count    12330.000000             12330.000000   12330.000000   \n",
       "mean         2.315166                80.818611       0.503569   \n",
       "std          3.321784               176.779107       1.270156   \n",
       "min          0.000000                 0.000000       0.000000   \n",
       "25%          0.000000                 0.000000       0.000000   \n",
       "50%          1.000000                 7.500000       0.000000   \n",
       "75%          4.000000                93.256250       0.000000   \n",
       "max         27.000000              3398.750000      24.000000   \n",
       "\n",
       "       Informational_Duration  ProductRelated  ProductRelated_Duration  \\\n",
       "count            12330.000000    12330.000000             12330.000000   \n",
       "mean                34.472398       31.731468              1194.746220   \n",
       "std                140.749294       44.475503              1913.669288   \n",
       "min                  0.000000        0.000000                 0.000000   \n",
       "25%                  0.000000        7.000000               184.137500   \n",
       "50%                  0.000000       18.000000               598.936905   \n",
       "75%                  0.000000       38.000000              1464.157213   \n",
       "max               2549.375000      705.000000             63973.522230   \n",
       "\n",
       "        BounceRates     ExitRates    PageValues    SpecialDay  \\\n",
       "count  12330.000000  12330.000000  12330.000000  12330.000000   \n",
       "mean       0.022191      0.043073      5.889258      0.061427   \n",
       "std        0.048488      0.048597     18.568437      0.198917   \n",
       "min        0.000000      0.000000      0.000000      0.000000   \n",
       "25%        0.000000      0.014286      0.000000      0.000000   \n",
       "50%        0.003112      0.025156      0.000000      0.000000   \n",
       "75%        0.016813      0.050000      0.000000      0.000000   \n",
       "max        0.200000      0.200000    361.763742      1.000000   \n",
       "\n",
       "       OperatingSystems       Browser        Region   TrafficType  \n",
       "count      12330.000000  12330.000000  12330.000000  12330.000000  \n",
       "mean           2.124006      2.357097      3.147364      4.069586  \n",
       "std            0.911325      1.717277      2.401591      4.025169  \n",
       "min            1.000000      1.000000      1.000000      1.000000  \n",
       "25%            2.000000      2.000000      1.000000      2.000000  \n",
       "50%            2.000000      2.000000      3.000000      2.000000  \n",
       "75%            3.000000      2.000000      4.000000      4.000000  \n",
       "max            8.000000     13.000000      9.000000     20.000000  "
      ]
     },
     "execution_count": 33,
     "metadata": {},
     "output_type": "execute_result"
    }
   ],
   "source": [
    "dataset.describe()"
   ]
  },
  {
   "cell_type": "code",
   "execution_count": 34,
   "metadata": {},
   "outputs": [
    {
     "name": "stdout",
     "output_type": "stream",
     "text": [
      "<class 'pandas.core.frame.DataFrame'>\n",
      "RangeIndex: 12330 entries, 0 to 12329\n",
      "Data columns (total 18 columns):\n",
      " #   Column                   Non-Null Count  Dtype  \n",
      "---  ------                   --------------  -----  \n",
      " 0   Administrative           12330 non-null  int64  \n",
      " 1   Administrative_Duration  12330 non-null  float64\n",
      " 2   Informational            12330 non-null  int64  \n",
      " 3   Informational_Duration   12330 non-null  float64\n",
      " 4   ProductRelated           12330 non-null  int64  \n",
      " 5   ProductRelated_Duration  12330 non-null  float64\n",
      " 6   BounceRates              12330 non-null  float64\n",
      " 7   ExitRates                12330 non-null  float64\n",
      " 8   PageValues               12330 non-null  float64\n",
      " 9   SpecialDay               12330 non-null  float64\n",
      " 10  Month                    12330 non-null  object \n",
      " 11  OperatingSystems         12330 non-null  int64  \n",
      " 12  Browser                  12330 non-null  int64  \n",
      " 13  Region                   12330 non-null  int64  \n",
      " 14  TrafficType              12330 non-null  int64  \n",
      " 15  VisitorType              12330 non-null  object \n",
      " 16  Weekend                  12330 non-null  bool   \n",
      " 17  Revenue                  12330 non-null  bool   \n",
      "dtypes: bool(2), float64(7), int64(7), object(2)\n",
      "memory usage: 1.5+ MB\n"
     ]
    }
   ],
   "source": [
    "dataset.info()"
   ]
  },
  {
   "cell_type": "code",
   "execution_count": 35,
   "metadata": {},
   "outputs": [
    {
     "data": {
      "text/html": [
       "<div>\n",
       "<style scoped>\n",
       "    .dataframe tbody tr th:only-of-type {\n",
       "        vertical-align: middle;\n",
       "    }\n",
       "\n",
       "    .dataframe tbody tr th {\n",
       "        vertical-align: top;\n",
       "    }\n",
       "\n",
       "    .dataframe thead th {\n",
       "        text-align: right;\n",
       "    }\n",
       "</style>\n",
       "<table border=\"1\" class=\"dataframe\">\n",
       "  <thead>\n",
       "    <tr style=\"text-align: right;\">\n",
       "      <th></th>\n",
       "      <th>Administrative</th>\n",
       "      <th>Administrative_Duration</th>\n",
       "      <th>Informational</th>\n",
       "      <th>Informational_Duration</th>\n",
       "      <th>ProductRelated</th>\n",
       "      <th>ProductRelated_Duration</th>\n",
       "      <th>BounceRates</th>\n",
       "      <th>ExitRates</th>\n",
       "      <th>PageValues</th>\n",
       "      <th>SpecialDay</th>\n",
       "      <th>Month</th>\n",
       "      <th>OperatingSystems</th>\n",
       "      <th>Browser</th>\n",
       "      <th>Region</th>\n",
       "      <th>TrafficType</th>\n",
       "      <th>VisitorType</th>\n",
       "      <th>Weekend</th>\n",
       "      <th>Revenue</th>\n",
       "    </tr>\n",
       "  </thead>\n",
       "  <tbody>\n",
       "    <tr>\n",
       "      <th>0</th>\n",
       "      <td>0</td>\n",
       "      <td>0.0</td>\n",
       "      <td>0</td>\n",
       "      <td>0.0</td>\n",
       "      <td>1</td>\n",
       "      <td>0.000000</td>\n",
       "      <td>0.200000</td>\n",
       "      <td>0.200000</td>\n",
       "      <td>0.0</td>\n",
       "      <td>0.0</td>\n",
       "      <td>Feb</td>\n",
       "      <td>1</td>\n",
       "      <td>1</td>\n",
       "      <td>1</td>\n",
       "      <td>1</td>\n",
       "      <td>Returning_Visitor</td>\n",
       "      <td>False</td>\n",
       "      <td>False</td>\n",
       "    </tr>\n",
       "    <tr>\n",
       "      <th>1</th>\n",
       "      <td>0</td>\n",
       "      <td>0.0</td>\n",
       "      <td>0</td>\n",
       "      <td>0.0</td>\n",
       "      <td>2</td>\n",
       "      <td>64.000000</td>\n",
       "      <td>0.000000</td>\n",
       "      <td>0.100000</td>\n",
       "      <td>0.0</td>\n",
       "      <td>0.0</td>\n",
       "      <td>Feb</td>\n",
       "      <td>2</td>\n",
       "      <td>2</td>\n",
       "      <td>1</td>\n",
       "      <td>2</td>\n",
       "      <td>Returning_Visitor</td>\n",
       "      <td>False</td>\n",
       "      <td>False</td>\n",
       "    </tr>\n",
       "    <tr>\n",
       "      <th>2</th>\n",
       "      <td>0</td>\n",
       "      <td>0.0</td>\n",
       "      <td>0</td>\n",
       "      <td>0.0</td>\n",
       "      <td>1</td>\n",
       "      <td>0.000000</td>\n",
       "      <td>0.200000</td>\n",
       "      <td>0.200000</td>\n",
       "      <td>0.0</td>\n",
       "      <td>0.0</td>\n",
       "      <td>Feb</td>\n",
       "      <td>4</td>\n",
       "      <td>1</td>\n",
       "      <td>9</td>\n",
       "      <td>3</td>\n",
       "      <td>Returning_Visitor</td>\n",
       "      <td>False</td>\n",
       "      <td>False</td>\n",
       "    </tr>\n",
       "    <tr>\n",
       "      <th>3</th>\n",
       "      <td>0</td>\n",
       "      <td>0.0</td>\n",
       "      <td>0</td>\n",
       "      <td>0.0</td>\n",
       "      <td>2</td>\n",
       "      <td>2.666667</td>\n",
       "      <td>0.050000</td>\n",
       "      <td>0.140000</td>\n",
       "      <td>0.0</td>\n",
       "      <td>0.0</td>\n",
       "      <td>Feb</td>\n",
       "      <td>3</td>\n",
       "      <td>2</td>\n",
       "      <td>2</td>\n",
       "      <td>4</td>\n",
       "      <td>Returning_Visitor</td>\n",
       "      <td>False</td>\n",
       "      <td>False</td>\n",
       "    </tr>\n",
       "    <tr>\n",
       "      <th>4</th>\n",
       "      <td>0</td>\n",
       "      <td>0.0</td>\n",
       "      <td>0</td>\n",
       "      <td>0.0</td>\n",
       "      <td>10</td>\n",
       "      <td>627.500000</td>\n",
       "      <td>0.020000</td>\n",
       "      <td>0.050000</td>\n",
       "      <td>0.0</td>\n",
       "      <td>0.0</td>\n",
       "      <td>Feb</td>\n",
       "      <td>3</td>\n",
       "      <td>3</td>\n",
       "      <td>1</td>\n",
       "      <td>4</td>\n",
       "      <td>Returning_Visitor</td>\n",
       "      <td>True</td>\n",
       "      <td>False</td>\n",
       "    </tr>\n",
       "    <tr>\n",
       "      <th>5</th>\n",
       "      <td>0</td>\n",
       "      <td>0.0</td>\n",
       "      <td>0</td>\n",
       "      <td>0.0</td>\n",
       "      <td>19</td>\n",
       "      <td>154.216667</td>\n",
       "      <td>0.015789</td>\n",
       "      <td>0.024561</td>\n",
       "      <td>0.0</td>\n",
       "      <td>0.0</td>\n",
       "      <td>Feb</td>\n",
       "      <td>2</td>\n",
       "      <td>2</td>\n",
       "      <td>1</td>\n",
       "      <td>3</td>\n",
       "      <td>Returning_Visitor</td>\n",
       "      <td>False</td>\n",
       "      <td>False</td>\n",
       "    </tr>\n",
       "    <tr>\n",
       "      <th>6</th>\n",
       "      <td>0</td>\n",
       "      <td>0.0</td>\n",
       "      <td>0</td>\n",
       "      <td>0.0</td>\n",
       "      <td>1</td>\n",
       "      <td>0.000000</td>\n",
       "      <td>0.200000</td>\n",
       "      <td>0.200000</td>\n",
       "      <td>0.0</td>\n",
       "      <td>0.4</td>\n",
       "      <td>Feb</td>\n",
       "      <td>2</td>\n",
       "      <td>4</td>\n",
       "      <td>3</td>\n",
       "      <td>3</td>\n",
       "      <td>Returning_Visitor</td>\n",
       "      <td>False</td>\n",
       "      <td>False</td>\n",
       "    </tr>\n",
       "    <tr>\n",
       "      <th>7</th>\n",
       "      <td>1</td>\n",
       "      <td>0.0</td>\n",
       "      <td>0</td>\n",
       "      <td>0.0</td>\n",
       "      <td>0</td>\n",
       "      <td>0.000000</td>\n",
       "      <td>0.200000</td>\n",
       "      <td>0.200000</td>\n",
       "      <td>0.0</td>\n",
       "      <td>0.0</td>\n",
       "      <td>Feb</td>\n",
       "      <td>1</td>\n",
       "      <td>2</td>\n",
       "      <td>1</td>\n",
       "      <td>5</td>\n",
       "      <td>Returning_Visitor</td>\n",
       "      <td>True</td>\n",
       "      <td>False</td>\n",
       "    </tr>\n",
       "    <tr>\n",
       "      <th>8</th>\n",
       "      <td>0</td>\n",
       "      <td>0.0</td>\n",
       "      <td>0</td>\n",
       "      <td>0.0</td>\n",
       "      <td>2</td>\n",
       "      <td>37.000000</td>\n",
       "      <td>0.000000</td>\n",
       "      <td>0.100000</td>\n",
       "      <td>0.0</td>\n",
       "      <td>0.8</td>\n",
       "      <td>Feb</td>\n",
       "      <td>2</td>\n",
       "      <td>2</td>\n",
       "      <td>2</td>\n",
       "      <td>3</td>\n",
       "      <td>Returning_Visitor</td>\n",
       "      <td>False</td>\n",
       "      <td>False</td>\n",
       "    </tr>\n",
       "    <tr>\n",
       "      <th>9</th>\n",
       "      <td>0</td>\n",
       "      <td>0.0</td>\n",
       "      <td>0</td>\n",
       "      <td>0.0</td>\n",
       "      <td>3</td>\n",
       "      <td>738.000000</td>\n",
       "      <td>0.000000</td>\n",
       "      <td>0.022222</td>\n",
       "      <td>0.0</td>\n",
       "      <td>0.4</td>\n",
       "      <td>Feb</td>\n",
       "      <td>2</td>\n",
       "      <td>4</td>\n",
       "      <td>1</td>\n",
       "      <td>2</td>\n",
       "      <td>Returning_Visitor</td>\n",
       "      <td>False</td>\n",
       "      <td>False</td>\n",
       "    </tr>\n",
       "  </tbody>\n",
       "</table>\n",
       "</div>"
      ],
      "text/plain": [
       "   Administrative  Administrative_Duration  Informational  \\\n",
       "0               0                      0.0              0   \n",
       "1               0                      0.0              0   \n",
       "2               0                      0.0              0   \n",
       "3               0                      0.0              0   \n",
       "4               0                      0.0              0   \n",
       "5               0                      0.0              0   \n",
       "6               0                      0.0              0   \n",
       "7               1                      0.0              0   \n",
       "8               0                      0.0              0   \n",
       "9               0                      0.0              0   \n",
       "\n",
       "   Informational_Duration  ProductRelated  ProductRelated_Duration  \\\n",
       "0                     0.0               1                 0.000000   \n",
       "1                     0.0               2                64.000000   \n",
       "2                     0.0               1                 0.000000   \n",
       "3                     0.0               2                 2.666667   \n",
       "4                     0.0              10               627.500000   \n",
       "5                     0.0              19               154.216667   \n",
       "6                     0.0               1                 0.000000   \n",
       "7                     0.0               0                 0.000000   \n",
       "8                     0.0               2                37.000000   \n",
       "9                     0.0               3               738.000000   \n",
       "\n",
       "   BounceRates  ExitRates  PageValues  SpecialDay Month  OperatingSystems  \\\n",
       "0     0.200000   0.200000         0.0         0.0   Feb                 1   \n",
       "1     0.000000   0.100000         0.0         0.0   Feb                 2   \n",
       "2     0.200000   0.200000         0.0         0.0   Feb                 4   \n",
       "3     0.050000   0.140000         0.0         0.0   Feb                 3   \n",
       "4     0.020000   0.050000         0.0         0.0   Feb                 3   \n",
       "5     0.015789   0.024561         0.0         0.0   Feb                 2   \n",
       "6     0.200000   0.200000         0.0         0.4   Feb                 2   \n",
       "7     0.200000   0.200000         0.0         0.0   Feb                 1   \n",
       "8     0.000000   0.100000         0.0         0.8   Feb                 2   \n",
       "9     0.000000   0.022222         0.0         0.4   Feb                 2   \n",
       "\n",
       "   Browser  Region  TrafficType        VisitorType  Weekend  Revenue  \n",
       "0        1       1            1  Returning_Visitor    False    False  \n",
       "1        2       1            2  Returning_Visitor    False    False  \n",
       "2        1       9            3  Returning_Visitor    False    False  \n",
       "3        2       2            4  Returning_Visitor    False    False  \n",
       "4        3       1            4  Returning_Visitor     True    False  \n",
       "5        2       1            3  Returning_Visitor    False    False  \n",
       "6        4       3            3  Returning_Visitor    False    False  \n",
       "7        2       1            5  Returning_Visitor     True    False  \n",
       "8        2       2            3  Returning_Visitor    False    False  \n",
       "9        4       1            2  Returning_Visitor    False    False  "
      ]
     },
     "execution_count": 35,
     "metadata": {},
     "output_type": "execute_result"
    }
   ],
   "source": [
    "dataset.head(10)"
   ]
  },
  {
   "cell_type": "code",
   "execution_count": 36,
   "metadata": {},
   "outputs": [],
   "source": [
    "#Categorical features: 'Month','OperatingSystems','Browser','Region','TrafficType','VisitorType','Weekend','Revenue'(Output)\n",
    "#Numerical attributes: 'Administrative','Administrative_Duration','Informational','Informational_Duration','ProductRelated',\n",
    "#'ProductRelated_Duration', 'BounceRates', 'ExitRates', 'PageValues','SpecialDay."
   ]
  },
  {
   "cell_type": "markdown",
   "metadata": {},
   "source": [
    "# Cleaning data"
   ]
  },
  {
   "cell_type": "code",
   "execution_count": 37,
   "metadata": {},
   "outputs": [
    {
     "data": {
      "text/plain": [
       "Administrative             0\n",
       "Administrative_Duration    0\n",
       "Informational              0\n",
       "Informational_Duration     0\n",
       "ProductRelated             0\n",
       "ProductRelated_Duration    0\n",
       "BounceRates                0\n",
       "ExitRates                  0\n",
       "PageValues                 0\n",
       "SpecialDay                 0\n",
       "Month                      0\n",
       "OperatingSystems           0\n",
       "Browser                    0\n",
       "Region                     0\n",
       "TrafficType                0\n",
       "VisitorType                0\n",
       "Weekend                    0\n",
       "Revenue                    0\n",
       "dtype: int64"
      ]
     },
     "execution_count": 37,
     "metadata": {},
     "output_type": "execute_result"
    }
   ],
   "source": [
    "#Search if there are missing values and detect that the given dataset did not contain any.\n",
    "dataset.isna().sum()"
   ]
  },
  {
   "cell_type": "markdown",
   "metadata": {},
   "source": [
    "# Numerical Variables"
   ]
  },
  {
   "cell_type": "code",
   "execution_count": 38,
   "metadata": {
    "scrolled": false
   },
   "outputs": [
    {
     "data": {
      "text/plain": [
       "<matplotlib.axes._subplots.AxesSubplot at 0x284178e0ee0>"
      ]
     },
     "execution_count": 38,
     "metadata": {},
     "output_type": "execute_result"
    },
    {
     "data": {
      "image/png": "[encoded data removed]",
      "text/plain": [
       "<Figure size 1800x720 with 1 Axes>"
      ]
     },
     "metadata": {
      "needs_background": "light"
     },
     "output_type": "display_data"
    }
   ],
   "source": [
    "#Plotting bloxplots for all numerical variables to visualize them in one hand and to detect for outliers on the other.\n",
    "#As can be seen from the graph there are a lot of values out of boxes and we consider them as outliers(we did not remove them\n",
    "#cause we consider as crucial information).\n",
    "num_feat = dataset[['Administrative','Administrative_Duration','Informational','Informational_Duration','ProductRelated',\n",
    "                    'ProductRelated_Duration', 'BounceRates', 'ExitRates', 'PageValues','SpecialDay']]\n",
    "plt.figure(figsize = (25,10)) \n",
    "num_feat.boxplot()"
   ]
  },
  {
   "cell_type": "markdown",
   "metadata": {},
   "source": [
    "Plot histograms for each numerical feature to visualize useful information."
   ]
  },
  {
   "cell_type": "code",
   "execution_count": 39,
   "metadata": {},
   "outputs": [
    {
     "data": {
      "text/plain": [
       "<matplotlib.axes._subplots.AxesSubplot at 0x28419a7d1c0>"
      ]
     },
     "execution_count": 39,
     "metadata": {},
     "output_type": "execute_result"
    },
    {
     "data": {
      "image/png": "[encoded data removed]",
      "text/plain": [
       "<Figure size 432x288 with 1 Axes>"
      ]
     },
     "metadata": {
      "needs_background": "light"
     },
     "output_type": "display_data"
    }
   ],
   "source": [
    "sns.distplot(dataset['Administrative'])"
   ]
  },
  {
   "cell_type": "code",
   "execution_count": 40,
   "metadata": {},
   "outputs": [
    {
     "data": {
      "text/plain": [
       "<matplotlib.axes._subplots.AxesSubplot at 0x28419c5f0d0>"
      ]
     },
     "execution_count": 40,
     "metadata": {},
     "output_type": "execute_result"
    },
    {
     "data": {
      "image/png": "[encoded data removed]",
      "text/plain": [
       "<Figure size 432x288 with 1 Axes>"
      ]
     },
     "metadata": {
      "needs_background": "light"
     },
     "output_type": "display_data"
    }
   ],
   "source": [
    "sns.distplot(dataset['Administrative_Duration'])"
   ]
  },
  {
   "cell_type": "code",
   "execution_count": 41,
   "metadata": {},
   "outputs": [
    {
     "data": {
      "text/plain": [
       "<matplotlib.axes._subplots.AxesSubplot at 0x2841ae42880>"
      ]
     },
     "execution_count": 41,
     "metadata": {},
     "output_type": "execute_result"
    },
    {
     "data": {
      "image/png": "[encoded data removed]",
      "text/plain": [
       "<Figure size 432x288 with 1 Axes>"
      ]
     },
     "metadata": {
      "needs_background": "light"
     },
     "output_type": "display_data"
    }
   ],
   "source": [
    "sns.distplot(dataset['Informational'],kde_kws = {'bw' : 0.2})"
   ]
  },
  {
   "cell_type": "code",
   "execution_count": 42,
   "metadata": {},
   "outputs": [
    {
     "data": {
      "text/plain": [
       "<matplotlib.axes._subplots.AxesSubplot at 0x2841af1e5b0>"
      ]
     },
     "execution_count": 42,
     "metadata": {},
     "output_type": "execute_result"
    },
    {
     "data": {
      "image/png": "[encoded data removed]",
      "text/plain": [
       "<Figure size 432x288 with 1 Axes>"
      ]
     },
     "metadata": {
      "needs_background": "light"
     },
     "output_type": "display_data"
    }
   ],
   "source": [
    "sns.distplot(dataset['Informational_Duration'],kde_kws = {'bw' :0.2})"
   ]
  },
  {
   "cell_type": "code",
   "execution_count": 43,
   "metadata": {},
   "outputs": [
    {
     "data": {
      "text/plain": [
       "<matplotlib.axes._subplots.AxesSubplot at 0x2841afeb910>"
      ]
     },
     "execution_count": 43,
     "metadata": {},
     "output_type": "execute_result"
    },
    {
     "data": {
      "image/png": "[encoded data removed]",
      "text/plain": [
       "<Figure size 432x288 with 1 Axes>"
      ]
     },
     "metadata": {
      "needs_background": "light"
     },
     "output_type": "display_data"
    }
   ],
   "source": [
    "sns.distplot(dataset['ProductRelated'])"
   ]
  },
  {
   "cell_type": "code",
   "execution_count": 44,
   "metadata": {},
   "outputs": [
    {
     "data": {
      "text/plain": [
       "<matplotlib.axes._subplots.AxesSubplot at 0x2841b0d0b80>"
      ]
     },
     "execution_count": 44,
     "metadata": {},
     "output_type": "execute_result"
    },
    {
     "data": {
      "image/png": "[encoded data removed]",
      "text/plain": [
       "<Figure size 432x288 with 1 Axes>"
      ]
     },
     "metadata": {
      "needs_background": "light"
     },
     "output_type": "display_data"
    }
   ],
   "source": [
    "sns.distplot(dataset['ProductRelated_Duration'])"
   ]
  },
  {
   "cell_type": "code",
   "execution_count": 45,
   "metadata": {},
   "outputs": [
    {
     "data": {
      "text/plain": [
       "<matplotlib.axes._subplots.AxesSubplot at 0x28419a8e520>"
      ]
     },
     "execution_count": 45,
     "metadata": {},
     "output_type": "execute_result"
    },
    {
     "data": {
      "image/png": "[encoded data removed]",
      "text/plain": [
       "<Figure size 432x288 with 1 Axes>"
      ]
     },
     "metadata": {
      "needs_background": "light"
     },
     "output_type": "display_data"
    }
   ],
   "source": [
    "sns.distplot(dataset['BounceRates'])"
   ]
  },
  {
   "cell_type": "code",
   "execution_count": 46,
   "metadata": {},
   "outputs": [
    {
     "data": {
      "text/plain": [
       "<matplotlib.axes._subplots.AxesSubplot at 0x2841b2417c0>"
      ]
     },
     "execution_count": 46,
     "metadata": {},
     "output_type": "execute_result"
    },
    {
     "data": {
      "image/png": "[encoded data removed]",
      "text/plain": [
       "<Figure size 432x288 with 1 Axes>"
      ]
     },
     "metadata": {
      "needs_background": "light"
     },
     "output_type": "display_data"
    }
   ],
   "source": [
    "sns.distplot(dataset['ExitRates'])"
   ]
  },
  {
   "cell_type": "code",
   "execution_count": 47,
   "metadata": {},
   "outputs": [
    {
     "data": {
      "text/plain": [
       "<matplotlib.axes._subplots.AxesSubplot at 0x2841b65a0a0>"
      ]
     },
     "execution_count": 47,
     "metadata": {},
     "output_type": "execute_result"
    },
    {
     "data": {
      "image/png": "[encoded data removed]",
      "text/plain": [
       "<Figure size 432x288 with 1 Axes>"
      ]
     },
     "metadata": {
      "needs_background": "light"
     },
     "output_type": "display_data"
    }
   ],
   "source": [
    "sns.distplot(dataset['PageValues'],kde_kws = {'bw' : 0.2})"
   ]
  },
  {
   "cell_type": "code",
   "execution_count": 48,
   "metadata": {},
   "outputs": [
    {
     "data": {
      "text/plain": [
       "<matplotlib.axes._subplots.AxesSubplot at 0x2841b73fd00>"
      ]
     },
     "execution_count": 48,
     "metadata": {},
     "output_type": "execute_result"
    },
    {
     "data": {
      "image/png": "[encoded data removed]",
      "text/plain": [
       "<Figure size 432x288 with 1 Axes>"
      ]
     },
     "metadata": {
      "needs_background": "light"
     },
     "output_type": "display_data"
    }
   ],
   "source": [
    "sns.distplot(dataset['SpecialDay'],kde_kws = {'bw' : 0.2})"
   ]
  },
  {
   "cell_type": "markdown",
   "metadata": {},
   "source": [
    "# Categorical Variables\n",
    "Count plot for each attribute to check how many values each category contains."
   ]
  },
  {
   "cell_type": "code",
   "execution_count": 49,
   "metadata": {},
   "outputs": [
    {
     "data": {
      "text/plain": [
       "<seaborn.axisgrid.FacetGrid at 0x2841ad4e2b0>"
      ]
     },
     "execution_count": 49,
     "metadata": {},
     "output_type": "execute_result"
    },
    {
     "data": {
      "image/png": "[encoded data removed]",
      "text/plain": [
       "<Figure size 360x360 with 1 Axes>"
      ]
     },
     "metadata": {
      "needs_background": "light"
     },
     "output_type": "display_data"
    }
   ],
   "source": [
    "sns.catplot(x='Month', kind='count', data=dataset)"
   ]
  },
  {
   "cell_type": "code",
   "execution_count": 50,
   "metadata": {},
   "outputs": [
    {
     "data": {
      "text/plain": [
       "<seaborn.axisgrid.FacetGrid at 0x2841b069880>"
      ]
     },
     "execution_count": 50,
     "metadata": {},
     "output_type": "execute_result"
    },
    {
     "data": {
      "image/png": "[encoded data removed]",
      "text/plain": [
       "<Figure size 360x360 with 1 Axes>"
      ]
     },
     "metadata": {
      "needs_background": "light"
     },
     "output_type": "display_data"
    }
   ],
   "source": [
    "sns.catplot(x='OperatingSystems', kind='count', data=dataset)"
   ]
  },
  {
   "cell_type": "code",
   "execution_count": 51,
   "metadata": {},
   "outputs": [
    {
     "data": {
      "text/plain": [
       "<seaborn.axisgrid.FacetGrid at 0x2841b7fafa0>"
      ]
     },
     "execution_count": 51,
     "metadata": {},
     "output_type": "execute_result"
    },
    {
     "data": {
      "image/png": "[encoded data removed]",
      "text/plain": [
       "<Figure size 360x360 with 1 Axes>"
      ]
     },
     "metadata": {
      "needs_background": "light"
     },
     "output_type": "display_data"
    }
   ],
   "source": [
    "sns.catplot(x='Browser', kind='count', data=dataset)"
   ]
  },
  {
   "cell_type": "code",
   "execution_count": 52,
   "metadata": {},
   "outputs": [
    {
     "data": {
      "text/plain": [
       "<seaborn.axisgrid.FacetGrid at 0x2841b816a00>"
      ]
     },
     "execution_count": 52,
     "metadata": {},
     "output_type": "execute_result"
    },
    {
     "data": {
      "image/png": "[encoded data removed]",
      "text/plain": [
       "<Figure size 360x360 with 1 Axes>"
      ]
     },
     "metadata": {
      "needs_background": "light"
     },
     "output_type": "display_data"
    }
   ],
   "source": [
    "sns.catplot(x='Region', kind='count', data=dataset)"
   ]
  },
  {
   "cell_type": "code",
   "execution_count": 53,
   "metadata": {},
   "outputs": [
    {
     "data": {
      "text/plain": [
       "<seaborn.axisgrid.FacetGrid at 0x2841cd400a0>"
      ]
     },
     "execution_count": 53,
     "metadata": {},
     "output_type": "execute_result"
    },
    {
     "data": {
      "image/png": "[encoded data removed]",
      "text/plain": [
       "<Figure size 360x360 with 1 Axes>"
      ]
     },
     "metadata": {
      "needs_background": "light"
     },
     "output_type": "display_data"
    }
   ],
   "source": [
    "sns.catplot(x='TrafficType', kind='count', data=dataset)"
   ]
  },
  {
   "cell_type": "code",
   "execution_count": 54,
   "metadata": {},
   "outputs": [
    {
     "data": {
      "text/plain": [
       "<seaborn.axisgrid.FacetGrid at 0x2841c8691f0>"
      ]
     },
     "execution_count": 54,
     "metadata": {},
     "output_type": "execute_result"
    },
    {
     "data": {
      "image/png": "[encoded data removed]",
      "text/plain": [
       "<Figure size 360x360 with 1 Axes>"
      ]
     },
     "metadata": {
      "needs_background": "light"
     },
     "output_type": "display_data"
    }
   ],
   "source": [
    "sns.catplot(x='VisitorType', kind='count', data=dataset)"
   ]
  },
  {
   "cell_type": "code",
   "execution_count": 55,
   "metadata": {},
   "outputs": [
    {
     "data": {
      "text/plain": [
       "<seaborn.axisgrid.FacetGrid at 0x2841ce4ee50>"
      ]
     },
     "execution_count": 55,
     "metadata": {},
     "output_type": "execute_result"
    },
    {
     "data": {
      "image/png": "[encoded data removed]",
      "text/plain": [
       "<Figure size 360x360 with 1 Axes>"
      ]
     },
     "metadata": {
      "needs_background": "light"
     },
     "output_type": "display_data"
    }
   ],
   "source": [
    "sns.catplot(x='Weekend', kind='count', data=dataset)"
   ]
  },
  {
   "cell_type": "code",
   "execution_count": 56,
   "metadata": {},
   "outputs": [
    {
     "data": {
      "text/plain": [
       "<seaborn.axisgrid.FacetGrid at 0x2841c849430>"
      ]
     },
     "execution_count": 56,
     "metadata": {},
     "output_type": "execute_result"
    },
    {
     "data": {
      "image/png": "[encoded data removed]",
      "text/plain": [
       "<Figure size 360x360 with 1 Axes>"
      ]
     },
     "metadata": {
      "needs_background": "light"
     },
     "output_type": "display_data"
    }
   ],
   "source": [
    "sns.catplot(x='Revenue', kind='count', data=dataset)"
   ]
  },
  {
   "cell_type": "code",
   "execution_count": 57,
   "metadata": {},
   "outputs": [
    {
     "data": {
      "text/plain": [
       "False    10422\n",
       "True      1908\n",
       "Name: Revenue, dtype: int64"
      ]
     },
     "execution_count": 57,
     "metadata": {},
     "output_type": "execute_result"
    }
   ],
   "source": [
    "dataset['Revenue'].value_counts()\n",
    "#We can easily detect that we have imbalance data cause False has approximately 5 times the values of True(ratio 5:1)."
   ]
  },
  {
   "cell_type": "markdown",
   "metadata": {},
   "source": [
    "# Correlation(Linear Dependence)"
   ]
  },
  {
   "cell_type": "code",
   "execution_count": 58,
   "metadata": {},
   "outputs": [
    {
     "data": {
      "text/plain": [
       "<seaborn.axisgrid.FacetGrid at 0x2841cf1cf10>"
      ]
     },
     "execution_count": 58,
     "metadata": {},
     "output_type": "execute_result"
    },
    {
     "data": {
      "image/png": "[encoded data removed]",
      "text/plain": [
       "<Figure size 439.375x360 with 1 Axes>"
      ]
     },
     "metadata": {
      "needs_background": "light"
     },
     "output_type": "display_data"
    }
   ],
   "source": [
    "sns.relplot(\n",
    "    data=dataset, x=\"ProductRelated\", y=\"ProductRelated_Duration\", hue=\"Revenue\",\n",
    "    kind=\"scatter\")"
   ]
  },
  {
   "cell_type": "code",
   "execution_count": 59,
   "metadata": {},
   "outputs": [
    {
     "data": {
      "text/plain": [
       "<seaborn.axisgrid.FacetGrid at 0x2841c986130>"
      ]
     },
     "execution_count": 59,
     "metadata": {},
     "output_type": "execute_result"
    },
    {
     "data": {
      "image/png": "[encoded data removed]",
      "text/plain": [
       "<Figure size 439.375x360 with 1 Axes>"
      ]
     },
     "metadata": {
      "needs_background": "light"
     },
     "output_type": "display_data"
    }
   ],
   "source": [
    "sns.relplot(\n",
    "    data=dataset, x=\"BounceRates\", y=\"ExitRates\", hue=\"Revenue\",\n",
    "    kind=\"scatter\")"
   ]
  },
  {
   "cell_type": "code",
   "execution_count": 60,
   "metadata": {},
   "outputs": [
    {
     "data": {
      "text/plain": [
       "<seaborn.axisgrid.FacetGrid at 0x2841cfc3700>"
      ]
     },
     "execution_count": 60,
     "metadata": {},
     "output_type": "execute_result"
    },
    {
     "data": {
      "image/png": "[encoded data removed]",
      "text/plain": [
       "<Figure size 439.375x360 with 1 Axes>"
      ]
     },
     "metadata": {
      "needs_background": "light"
     },
     "output_type": "display_data"
    }
   ],
   "source": [
    "sns.relplot(\n",
    "    data=dataset, x=\"Informational\", y=\"Informational_Duration\", hue=\"Revenue\",\n",
    "    kind=\"scatter\")"
   ]
  },
  {
   "cell_type": "code",
   "execution_count": 61,
   "metadata": {},
   "outputs": [],
   "source": [
    "#Looking both the scatter plots above and the correlation matrix below we understand linear collinearity between \n",
    "#Informational-Informational_Duration,ExitRates-BounceRates,ProductRelated-ProductRelated_Duration"
   ]
  },
  {
   "cell_type": "code",
   "execution_count": 62,
   "metadata": {
    "scrolled": true
   },
   "outputs": [
    {
     "data": {
      "text/html": [
       "<style  type=\"text/css\" >\n",
       "    #T_345adb21_64e3_11eb_986d_c03eba503751row0_col0 {\n",
       "            background-color:  #b40426;\n",
       "            color:  #f1f1f1;\n",
       "        }    #T_345adb21_64e3_11eb_986d_c03eba503751row0_col1 {\n",
       "            background-color:  #f7b79b;\n",
       "            color:  #000000;\n",
       "        }    #T_345adb21_64e3_11eb_986d_c03eba503751row0_col2 {\n",
       "            background-color:  #d3dbe7;\n",
       "            color:  #000000;\n",
       "        }    #T_345adb21_64e3_11eb_986d_c03eba503751row0_col3 {\n",
       "            background-color:  #a7c5fe;\n",
       "            color:  #000000;\n",
       "        }    #T_345adb21_64e3_11eb_986d_c03eba503751row0_col4 {\n",
       "            background-color:  #ebd3c6;\n",
       "            color:  #000000;\n",
       "        }    #T_345adb21_64e3_11eb_986d_c03eba503751row0_col5 {\n",
       "            background-color:  #dcdddd;\n",
       "            color:  #000000;\n",
       "        }    #T_345adb21_64e3_11eb_986d_c03eba503751row0_col6 {\n",
       "            background-color:  #3b4cc0;\n",
       "            color:  #f1f1f1;\n",
       "        }    #T_345adb21_64e3_11eb_986d_c03eba503751row0_col7 {\n",
       "            background-color:  #3b4cc0;\n",
       "            color:  #f1f1f1;\n",
       "        }    #T_345adb21_64e3_11eb_986d_c03eba503751row0_col8 {\n",
       "            background-color:  #86a9fc;\n",
       "            color:  #000000;\n",
       "        }    #T_345adb21_64e3_11eb_986d_c03eba503751row0_col9 {\n",
       "            background-color:  #3b4cc0;\n",
       "            color:  #f1f1f1;\n",
       "        }    #T_345adb21_64e3_11eb_986d_c03eba503751row1_col0 {\n",
       "            background-color:  #f7ad90;\n",
       "            color:  #000000;\n",
       "        }    #T_345adb21_64e3_11eb_986d_c03eba503751row1_col1 {\n",
       "            background-color:  #b40426;\n",
       "            color:  #f1f1f1;\n",
       "        }    #T_345adb21_64e3_11eb_986d_c03eba503751row1_col2 {\n",
       "            background-color:  #c0d4f5;\n",
       "            color:  #000000;\n",
       "        }    #T_345adb21_64e3_11eb_986d_c03eba503751row1_col3 {\n",
       "            background-color:  #a2c1ff;\n",
       "            color:  #000000;\n",
       "        }    #T_345adb21_64e3_11eb_986d_c03eba503751row1_col4 {\n",
       "            background-color:  #cfdaea;\n",
       "            color:  #000000;\n",
       "        }    #T_345adb21_64e3_11eb_986d_c03eba503751row1_col5 {\n",
       "            background-color:  #d9dce1;\n",
       "            color:  #000000;\n",
       "        }    #T_345adb21_64e3_11eb_986d_c03eba503751row1_col6 {\n",
       "            background-color:  #4e68d8;\n",
       "            color:  #000000;\n",
       "        }    #T_345adb21_64e3_11eb_986d_c03eba503751row1_col7 {\n",
       "            background-color:  #5470de;\n",
       "            color:  #000000;\n",
       "        }    #T_345adb21_64e3_11eb_986d_c03eba503751row1_col8 {\n",
       "            background-color:  #7da0f9;\n",
       "            color:  #000000;\n",
       "        }    #T_345adb21_64e3_11eb_986d_c03eba503751row1_col9 {\n",
       "            background-color:  #4055c8;\n",
       "            color:  #f1f1f1;\n",
       "        }    #T_345adb21_64e3_11eb_986d_c03eba503751row2_col0 {\n",
       "            background-color:  #e3d9d3;\n",
       "            color:  #000000;\n",
       "        }    #T_345adb21_64e3_11eb_986d_c03eba503751row2_col1 {\n",
       "            background-color:  #c6d6f1;\n",
       "            color:  #000000;\n",
       "        }    #T_345adb21_64e3_11eb_986d_c03eba503751row2_col2 {\n",
       "            background-color:  #b40426;\n",
       "            color:  #f1f1f1;\n",
       "        }    #T_345adb21_64e3_11eb_986d_c03eba503751row2_col3 {\n",
       "            background-color:  #f7bca1;\n",
       "            color:  #000000;\n",
       "        }    #T_345adb21_64e3_11eb_986d_c03eba503751row2_col4 {\n",
       "            background-color:  #e1dad6;\n",
       "            color:  #000000;\n",
       "        }    #T_345adb21_64e3_11eb_986d_c03eba503751row2_col5 {\n",
       "            background-color:  #dfdbd9;\n",
       "            color:  #000000;\n",
       "        }    #T_345adb21_64e3_11eb_986d_c03eba503751row2_col6 {\n",
       "            background-color:  #5572df;\n",
       "            color:  #000000;\n",
       "        }    #T_345adb21_64e3_11eb_986d_c03eba503751row2_col7 {\n",
       "            background-color:  #5e7de7;\n",
       "            color:  #000000;\n",
       "        }    #T_345adb21_64e3_11eb_986d_c03eba503751row2_col8 {\n",
       "            background-color:  #779af7;\n",
       "            color:  #000000;\n",
       "        }    #T_345adb21_64e3_11eb_986d_c03eba503751row2_col9 {\n",
       "            background-color:  #465ecf;\n",
       "            color:  #f1f1f1;\n",
       "        }    #T_345adb21_64e3_11eb_986d_c03eba503751row3_col0 {\n",
       "            background-color:  #cbd8ee;\n",
       "            color:  #000000;\n",
       "        }    #T_345adb21_64e3_11eb_986d_c03eba503751row3_col1 {\n",
       "            background-color:  #b6cefa;\n",
       "            color:  #000000;\n",
       "        }    #T_345adb21_64e3_11eb_986d_c03eba503751row3_col2 {\n",
       "            background-color:  #f7b599;\n",
       "            color:  #000000;\n",
       "        }    #T_345adb21_64e3_11eb_986d_c03eba503751row3_col3 {\n",
       "            background-color:  #b40426;\n",
       "            color:  #f1f1f1;\n",
       "        }    #T_345adb21_64e3_11eb_986d_c03eba503751row3_col4 {\n",
       "            background-color:  #cdd9ec;\n",
       "            color:  #000000;\n",
       "        }    #T_345adb21_64e3_11eb_986d_c03eba503751row3_col5 {\n",
       "            background-color:  #d7dce3;\n",
       "            color:  #000000;\n",
       "        }    #T_345adb21_64e3_11eb_986d_c03eba503751row3_col6 {\n",
       "            background-color:  #6180e9;\n",
       "            color:  #000000;\n",
       "        }    #T_345adb21_64e3_11eb_986d_c03eba503751row3_col7 {\n",
       "            background-color:  #6e90f2;\n",
       "            color:  #000000;\n",
       "        }    #T_345adb21_64e3_11eb_986d_c03eba503751row3_col8 {\n",
       "            background-color:  #7295f4;\n",
       "            color:  #000000;\n",
       "        }    #T_345adb21_64e3_11eb_986d_c03eba503751row3_col9 {\n",
       "            background-color:  #4c66d6;\n",
       "            color:  #000000;\n",
       "        }    #T_345adb21_64e3_11eb_986d_c03eba503751row4_col0 {\n",
       "            background-color:  #edd2c3;\n",
       "            color:  #000000;\n",
       "        }    #T_345adb21_64e3_11eb_986d_c03eba503751row4_col1 {\n",
       "            background-color:  #c4d5f3;\n",
       "            color:  #000000;\n",
       "        }    #T_345adb21_64e3_11eb_986d_c03eba503751row4_col2 {\n",
       "            background-color:  #d3dbe7;\n",
       "            color:  #000000;\n",
       "        }    #T_345adb21_64e3_11eb_986d_c03eba503751row4_col3 {\n",
       "            background-color:  #afcafc;\n",
       "            color:  #000000;\n",
       "        }    #T_345adb21_64e3_11eb_986d_c03eba503751row4_col4 {\n",
       "            background-color:  #b40426;\n",
       "            color:  #f1f1f1;\n",
       "        }    #T_345adb21_64e3_11eb_986d_c03eba503751row4_col5 {\n",
       "            background-color:  #d95847;\n",
       "            color:  #000000;\n",
       "        }    #T_345adb21_64e3_11eb_986d_c03eba503751row4_col6 {\n",
       "            background-color:  #3e51c5;\n",
       "            color:  #f1f1f1;\n",
       "        }    #T_345adb21_64e3_11eb_986d_c03eba503751row4_col7 {\n",
       "            background-color:  #3f53c6;\n",
       "            color:  #f1f1f1;\n",
       "        }    #T_345adb21_64e3_11eb_986d_c03eba503751row4_col8 {\n",
       "            background-color:  #7a9df8;\n",
       "            color:  #000000;\n",
       "        }    #T_345adb21_64e3_11eb_986d_c03eba503751row4_col9 {\n",
       "            background-color:  #4e68d8;\n",
       "            color:  #000000;\n",
       "        }    #T_345adb21_64e3_11eb_986d_c03eba503751row5_col0 {\n",
       "            background-color:  #e3d9d3;\n",
       "            color:  #000000;\n",
       "        }    #T_345adb21_64e3_11eb_986d_c03eba503751row5_col1 {\n",
       "            background-color:  #d4dbe6;\n",
       "            color:  #000000;\n",
       "        }    #T_345adb21_64e3_11eb_986d_c03eba503751row5_col2 {\n",
       "            background-color:  #d6dce4;\n",
       "            color:  #000000;\n",
       "        }    #T_345adb21_64e3_11eb_986d_c03eba503751row5_col3 {\n",
       "            background-color:  #c3d5f4;\n",
       "            color:  #000000;\n",
       "        }    #T_345adb21_64e3_11eb_986d_c03eba503751row5_col4 {\n",
       "            background-color:  #d85646;\n",
       "            color:  #000000;\n",
       "        }    #T_345adb21_64e3_11eb_986d_c03eba503751row5_col5 {\n",
       "            background-color:  #b40426;\n",
       "            color:  #f1f1f1;\n",
       "        }    #T_345adb21_64e3_11eb_986d_c03eba503751row5_col6 {\n",
       "            background-color:  #445acc;\n",
       "            color:  #f1f1f1;\n",
       "        }    #T_345adb21_64e3_11eb_986d_c03eba503751row5_col7 {\n",
       "            background-color:  #4961d2;\n",
       "            color:  #f1f1f1;\n",
       "        }    #T_345adb21_64e3_11eb_986d_c03eba503751row5_col8 {\n",
       "            background-color:  #799cf8;\n",
       "            color:  #000000;\n",
       "        }    #T_345adb21_64e3_11eb_986d_c03eba503751row5_col9 {\n",
       "            background-color:  #4a63d3;\n",
       "            color:  #f1f1f1;\n",
       "        }    #T_345adb21_64e3_11eb_986d_c03eba503751row6_col0 {\n",
       "            background-color:  #506bda;\n",
       "            color:  #000000;\n",
       "        }    #T_345adb21_64e3_11eb_986d_c03eba503751row6_col1 {\n",
       "            background-color:  #4a63d3;\n",
       "            color:  #f1f1f1;\n",
       "        }    #T_345adb21_64e3_11eb_986d_c03eba503751row6_col2 {\n",
       "            background-color:  #465ecf;\n",
       "            color:  #f1f1f1;\n",
       "        }    #T_345adb21_64e3_11eb_986d_c03eba503751row6_col3 {\n",
       "            background-color:  #4358cb;\n",
       "            color:  #f1f1f1;\n",
       "        }    #T_345adb21_64e3_11eb_986d_c03eba503751row6_col4 {\n",
       "            background-color:  #4f69d9;\n",
       "            color:  #000000;\n",
       "        }    #T_345adb21_64e3_11eb_986d_c03eba503751row6_col5 {\n",
       "            background-color:  #4a63d3;\n",
       "            color:  #f1f1f1;\n",
       "        }    #T_345adb21_64e3_11eb_986d_c03eba503751row6_col6 {\n",
       "            background-color:  #b40426;\n",
       "            color:  #f1f1f1;\n",
       "        }    #T_345adb21_64e3_11eb_986d_c03eba503751row6_col7 {\n",
       "            background-color:  #cb3e38;\n",
       "            color:  #f1f1f1;\n",
       "        }    #T_345adb21_64e3_11eb_986d_c03eba503751row6_col8 {\n",
       "            background-color:  #4961d2;\n",
       "            color:  #f1f1f1;\n",
       "        }    #T_345adb21_64e3_11eb_986d_c03eba503751row6_col9 {\n",
       "            background-color:  #6b8df0;\n",
       "            color:  #000000;\n",
       "        }    #T_345adb21_64e3_11eb_986d_c03eba503751row7_col0 {\n",
       "            background-color:  #3b4cc0;\n",
       "            color:  #f1f1f1;\n",
       "        }    #T_345adb21_64e3_11eb_986d_c03eba503751row7_col1 {\n",
       "            background-color:  #3b4cc0;\n",
       "            color:  #f1f1f1;\n",
       "        }    #T_345adb21_64e3_11eb_986d_c03eba503751row7_col2 {\n",
       "            background-color:  #3b4cc0;\n",
       "            color:  #f1f1f1;\n",
       "        }    #T_345adb21_64e3_11eb_986d_c03eba503751row7_col3 {\n",
       "            background-color:  #3b4cc0;\n",
       "            color:  #f1f1f1;\n",
       "        }    #T_345adb21_64e3_11eb_986d_c03eba503751row7_col4 {\n",
       "            background-color:  #3b4cc0;\n",
       "            color:  #f1f1f1;\n",
       "        }    #T_345adb21_64e3_11eb_986d_c03eba503751row7_col5 {\n",
       "            background-color:  #3b4cc0;\n",
       "            color:  #f1f1f1;\n",
       "        }    #T_345adb21_64e3_11eb_986d_c03eba503751row7_col6 {\n",
       "            background-color:  #cd423b;\n",
       "            color:  #f1f1f1;\n",
       "        }    #T_345adb21_64e3_11eb_986d_c03eba503751row7_col7 {\n",
       "            background-color:  #b40426;\n",
       "            color:  #f1f1f1;\n",
       "        }    #T_345adb21_64e3_11eb_986d_c03eba503751row7_col8 {\n",
       "            background-color:  #3b4cc0;\n",
       "            color:  #f1f1f1;\n",
       "        }    #T_345adb21_64e3_11eb_986d_c03eba503751row7_col9 {\n",
       "            background-color:  #7597f6;\n",
       "            color:  #000000;\n",
       "        }    #T_345adb21_64e3_11eb_986d_c03eba503751row8_col0 {\n",
       "            background-color:  #a3c2fe;\n",
       "            color:  #000000;\n",
       "        }    #T_345adb21_64e3_11eb_986d_c03eba503751row8_col1 {\n",
       "            background-color:  #85a8fc;\n",
       "            color:  #000000;\n",
       "        }    #T_345adb21_64e3_11eb_986d_c03eba503751row8_col2 {\n",
       "            background-color:  #7597f6;\n",
       "            color:  #000000;\n",
       "        }    #T_345adb21_64e3_11eb_986d_c03eba503751row8_col3 {\n",
       "            background-color:  #6180e9;\n",
       "            color:  #000000;\n",
       "        }    #T_345adb21_64e3_11eb_986d_c03eba503751row8_col4 {\n",
       "            background-color:  #94b6ff;\n",
       "            color:  #000000;\n",
       "        }    #T_345adb21_64e3_11eb_986d_c03eba503751row8_col5 {\n",
       "            background-color:  #8badfd;\n",
       "            color:  #000000;\n",
       "        }    #T_345adb21_64e3_11eb_986d_c03eba503751row8_col6 {\n",
       "            background-color:  #5470de;\n",
       "            color:  #000000;\n",
       "        }    #T_345adb21_64e3_11eb_986d_c03eba503751row8_col7 {\n",
       "            background-color:  #5b7ae5;\n",
       "            color:  #000000;\n",
       "        }    #T_345adb21_64e3_11eb_986d_c03eba503751row8_col8 {\n",
       "            background-color:  #b40426;\n",
       "            color:  #f1f1f1;\n",
       "        }    #T_345adb21_64e3_11eb_986d_c03eba503751row8_col9 {\n",
       "            background-color:  #4358cb;\n",
       "            color:  #f1f1f1;\n",
       "        }    #T_345adb21_64e3_11eb_986d_c03eba503751row9_col0 {\n",
       "            background-color:  #7093f3;\n",
       "            color:  #000000;\n",
       "        }    #T_345adb21_64e3_11eb_986d_c03eba503751row9_col1 {\n",
       "            background-color:  #5d7ce6;\n",
       "            color:  #000000;\n",
       "        }    #T_345adb21_64e3_11eb_986d_c03eba503751row9_col2 {\n",
       "            background-color:  #5977e3;\n",
       "            color:  #000000;\n",
       "        }    #T_345adb21_64e3_11eb_986d_c03eba503751row9_col3 {\n",
       "            background-color:  #4f69d9;\n",
       "            color:  #000000;\n",
       "        }    #T_345adb21_64e3_11eb_986d_c03eba503751row9_col4 {\n",
       "            background-color:  #7ea1fa;\n",
       "            color:  #000000;\n",
       "        }    #T_345adb21_64e3_11eb_986d_c03eba503751row9_col5 {\n",
       "            background-color:  #7295f4;\n",
       "            color:  #000000;\n",
       "        }    #T_345adb21_64e3_11eb_986d_c03eba503751row9_col6 {\n",
       "            background-color:  #89acfd;\n",
       "            color:  #000000;\n",
       "        }    #T_345adb21_64e3_11eb_986d_c03eba503751row9_col7 {\n",
       "            background-color:  #a5c3fe;\n",
       "            color:  #000000;\n",
       "        }    #T_345adb21_64e3_11eb_986d_c03eba503751row9_col8 {\n",
       "            background-color:  #5875e1;\n",
       "            color:  #000000;\n",
       "        }    #T_345adb21_64e3_11eb_986d_c03eba503751row9_col9 {\n",
       "            background-color:  #b40426;\n",
       "            color:  #f1f1f1;\n",
       "        }</style><table id=\"T_345adb21_64e3_11eb_986d_c03eba503751\" ><thead>    <tr>        <th class=\"blank level0\" ></th>        <th class=\"col_heading level0 col0\" >Administrative</th>        <th class=\"col_heading level0 col1\" >Administrative_Duration</th>        <th class=\"col_heading level0 col2\" >Informational</th>        <th class=\"col_heading level0 col3\" >Informational_Duration</th>        <th class=\"col_heading level0 col4\" >ProductRelated</th>        <th class=\"col_heading level0 col5\" >ProductRelated_Duration</th>        <th class=\"col_heading level0 col6\" >BounceRates</th>        <th class=\"col_heading level0 col7\" >ExitRates</th>        <th class=\"col_heading level0 col8\" >PageValues</th>        <th class=\"col_heading level0 col9\" >SpecialDay</th>    </tr></thead><tbody>\n",
       "                <tr>\n",
       "                        <th id=\"T_345adb21_64e3_11eb_986d_c03eba503751level0_row0\" class=\"row_heading level0 row0\" >Administrative</th>\n",
       "                        <td id=\"T_345adb21_64e3_11eb_986d_c03eba503751row0_col0\" class=\"data row0 col0\" >1.000000</td>\n",
       "                        <td id=\"T_345adb21_64e3_11eb_986d_c03eba503751row0_col1\" class=\"data row0 col1\" >0.601583</td>\n",
       "                        <td id=\"T_345adb21_64e3_11eb_986d_c03eba503751row0_col2\" class=\"data row0 col2\" >0.376850</td>\n",
       "                        <td id=\"T_345adb21_64e3_11eb_986d_c03eba503751row0_col3\" class=\"data row0 col3\" >0.255848</td>\n",
       "                        <td id=\"T_345adb21_64e3_11eb_986d_c03eba503751row0_col4\" class=\"data row0 col4\" >0.431119</td>\n",
       "                        <td id=\"T_345adb21_64e3_11eb_986d_c03eba503751row0_col5\" class=\"data row0 col5\" >0.373939</td>\n",
       "                        <td id=\"T_345adb21_64e3_11eb_986d_c03eba503751row0_col6\" class=\"data row0 col6\" >-0.223563</td>\n",
       "                        <td id=\"T_345adb21_64e3_11eb_986d_c03eba503751row0_col7\" class=\"data row0 col7\" >-0.316483</td>\n",
       "                        <td id=\"T_345adb21_64e3_11eb_986d_c03eba503751row0_col8\" class=\"data row0 col8\" >0.098990</td>\n",
       "                        <td id=\"T_345adb21_64e3_11eb_986d_c03eba503751row0_col9\" class=\"data row0 col9\" >-0.094778</td>\n",
       "            </tr>\n",
       "            <tr>\n",
       "                        <th id=\"T_345adb21_64e3_11eb_986d_c03eba503751level0_row1\" class=\"row_heading level0 row1\" >Administrative_Duration</th>\n",
       "                        <td id=\"T_345adb21_64e3_11eb_986d_c03eba503751row1_col0\" class=\"data row1 col0\" >0.601583</td>\n",
       "                        <td id=\"T_345adb21_64e3_11eb_986d_c03eba503751row1_col1\" class=\"data row1 col1\" >1.000000</td>\n",
       "                        <td id=\"T_345adb21_64e3_11eb_986d_c03eba503751row1_col2\" class=\"data row1 col2\" >0.302710</td>\n",
       "                        <td id=\"T_345adb21_64e3_11eb_986d_c03eba503751row1_col3\" class=\"data row1 col3\" >0.238031</td>\n",
       "                        <td id=\"T_345adb21_64e3_11eb_986d_c03eba503751row1_col4\" class=\"data row1 col4\" >0.289087</td>\n",
       "                        <td id=\"T_345adb21_64e3_11eb_986d_c03eba503751row1_col5\" class=\"data row1 col5\" >0.355422</td>\n",
       "                        <td id=\"T_345adb21_64e3_11eb_986d_c03eba503751row1_col6\" class=\"data row1 col6\" >-0.144170</td>\n",
       "                        <td id=\"T_345adb21_64e3_11eb_986d_c03eba503751row1_col7\" class=\"data row1 col7\" >-0.205798</td>\n",
       "                        <td id=\"T_345adb21_64e3_11eb_986d_c03eba503751row1_col8\" class=\"data row1 col8\" >0.067608</td>\n",
       "                        <td id=\"T_345adb21_64e3_11eb_986d_c03eba503751row1_col9\" class=\"data row1 col9\" >-0.073304</td>\n",
       "            </tr>\n",
       "            <tr>\n",
       "                        <th id=\"T_345adb21_64e3_11eb_986d_c03eba503751level0_row2\" class=\"row_heading level0 row2\" >Informational</th>\n",
       "                        <td id=\"T_345adb21_64e3_11eb_986d_c03eba503751row2_col0\" class=\"data row2 col0\" >0.376850</td>\n",
       "                        <td id=\"T_345adb21_64e3_11eb_986d_c03eba503751row2_col1\" class=\"data row2 col1\" >0.302710</td>\n",
       "                        <td id=\"T_345adb21_64e3_11eb_986d_c03eba503751row2_col2\" class=\"data row2 col2\" >1.000000</td>\n",
       "                        <td id=\"T_345adb21_64e3_11eb_986d_c03eba503751row2_col3\" class=\"data row2 col3\" >0.618955</td>\n",
       "                        <td id=\"T_345adb21_64e3_11eb_986d_c03eba503751row2_col4\" class=\"data row2 col4\" >0.374164</td>\n",
       "                        <td id=\"T_345adb21_64e3_11eb_986d_c03eba503751row2_col5\" class=\"data row2 col5\" >0.387505</td>\n",
       "                        <td id=\"T_345adb21_64e3_11eb_986d_c03eba503751row2_col6\" class=\"data row2 col6\" >-0.116114</td>\n",
       "                        <td id=\"T_345adb21_64e3_11eb_986d_c03eba503751row2_col7\" class=\"data row2 col7\" >-0.163666</td>\n",
       "                        <td id=\"T_345adb21_64e3_11eb_986d_c03eba503751row2_col8\" class=\"data row2 col8\" >0.048632</td>\n",
       "                        <td id=\"T_345adb21_64e3_11eb_986d_c03eba503751row2_col9\" class=\"data row2 col9\" >-0.048219</td>\n",
       "            </tr>\n",
       "            <tr>\n",
       "                        <th id=\"T_345adb21_64e3_11eb_986d_c03eba503751level0_row3\" class=\"row_heading level0 row3\" >Informational_Duration</th>\n",
       "                        <td id=\"T_345adb21_64e3_11eb_986d_c03eba503751row3_col0\" class=\"data row3 col0\" >0.255848</td>\n",
       "                        <td id=\"T_345adb21_64e3_11eb_986d_c03eba503751row3_col1\" class=\"data row3 col1\" >0.238031</td>\n",
       "                        <td id=\"T_345adb21_64e3_11eb_986d_c03eba503751row3_col2\" class=\"data row3 col2\" >0.618955</td>\n",
       "                        <td id=\"T_345adb21_64e3_11eb_986d_c03eba503751row3_col3\" class=\"data row3 col3\" >1.000000</td>\n",
       "                        <td id=\"T_345adb21_64e3_11eb_986d_c03eba503751row3_col4\" class=\"data row3 col4\" >0.280046</td>\n",
       "                        <td id=\"T_345adb21_64e3_11eb_986d_c03eba503751row3_col5\" class=\"data row3 col5\" >0.347364</td>\n",
       "                        <td id=\"T_345adb21_64e3_11eb_986d_c03eba503751row3_col6\" class=\"data row3 col6\" >-0.074067</td>\n",
       "                        <td id=\"T_345adb21_64e3_11eb_986d_c03eba503751row3_col7\" class=\"data row3 col7\" >-0.105276</td>\n",
       "                        <td id=\"T_345adb21_64e3_11eb_986d_c03eba503751row3_col8\" class=\"data row3 col8\" >0.030861</td>\n",
       "                        <td id=\"T_345adb21_64e3_11eb_986d_c03eba503751row3_col9\" class=\"data row3 col9\" >-0.030577</td>\n",
       "            </tr>\n",
       "            <tr>\n",
       "                        <th id=\"T_345adb21_64e3_11eb_986d_c03eba503751level0_row4\" class=\"row_heading level0 row4\" >ProductRelated</th>\n",
       "                        <td id=\"T_345adb21_64e3_11eb_986d_c03eba503751row4_col0\" class=\"data row4 col0\" >0.431119</td>\n",
       "                        <td id=\"T_345adb21_64e3_11eb_986d_c03eba503751row4_col1\" class=\"data row4 col1\" >0.289087</td>\n",
       "                        <td id=\"T_345adb21_64e3_11eb_986d_c03eba503751row4_col2\" class=\"data row4 col2\" >0.374164</td>\n",
       "                        <td id=\"T_345adb21_64e3_11eb_986d_c03eba503751row4_col3\" class=\"data row4 col3\" >0.280046</td>\n",
       "                        <td id=\"T_345adb21_64e3_11eb_986d_c03eba503751row4_col4\" class=\"data row4 col4\" >1.000000</td>\n",
       "                        <td id=\"T_345adb21_64e3_11eb_986d_c03eba503751row4_col5\" class=\"data row4 col5\" >0.860927</td>\n",
       "                        <td id=\"T_345adb21_64e3_11eb_986d_c03eba503751row4_col6\" class=\"data row4 col6\" >-0.204578</td>\n",
       "                        <td id=\"T_345adb21_64e3_11eb_986d_c03eba503751row4_col7\" class=\"data row4 col7\" >-0.292526</td>\n",
       "                        <td id=\"T_345adb21_64e3_11eb_986d_c03eba503751row4_col8\" class=\"data row4 col8\" >0.056282</td>\n",
       "                        <td id=\"T_345adb21_64e3_11eb_986d_c03eba503751row4_col9\" class=\"data row4 col9\" >-0.023958</td>\n",
       "            </tr>\n",
       "            <tr>\n",
       "                        <th id=\"T_345adb21_64e3_11eb_986d_c03eba503751level0_row5\" class=\"row_heading level0 row5\" >ProductRelated_Duration</th>\n",
       "                        <td id=\"T_345adb21_64e3_11eb_986d_c03eba503751row5_col0\" class=\"data row5 col0\" >0.373939</td>\n",
       "                        <td id=\"T_345adb21_64e3_11eb_986d_c03eba503751row5_col1\" class=\"data row5 col1\" >0.355422</td>\n",
       "                        <td id=\"T_345adb21_64e3_11eb_986d_c03eba503751row5_col2\" class=\"data row5 col2\" >0.387505</td>\n",
       "                        <td id=\"T_345adb21_64e3_11eb_986d_c03eba503751row5_col3\" class=\"data row5 col3\" >0.347364</td>\n",
       "                        <td id=\"T_345adb21_64e3_11eb_986d_c03eba503751row5_col4\" class=\"data row5 col4\" >0.860927</td>\n",
       "                        <td id=\"T_345adb21_64e3_11eb_986d_c03eba503751row5_col5\" class=\"data row5 col5\" >1.000000</td>\n",
       "                        <td id=\"T_345adb21_64e3_11eb_986d_c03eba503751row5_col6\" class=\"data row5 col6\" >-0.184541</td>\n",
       "                        <td id=\"T_345adb21_64e3_11eb_986d_c03eba503751row5_col7\" class=\"data row5 col7\" >-0.251984</td>\n",
       "                        <td id=\"T_345adb21_64e3_11eb_986d_c03eba503751row5_col8\" class=\"data row5 col8\" >0.052823</td>\n",
       "                        <td id=\"T_345adb21_64e3_11eb_986d_c03eba503751row5_col9\" class=\"data row5 col9\" >-0.036380</td>\n",
       "            </tr>\n",
       "            <tr>\n",
       "                        <th id=\"T_345adb21_64e3_11eb_986d_c03eba503751level0_row6\" class=\"row_heading level0 row6\" >BounceRates</th>\n",
       "                        <td id=\"T_345adb21_64e3_11eb_986d_c03eba503751row6_col0\" class=\"data row6 col0\" >-0.223563</td>\n",
       "                        <td id=\"T_345adb21_64e3_11eb_986d_c03eba503751row6_col1\" class=\"data row6 col1\" >-0.144170</td>\n",
       "                        <td id=\"T_345adb21_64e3_11eb_986d_c03eba503751row6_col2\" class=\"data row6 col2\" >-0.116114</td>\n",
       "                        <td id=\"T_345adb21_64e3_11eb_986d_c03eba503751row6_col3\" class=\"data row6 col3\" >-0.074067</td>\n",
       "                        <td id=\"T_345adb21_64e3_11eb_986d_c03eba503751row6_col4\" class=\"data row6 col4\" >-0.204578</td>\n",
       "                        <td id=\"T_345adb21_64e3_11eb_986d_c03eba503751row6_col5\" class=\"data row6 col5\" >-0.184541</td>\n",
       "                        <td id=\"T_345adb21_64e3_11eb_986d_c03eba503751row6_col6\" class=\"data row6 col6\" >1.000000</td>\n",
       "                        <td id=\"T_345adb21_64e3_11eb_986d_c03eba503751row6_col7\" class=\"data row6 col7\" >0.913004</td>\n",
       "                        <td id=\"T_345adb21_64e3_11eb_986d_c03eba503751row6_col8\" class=\"data row6 col8\" >-0.119386</td>\n",
       "                        <td id=\"T_345adb21_64e3_11eb_986d_c03eba503751row6_col9\" class=\"data row6 col9\" >0.072702</td>\n",
       "            </tr>\n",
       "            <tr>\n",
       "                        <th id=\"T_345adb21_64e3_11eb_986d_c03eba503751level0_row7\" class=\"row_heading level0 row7\" >ExitRates</th>\n",
       "                        <td id=\"T_345adb21_64e3_11eb_986d_c03eba503751row7_col0\" class=\"data row7 col0\" >-0.316483</td>\n",
       "                        <td id=\"T_345adb21_64e3_11eb_986d_c03eba503751row7_col1\" class=\"data row7 col1\" >-0.205798</td>\n",
       "                        <td id=\"T_345adb21_64e3_11eb_986d_c03eba503751row7_col2\" class=\"data row7 col2\" >-0.163666</td>\n",
       "                        <td id=\"T_345adb21_64e3_11eb_986d_c03eba503751row7_col3\" class=\"data row7 col3\" >-0.105276</td>\n",
       "                        <td id=\"T_345adb21_64e3_11eb_986d_c03eba503751row7_col4\" class=\"data row7 col4\" >-0.292526</td>\n",
       "                        <td id=\"T_345adb21_64e3_11eb_986d_c03eba503751row7_col5\" class=\"data row7 col5\" >-0.251984</td>\n",
       "                        <td id=\"T_345adb21_64e3_11eb_986d_c03eba503751row7_col6\" class=\"data row7 col6\" >0.913004</td>\n",
       "                        <td id=\"T_345adb21_64e3_11eb_986d_c03eba503751row7_col7\" class=\"data row7 col7\" >1.000000</td>\n",
       "                        <td id=\"T_345adb21_64e3_11eb_986d_c03eba503751row7_col8\" class=\"data row7 col8\" >-0.174498</td>\n",
       "                        <td id=\"T_345adb21_64e3_11eb_986d_c03eba503751row7_col9\" class=\"data row7 col9\" >0.102242</td>\n",
       "            </tr>\n",
       "            <tr>\n",
       "                        <th id=\"T_345adb21_64e3_11eb_986d_c03eba503751level0_row8\" class=\"row_heading level0 row8\" >PageValues</th>\n",
       "                        <td id=\"T_345adb21_64e3_11eb_986d_c03eba503751row8_col0\" class=\"data row8 col0\" >0.098990</td>\n",
       "                        <td id=\"T_345adb21_64e3_11eb_986d_c03eba503751row8_col1\" class=\"data row8 col1\" >0.067608</td>\n",
       "                        <td id=\"T_345adb21_64e3_11eb_986d_c03eba503751row8_col2\" class=\"data row8 col2\" >0.048632</td>\n",
       "                        <td id=\"T_345adb21_64e3_11eb_986d_c03eba503751row8_col3\" class=\"data row8 col3\" >0.030861</td>\n",
       "                        <td id=\"T_345adb21_64e3_11eb_986d_c03eba503751row8_col4\" class=\"data row8 col4\" >0.056282</td>\n",
       "                        <td id=\"T_345adb21_64e3_11eb_986d_c03eba503751row8_col5\" class=\"data row8 col5\" >0.052823</td>\n",
       "                        <td id=\"T_345adb21_64e3_11eb_986d_c03eba503751row8_col6\" class=\"data row8 col6\" >-0.119386</td>\n",
       "                        <td id=\"T_345adb21_64e3_11eb_986d_c03eba503751row8_col7\" class=\"data row8 col7\" >-0.174498</td>\n",
       "                        <td id=\"T_345adb21_64e3_11eb_986d_c03eba503751row8_col8\" class=\"data row8 col8\" >1.000000</td>\n",
       "                        <td id=\"T_345adb21_64e3_11eb_986d_c03eba503751row8_col9\" class=\"data row8 col9\" >-0.063541</td>\n",
       "            </tr>\n",
       "            <tr>\n",
       "                        <th id=\"T_345adb21_64e3_11eb_986d_c03eba503751level0_row9\" class=\"row_heading level0 row9\" >SpecialDay</th>\n",
       "                        <td id=\"T_345adb21_64e3_11eb_986d_c03eba503751row9_col0\" class=\"data row9 col0\" >-0.094778</td>\n",
       "                        <td id=\"T_345adb21_64e3_11eb_986d_c03eba503751row9_col1\" class=\"data row9 col1\" >-0.073304</td>\n",
       "                        <td id=\"T_345adb21_64e3_11eb_986d_c03eba503751row9_col2\" class=\"data row9 col2\" >-0.048219</td>\n",
       "                        <td id=\"T_345adb21_64e3_11eb_986d_c03eba503751row9_col3\" class=\"data row9 col3\" >-0.030577</td>\n",
       "                        <td id=\"T_345adb21_64e3_11eb_986d_c03eba503751row9_col4\" class=\"data row9 col4\" >-0.023958</td>\n",
       "                        <td id=\"T_345adb21_64e3_11eb_986d_c03eba503751row9_col5\" class=\"data row9 col5\" >-0.036380</td>\n",
       "                        <td id=\"T_345adb21_64e3_11eb_986d_c03eba503751row9_col6\" class=\"data row9 col6\" >0.072702</td>\n",
       "                        <td id=\"T_345adb21_64e3_11eb_986d_c03eba503751row9_col7\" class=\"data row9 col7\" >0.102242</td>\n",
       "                        <td id=\"T_345adb21_64e3_11eb_986d_c03eba503751row9_col8\" class=\"data row9 col8\" >-0.063541</td>\n",
       "                        <td id=\"T_345adb21_64e3_11eb_986d_c03eba503751row9_col9\" class=\"data row9 col9\" >1.000000</td>\n",
       "            </tr>\n",
       "    </tbody></table>"
      ],
      "text/plain": [
       "<pandas.io.formats.style.Styler at 0x2841c9e0a60>"
      ]
     },
     "execution_count": 62,
     "metadata": {},
     "output_type": "execute_result"
    }
   ],
   "source": [
    "Numeric_columns = dataset.drop(columns=['Month','OperatingSystems','Browser','Region','TrafficType','VisitorType','Weekend','Revenue'])\n",
    "corr = Numeric_columns.corr()\n",
    "corr.style.background_gradient(cmap='coolwarm')"
   ]
  },
  {
   "cell_type": "markdown",
   "metadata": {},
   "source": [
    "# 1st Model\n",
    "First we are going to run the model in its simplest form."
   ]
  },
  {
   "cell_type": "code",
   "execution_count": 63,
   "metadata": {},
   "outputs": [],
   "source": [
    "dataset = pd.read_csv('C:/Users/c2080129/Downloads/Coursework_1_data(1).csv')"
   ]
  },
  {
   "cell_type": "markdown",
   "metadata": {},
   "source": [
    "# Pre-processing"
   ]
  },
  {
   "cell_type": "code",
   "execution_count": 64,
   "metadata": {},
   "outputs": [
    {
     "data": {
      "text/html": [
       "<div>\n",
       "<style scoped>\n",
       "    .dataframe tbody tr th:only-of-type {\n",
       "        vertical-align: middle;\n",
       "    }\n",
       "\n",
       "    .dataframe tbody tr th {\n",
       "        vertical-align: top;\n",
       "    }\n",
       "\n",
       "    .dataframe thead th {\n",
       "        text-align: right;\n",
       "    }\n",
       "</style>\n",
       "<table border=\"1\" class=\"dataframe\">\n",
       "  <thead>\n",
       "    <tr style=\"text-align: right;\">\n",
       "      <th></th>\n",
       "      <th>Administrative</th>\n",
       "      <th>Administrative_Duration</th>\n",
       "      <th>Informational</th>\n",
       "      <th>Informational_Duration</th>\n",
       "      <th>ProductRelated</th>\n",
       "      <th>ProductRelated_Duration</th>\n",
       "      <th>ExitRates</th>\n",
       "      <th>BounceRates</th>\n",
       "      <th>PageValues</th>\n",
       "      <th>SpecialDay</th>\n",
       "      <th>Month</th>\n",
       "      <th>OperatingSystems</th>\n",
       "      <th>Browser</th>\n",
       "      <th>Region</th>\n",
       "      <th>TrafficType</th>\n",
       "      <th>VisitorType</th>\n",
       "      <th>Weekend</th>\n",
       "      <th>Revenue</th>\n",
       "    </tr>\n",
       "  </thead>\n",
       "  <tbody>\n",
       "    <tr>\n",
       "      <th>0</th>\n",
       "      <td>0</td>\n",
       "      <td>0.0</td>\n",
       "      <td>0</td>\n",
       "      <td>0.0</td>\n",
       "      <td>1</td>\n",
       "      <td>0.000000</td>\n",
       "      <td>0.200000</td>\n",
       "      <td>0.200000</td>\n",
       "      <td>0.000000</td>\n",
       "      <td>0.0</td>\n",
       "      <td>Feb</td>\n",
       "      <td>1</td>\n",
       "      <td>1</td>\n",
       "      <td>1</td>\n",
       "      <td>1</td>\n",
       "      <td>Returning_Visitor</td>\n",
       "      <td>False</td>\n",
       "      <td>0.0</td>\n",
       "    </tr>\n",
       "    <tr>\n",
       "      <th>1</th>\n",
       "      <td>0</td>\n",
       "      <td>0.0</td>\n",
       "      <td>0</td>\n",
       "      <td>0.0</td>\n",
       "      <td>2</td>\n",
       "      <td>64.000000</td>\n",
       "      <td>0.100000</td>\n",
       "      <td>0.000000</td>\n",
       "      <td>0.000000</td>\n",
       "      <td>0.0</td>\n",
       "      <td>Feb</td>\n",
       "      <td>2</td>\n",
       "      <td>2</td>\n",
       "      <td>1</td>\n",
       "      <td>2</td>\n",
       "      <td>Returning_Visitor</td>\n",
       "      <td>False</td>\n",
       "      <td>0.0</td>\n",
       "    </tr>\n",
       "    <tr>\n",
       "      <th>2</th>\n",
       "      <td>0</td>\n",
       "      <td>0.0</td>\n",
       "      <td>0</td>\n",
       "      <td>0.0</td>\n",
       "      <td>1</td>\n",
       "      <td>0.000000</td>\n",
       "      <td>0.200000</td>\n",
       "      <td>0.200000</td>\n",
       "      <td>0.000000</td>\n",
       "      <td>0.0</td>\n",
       "      <td>Feb</td>\n",
       "      <td>4</td>\n",
       "      <td>1</td>\n",
       "      <td>9</td>\n",
       "      <td>3</td>\n",
       "      <td>Returning_Visitor</td>\n",
       "      <td>False</td>\n",
       "      <td>0.0</td>\n",
       "    </tr>\n",
       "    <tr>\n",
       "      <th>3</th>\n",
       "      <td>0</td>\n",
       "      <td>0.0</td>\n",
       "      <td>0</td>\n",
       "      <td>0.0</td>\n",
       "      <td>2</td>\n",
       "      <td>2.666667</td>\n",
       "      <td>0.140000</td>\n",
       "      <td>0.050000</td>\n",
       "      <td>0.000000</td>\n",
       "      <td>0.0</td>\n",
       "      <td>Feb</td>\n",
       "      <td>3</td>\n",
       "      <td>2</td>\n",
       "      <td>2</td>\n",
       "      <td>4</td>\n",
       "      <td>Returning_Visitor</td>\n",
       "      <td>False</td>\n",
       "      <td>0.0</td>\n",
       "    </tr>\n",
       "    <tr>\n",
       "      <th>4</th>\n",
       "      <td>0</td>\n",
       "      <td>0.0</td>\n",
       "      <td>0</td>\n",
       "      <td>0.0</td>\n",
       "      <td>10</td>\n",
       "      <td>627.500000</td>\n",
       "      <td>0.050000</td>\n",
       "      <td>0.020000</td>\n",
       "      <td>0.000000</td>\n",
       "      <td>0.0</td>\n",
       "      <td>Feb</td>\n",
       "      <td>3</td>\n",
       "      <td>3</td>\n",
       "      <td>1</td>\n",
       "      <td>4</td>\n",
       "      <td>Returning_Visitor</td>\n",
       "      <td>True</td>\n",
       "      <td>0.0</td>\n",
       "    </tr>\n",
       "    <tr>\n",
       "      <th>...</th>\n",
       "      <td>...</td>\n",
       "      <td>...</td>\n",
       "      <td>...</td>\n",
       "      <td>...</td>\n",
       "      <td>...</td>\n",
       "      <td>...</td>\n",
       "      <td>...</td>\n",
       "      <td>...</td>\n",
       "      <td>...</td>\n",
       "      <td>...</td>\n",
       "      <td>...</td>\n",
       "      <td>...</td>\n",
       "      <td>...</td>\n",
       "      <td>...</td>\n",
       "      <td>...</td>\n",
       "      <td>...</td>\n",
       "      <td>...</td>\n",
       "      <td>...</td>\n",
       "    </tr>\n",
       "    <tr>\n",
       "      <th>12325</th>\n",
       "      <td>3</td>\n",
       "      <td>145.0</td>\n",
       "      <td>0</td>\n",
       "      <td>0.0</td>\n",
       "      <td>53</td>\n",
       "      <td>1783.791667</td>\n",
       "      <td>0.029031</td>\n",
       "      <td>0.007143</td>\n",
       "      <td>12.241717</td>\n",
       "      <td>0.0</td>\n",
       "      <td>Dec</td>\n",
       "      <td>4</td>\n",
       "      <td>6</td>\n",
       "      <td>1</td>\n",
       "      <td>1</td>\n",
       "      <td>Returning_Visitor</td>\n",
       "      <td>True</td>\n",
       "      <td>0.0</td>\n",
       "    </tr>\n",
       "    <tr>\n",
       "      <th>12326</th>\n",
       "      <td>0</td>\n",
       "      <td>0.0</td>\n",
       "      <td>0</td>\n",
       "      <td>0.0</td>\n",
       "      <td>5</td>\n",
       "      <td>465.750000</td>\n",
       "      <td>0.021333</td>\n",
       "      <td>0.000000</td>\n",
       "      <td>0.000000</td>\n",
       "      <td>0.0</td>\n",
       "      <td>Nov</td>\n",
       "      <td>3</td>\n",
       "      <td>2</td>\n",
       "      <td>1</td>\n",
       "      <td>8</td>\n",
       "      <td>Returning_Visitor</td>\n",
       "      <td>True</td>\n",
       "      <td>0.0</td>\n",
       "    </tr>\n",
       "    <tr>\n",
       "      <th>12327</th>\n",
       "      <td>0</td>\n",
       "      <td>0.0</td>\n",
       "      <td>0</td>\n",
       "      <td>0.0</td>\n",
       "      <td>6</td>\n",
       "      <td>184.250000</td>\n",
       "      <td>0.086667</td>\n",
       "      <td>0.083333</td>\n",
       "      <td>0.000000</td>\n",
       "      <td>0.0</td>\n",
       "      <td>Nov</td>\n",
       "      <td>3</td>\n",
       "      <td>2</td>\n",
       "      <td>1</td>\n",
       "      <td>13</td>\n",
       "      <td>Returning_Visitor</td>\n",
       "      <td>True</td>\n",
       "      <td>0.0</td>\n",
       "    </tr>\n",
       "    <tr>\n",
       "      <th>12328</th>\n",
       "      <td>4</td>\n",
       "      <td>75.0</td>\n",
       "      <td>0</td>\n",
       "      <td>0.0</td>\n",
       "      <td>15</td>\n",
       "      <td>346.000000</td>\n",
       "      <td>0.021053</td>\n",
       "      <td>0.000000</td>\n",
       "      <td>0.000000</td>\n",
       "      <td>0.0</td>\n",
       "      <td>Nov</td>\n",
       "      <td>2</td>\n",
       "      <td>2</td>\n",
       "      <td>3</td>\n",
       "      <td>11</td>\n",
       "      <td>Returning_Visitor</td>\n",
       "      <td>False</td>\n",
       "      <td>0.0</td>\n",
       "    </tr>\n",
       "    <tr>\n",
       "      <th>12329</th>\n",
       "      <td>0</td>\n",
       "      <td>0.0</td>\n",
       "      <td>0</td>\n",
       "      <td>0.0</td>\n",
       "      <td>3</td>\n",
       "      <td>21.250000</td>\n",
       "      <td>0.066667</td>\n",
       "      <td>0.000000</td>\n",
       "      <td>0.000000</td>\n",
       "      <td>0.0</td>\n",
       "      <td>Nov</td>\n",
       "      <td>3</td>\n",
       "      <td>2</td>\n",
       "      <td>1</td>\n",
       "      <td>2</td>\n",
       "      <td>New_Visitor</td>\n",
       "      <td>True</td>\n",
       "      <td>0.0</td>\n",
       "    </tr>\n",
       "  </tbody>\n",
       "</table>\n",
       "<p>12330 rows × 18 columns</p>\n",
       "</div>"
      ],
      "text/plain": [
       "       Administrative  Administrative_Duration  Informational  \\\n",
       "0                   0                      0.0              0   \n",
       "1                   0                      0.0              0   \n",
       "2                   0                      0.0              0   \n",
       "3                   0                      0.0              0   \n",
       "4                   0                      0.0              0   \n",
       "...               ...                      ...            ...   \n",
       "12325               3                    145.0              0   \n",
       "12326               0                      0.0              0   \n",
       "12327               0                      0.0              0   \n",
       "12328               4                     75.0              0   \n",
       "12329               0                      0.0              0   \n",
       "\n",
       "       Informational_Duration  ProductRelated  ProductRelated_Duration  \\\n",
       "0                         0.0               1                 0.000000   \n",
       "1                         0.0               2                64.000000   \n",
       "2                         0.0               1                 0.000000   \n",
       "3                         0.0               2                 2.666667   \n",
       "4                         0.0              10               627.500000   \n",
       "...                       ...             ...                      ...   \n",
       "12325                     0.0              53              1783.791667   \n",
       "12326                     0.0               5               465.750000   \n",
       "12327                     0.0               6               184.250000   \n",
       "12328                     0.0              15               346.000000   \n",
       "12329                     0.0               3                21.250000   \n",
       "\n",
       "       ExitRates  BounceRates  PageValues  SpecialDay Month  OperatingSystems  \\\n",
       "0       0.200000     0.200000    0.000000         0.0   Feb                 1   \n",
       "1       0.100000     0.000000    0.000000         0.0   Feb                 2   \n",
       "2       0.200000     0.200000    0.000000         0.0   Feb                 4   \n",
       "3       0.140000     0.050000    0.000000         0.0   Feb                 3   \n",
       "4       0.050000     0.020000    0.000000         0.0   Feb                 3   \n",
       "...          ...          ...         ...         ...   ...               ...   \n",
       "12325   0.029031     0.007143   12.241717         0.0   Dec                 4   \n",
       "12326   0.021333     0.000000    0.000000         0.0   Nov                 3   \n",
       "12327   0.086667     0.083333    0.000000         0.0   Nov                 3   \n",
       "12328   0.021053     0.000000    0.000000         0.0   Nov                 2   \n",
       "12329   0.066667     0.000000    0.000000         0.0   Nov                 3   \n",
       "\n",
       "       Browser  Region  TrafficType        VisitorType  Weekend  Revenue  \n",
       "0            1       1            1  Returning_Visitor    False      0.0  \n",
       "1            2       1            2  Returning_Visitor    False      0.0  \n",
       "2            1       9            3  Returning_Visitor    False      0.0  \n",
       "3            2       2            4  Returning_Visitor    False      0.0  \n",
       "4            3       1            4  Returning_Visitor     True      0.0  \n",
       "...        ...     ...          ...                ...      ...      ...  \n",
       "12325        6       1            1  Returning_Visitor     True      0.0  \n",
       "12326        2       1            8  Returning_Visitor     True      0.0  \n",
       "12327        2       1           13  Returning_Visitor     True      0.0  \n",
       "12328        2       3           11  Returning_Visitor    False      0.0  \n",
       "12329        2       1            2        New_Visitor     True      0.0  \n",
       "\n",
       "[12330 rows x 18 columns]"
      ]
     },
     "execution_count": 64,
     "metadata": {},
     "output_type": "execute_result"
    }
   ],
   "source": [
    "#Firstly we encode the output variable 'Revenue'\n",
    "enc= OneHotEncoder(drop='first',sparse= False)\n",
    "enc.fit(dataset[['Revenue',]])\n",
    "dataset_c = pd.DataFrame(enc.transform(dataset[['Revenue',]]))\n",
    "dataset_c.head()\n",
    "dataset = pd.concat([dataset[['Administrative','Administrative_Duration','Informational','Informational_Duration','ProductRelated',\n",
    "                              'ProductRelated_Duration','ExitRates','BounceRates','PageValues','SpecialDay','Month',\n",
    "                              'OperatingSystems','Browser','Region','TrafficType','VisitorType','Weekend']],dataset_c],axis=1)\n",
    "dataset.rename(columns={0:'Revenue'},inplace=True)\n",
    "dataset2 = dataset\n",
    "dataset2"
   ]
  },
  {
   "cell_type": "code",
   "execution_count": 65,
   "metadata": {},
   "outputs": [
    {
     "data": {
      "text/html": [
       "<div>\n",
       "<style scoped>\n",
       "    .dataframe tbody tr th:only-of-type {\n",
       "        vertical-align: middle;\n",
       "    }\n",
       "\n",
       "    .dataframe tbody tr th {\n",
       "        vertical-align: top;\n",
       "    }\n",
       "\n",
       "    .dataframe thead th {\n",
       "        text-align: right;\n",
       "    }\n",
       "</style>\n",
       "<table border=\"1\" class=\"dataframe\">\n",
       "  <thead>\n",
       "    <tr style=\"text-align: right;\">\n",
       "      <th></th>\n",
       "      <th>Administrative</th>\n",
       "      <th>Administrative_Duration</th>\n",
       "      <th>Informational</th>\n",
       "      <th>Informational_Duration</th>\n",
       "      <th>ProductRelated_Duration</th>\n",
       "      <th>ProductRelated</th>\n",
       "      <th>ExitRates</th>\n",
       "      <th>BounceRates</th>\n",
       "      <th>PageValues</th>\n",
       "      <th>SpecialDay</th>\n",
       "      <th>OperatingSystems</th>\n",
       "      <th>Browser</th>\n",
       "      <th>TrafficType</th>\n",
       "      <th>Region</th>\n",
       "    </tr>\n",
       "  </thead>\n",
       "  <tbody>\n",
       "    <tr>\n",
       "      <th>count</th>\n",
       "      <td>9247.000000</td>\n",
       "      <td>9247.000000</td>\n",
       "      <td>9247.000000</td>\n",
       "      <td>9247.000000</td>\n",
       "      <td>9247.000000</td>\n",
       "      <td>9247.000000</td>\n",
       "      <td>9247.000000</td>\n",
       "      <td>9247.000000</td>\n",
       "      <td>9247.000000</td>\n",
       "      <td>9247.000000</td>\n",
       "      <td>9247.000000</td>\n",
       "      <td>9247.000000</td>\n",
       "      <td>9247.000000</td>\n",
       "      <td>9247.000000</td>\n",
       "    </tr>\n",
       "    <tr>\n",
       "      <th>mean</th>\n",
       "      <td>2.297934</td>\n",
       "      <td>81.049415</td>\n",
       "      <td>0.507516</td>\n",
       "      <td>34.653222</td>\n",
       "      <td>1199.342987</td>\n",
       "      <td>31.702823</td>\n",
       "      <td>0.042631</td>\n",
       "      <td>0.021643</td>\n",
       "      <td>5.897237</td>\n",
       "      <td>0.059760</td>\n",
       "      <td>2.120255</td>\n",
       "      <td>2.355034</td>\n",
       "      <td>4.066724</td>\n",
       "      <td>3.158105</td>\n",
       "    </tr>\n",
       "    <tr>\n",
       "      <th>std</th>\n",
       "      <td>3.289023</td>\n",
       "      <td>177.074002</td>\n",
       "      <td>1.272992</td>\n",
       "      <td>140.677507</td>\n",
       "      <td>1939.730077</td>\n",
       "      <td>44.749761</td>\n",
       "      <td>0.047899</td>\n",
       "      <td>0.047521</td>\n",
       "      <td>18.683590</td>\n",
       "      <td>0.195951</td>\n",
       "      <td>0.905811</td>\n",
       "      <td>1.710480</td>\n",
       "      <td>4.025388</td>\n",
       "      <td>2.415942</td>\n",
       "    </tr>\n",
       "    <tr>\n",
       "      <th>min</th>\n",
       "      <td>0.000000</td>\n",
       "      <td>0.000000</td>\n",
       "      <td>0.000000</td>\n",
       "      <td>0.000000</td>\n",
       "      <td>0.000000</td>\n",
       "      <td>0.000000</td>\n",
       "      <td>0.000000</td>\n",
       "      <td>0.000000</td>\n",
       "      <td>0.000000</td>\n",
       "      <td>0.000000</td>\n",
       "      <td>1.000000</td>\n",
       "      <td>1.000000</td>\n",
       "      <td>1.000000</td>\n",
       "      <td>1.000000</td>\n",
       "    </tr>\n",
       "    <tr>\n",
       "      <th>25%</th>\n",
       "      <td>0.000000</td>\n",
       "      <td>0.000000</td>\n",
       "      <td>0.000000</td>\n",
       "      <td>0.000000</td>\n",
       "      <td>184.050000</td>\n",
       "      <td>7.000000</td>\n",
       "      <td>0.014286</td>\n",
       "      <td>0.000000</td>\n",
       "      <td>0.000000</td>\n",
       "      <td>0.000000</td>\n",
       "      <td>2.000000</td>\n",
       "      <td>2.000000</td>\n",
       "      <td>2.000000</td>\n",
       "      <td>1.000000</td>\n",
       "    </tr>\n",
       "    <tr>\n",
       "      <th>50%</th>\n",
       "      <td>1.000000</td>\n",
       "      <td>7.100000</td>\n",
       "      <td>0.000000</td>\n",
       "      <td>0.000000</td>\n",
       "      <td>603.707143</td>\n",
       "      <td>18.000000</td>\n",
       "      <td>0.025000</td>\n",
       "      <td>0.002968</td>\n",
       "      <td>0.000000</td>\n",
       "      <td>0.000000</td>\n",
       "      <td>2.000000</td>\n",
       "      <td>2.000000</td>\n",
       "      <td>2.000000</td>\n",
       "      <td>3.000000</td>\n",
       "    </tr>\n",
       "    <tr>\n",
       "      <th>75%</th>\n",
       "      <td>4.000000</td>\n",
       "      <td>91.950000</td>\n",
       "      <td>0.000000</td>\n",
       "      <td>0.000000</td>\n",
       "      <td>1474.515152</td>\n",
       "      <td>37.000000</td>\n",
       "      <td>0.050000</td>\n",
       "      <td>0.016667</td>\n",
       "      <td>0.000000</td>\n",
       "      <td>0.000000</td>\n",
       "      <td>3.000000</td>\n",
       "      <td>2.000000</td>\n",
       "      <td>4.000000</td>\n",
       "      <td>4.000000</td>\n",
       "    </tr>\n",
       "    <tr>\n",
       "      <th>max</th>\n",
       "      <td>27.000000</td>\n",
       "      <td>3398.750000</td>\n",
       "      <td>24.000000</td>\n",
       "      <td>2549.375000</td>\n",
       "      <td>63973.522230</td>\n",
       "      <td>705.000000</td>\n",
       "      <td>0.200000</td>\n",
       "      <td>0.200000</td>\n",
       "      <td>361.763742</td>\n",
       "      <td>1.000000</td>\n",
       "      <td>8.000000</td>\n",
       "      <td>13.000000</td>\n",
       "      <td>20.000000</td>\n",
       "      <td>9.000000</td>\n",
       "    </tr>\n",
       "  </tbody>\n",
       "</table>\n",
       "</div>"
      ],
      "text/plain": [
       "       Administrative  Administrative_Duration  Informational  \\\n",
       "count     9247.000000              9247.000000    9247.000000   \n",
       "mean         2.297934                81.049415       0.507516   \n",
       "std          3.289023               177.074002       1.272992   \n",
       "min          0.000000                 0.000000       0.000000   \n",
       "25%          0.000000                 0.000000       0.000000   \n",
       "50%          1.000000                 7.100000       0.000000   \n",
       "75%          4.000000                91.950000       0.000000   \n",
       "max         27.000000              3398.750000      24.000000   \n",
       "\n",
       "       Informational_Duration  ProductRelated_Duration  ProductRelated  \\\n",
       "count             9247.000000              9247.000000     9247.000000   \n",
       "mean                34.653222              1199.342987       31.702823   \n",
       "std                140.677507              1939.730077       44.749761   \n",
       "min                  0.000000                 0.000000        0.000000   \n",
       "25%                  0.000000               184.050000        7.000000   \n",
       "50%                  0.000000               603.707143       18.000000   \n",
       "75%                  0.000000              1474.515152       37.000000   \n",
       "max               2549.375000             63973.522230      705.000000   \n",
       "\n",
       "         ExitRates  BounceRates   PageValues   SpecialDay  OperatingSystems  \\\n",
       "count  9247.000000  9247.000000  9247.000000  9247.000000       9247.000000   \n",
       "mean      0.042631     0.021643     5.897237     0.059760          2.120255   \n",
       "std       0.047899     0.047521    18.683590     0.195951          0.905811   \n",
       "min       0.000000     0.000000     0.000000     0.000000          1.000000   \n",
       "25%       0.014286     0.000000     0.000000     0.000000          2.000000   \n",
       "50%       0.025000     0.002968     0.000000     0.000000          2.000000   \n",
       "75%       0.050000     0.016667     0.000000     0.000000          3.000000   \n",
       "max       0.200000     0.200000   361.763742     1.000000          8.000000   \n",
       "\n",
       "           Browser  TrafficType       Region  \n",
       "count  9247.000000  9247.000000  9247.000000  \n",
       "mean      2.355034     4.066724     3.158105  \n",
       "std       1.710480     4.025388     2.415942  \n",
       "min       1.000000     1.000000     1.000000  \n",
       "25%       2.000000     2.000000     1.000000  \n",
       "50%       2.000000     2.000000     3.000000  \n",
       "75%       2.000000     4.000000     4.000000  \n",
       "max      13.000000    20.000000     9.000000  "
      ]
     },
     "execution_count": 65,
     "metadata": {},
     "output_type": "execute_result"
    }
   ],
   "source": [
    "#Seperate inputs from output.\n",
    "datasetx = dataset2[['Administrative','Administrative_Duration','Informational','Informational_Duration',\n",
    "                     'ProductRelated_Duration','ProductRelated','ExitRates','BounceRates','PageValues','SpecialDay','OperatingSystems',\n",
    "                     'Browser','TrafficType','Month','Region','Weekend','VisitorType']]\n",
    "datasety = dataset2[['Revenue']]\n",
    "\n",
    "#Splitting the data in 75% for training and 25% for testing.\n",
    "X_train, X_test, y_train, y_test = train_test_split(datasetx, datasety, test_size=0.25, random_state=42)\n",
    "X_train.describe()"
   ]
  },
  {
   "cell_type": "code",
   "execution_count": 66,
   "metadata": {},
   "outputs": [],
   "source": [
    "# transformer for categorical features\n",
    "categorical_features = ['Weekend', 'Month', 'VisitorType','Browser','Region','TrafficType', 'OperatingSystems']\n",
    "categorical_transformer = Pipeline(\n",
    "    [\n",
    "        ('onehot', OneHotEncoder(handle_unknown = 'ignore'))\n",
    "    ]\n",
    ")\n",
    "\n",
    "# transformer for numerical features\n",
    "numeric_features = ['Administrative','Administrative_Duration','Informational','Informational_Duration',\n",
    "                            'ProductRelated_Duration','ProductRelated', 'ExitRates','BounceRates','PageValues','SpecialDay']\n",
    "numeric_transformer = Pipeline(\n",
    "    [\n",
    "        ('scaler', PowerTransformer())\n",
    "    ]\n",
    ")\n",
    "\n",
    "# combine them in a single ColumnTransformer\n",
    "preprocessor = ColumnTransformer(\n",
    "    [\n",
    "        ('categoricals', categorical_transformer, categorical_features),\n",
    "        ('numericals', numeric_transformer, numeric_features)\n",
    "    ],\n",
    "    remainder = 'drop'\n",
    ")"
   ]
  },
  {
   "cell_type": "markdown",
   "metadata": {},
   "source": [
    "# Classifiers"
   ]
  },
  {
   "cell_type": "code",
   "execution_count": 67,
   "metadata": {},
   "outputs": [
    {
     "name": "stderr",
     "output_type": "stream",
     "text": [
      "C:\\Users\\c2080129\\Anaconda3\\lib\\site-packages\\sklearn\\utils\\validation.py:73: DataConversionWarning: A column-vector y was passed when a 1d array was expected. Please change the shape of y to (n_samples, ), for example using ravel().\n",
      "  return f(**kwargs)\n"
     ]
    },
    {
     "name": "stdout",
     "output_type": "stream",
     "text": [
      "LogisticRegression(random_state=42)\n",
      "Metrics:\n",
      "              precision    recall  f1-score   support\n",
      "\n",
      "         0.0       0.92      0.95      0.94      2594\n",
      "         1.0       0.70      0.58      0.63       489\n",
      "\n",
      "    accuracy                           0.89      3083\n",
      "   macro avg       0.81      0.77      0.79      3083\n",
      "weighted avg       0.89      0.89      0.89      3083\n",
      "\n",
      "Accuracy: 0.893934\n"
     ]
    },
    {
     "name": "stderr",
     "output_type": "stream",
     "text": [
      "C:\\Users\\c2080129\\Anaconda3\\lib\\site-packages\\sklearn\\linear_model\\_logistic.py:762: ConvergenceWarning: lbfgs failed to converge (status=1):\n",
      "STOP: TOTAL NO. of ITERATIONS REACHED LIMIT.\n",
      "\n",
      "Increase the number of iterations (max_iter) or scale the data as shown in:\n",
      "    https://scikit-learn.org/stable/modules/preprocessing.html\n",
      "Please also refer to the documentation for alternative solver options:\n",
      "    https://scikit-learn.org/stable/modules/linear_model.html#logistic-regression\n",
      "  n_iter_i = _check_optimize_result(\n"
     ]
    }
   ],
   "source": [
    "#define pipeline\n",
    "model = LogisticRegression(random_state=42)\n",
    "steps = [('preprocessing', preprocessor),('model', model)]\n",
    "pipeline = Pipeline(steps=steps)\n",
    "\n",
    "#fit pipeline\n",
    "pipe = pipeline.fit(X_train,y_train)\n",
    "print(model)\n",
    "\n",
    "#results\n",
    "y_pred = pipe.predict(X_test)\n",
    "print('Metrics:')\n",
    "print(metrics.classification_report(y_test, y_pred))\n",
    "accuracy = accuracy_score(y_test,y_pred)\n",
    "print('Accuracy: %f' % accuracy)"
   ]
  },
  {
   "cell_type": "code",
   "execution_count": 68,
   "metadata": {},
   "outputs": [
    {
     "name": "stderr",
     "output_type": "stream",
     "text": [
      "C:\\Users\\c2080129\\Anaconda3\\lib\\site-packages\\sklearn\\utils\\validation.py:73: DataConversionWarning: A column-vector y was passed when a 1d array was expected. Please change the shape of y to (n_samples, ), for example using ravel().\n",
      "  return f(**kwargs)\n"
     ]
    },
    {
     "name": "stdout",
     "output_type": "stream",
     "text": [
      "SVC(probability=True, random_state=42)\n",
      "Metrics:\n",
      "              precision    recall  f1-score   support\n",
      "\n",
      "         0.0       0.92      0.95      0.94      2594\n",
      "         1.0       0.71      0.59      0.64       489\n",
      "\n",
      "    accuracy                           0.90      3083\n",
      "   macro avg       0.81      0.77      0.79      3083\n",
      "weighted avg       0.89      0.90      0.89      3083\n",
      "\n",
      "Accuracy: 0.895556\n"
     ]
    }
   ],
   "source": [
    "#define pipeline\n",
    "model1 = SVC(random_state=42,probability=True)\n",
    "steps = [('preprocessing', preprocessor),('model', model1)]\n",
    "pipeline1 = Pipeline(steps=steps)\n",
    "\n",
    "#fit pipeline\n",
    "pipe1 = pipeline1.fit(X_train,y_train)\n",
    "print(model1)\n",
    "\n",
    "#results\n",
    "y_pred1 = pipe1.predict(X_test)\n",
    "print('Metrics:')\n",
    "print(metrics.classification_report(y_test, y_pred1))\n",
    "accuracy1 = accuracy_score(y_test,y_pred1)\n",
    "print('Accuracy: %f' % accuracy1)"
   ]
  },
  {
   "cell_type": "code",
   "execution_count": 69,
   "metadata": {},
   "outputs": [
    {
     "name": "stderr",
     "output_type": "stream",
     "text": [
      "C:\\Users\\c2080129\\Anaconda3\\lib\\site-packages\\xgboost\\sklearn.py:892: UserWarning: The use of label encoder in XGBClassifier is deprecated and will be removed in a future release. To remove this warning, do the following: 1) Pass option use_label_encoder=False when constructing XGBClassifier object; and 2) Encode your labels (y) as integers starting with 0, i.e. 0, 1, 2, ..., [num_class - 1].\n",
      "  warnings.warn(label_encoder_deprecation_msg, UserWarning)\n",
      "C:\\Users\\c2080129\\Anaconda3\\lib\\site-packages\\sklearn\\utils\\validation.py:73: DataConversionWarning: A column-vector y was passed when a 1d array was expected. Please change the shape of y to (n_samples, ), for example using ravel().\n",
      "  return f(**kwargs)\n"
     ]
    },
    {
     "name": "stdout",
     "output_type": "stream",
     "text": [
      "[23:14:58] WARNING: C:/Users/Administrator/workspace/xgboost-win64_release_1.3.0/src/learner.cc:1061: Starting in XGBoost 1.3.0, the default evaluation metric used with the objective 'binary:logistic' was changed from 'error' to 'logloss'. Explicitly set eval_metric if you'd like to restore the old behavior.\n",
      "XGBClassifier(base_score=0.5, booster='gbtree', colsample_bylevel=1,\n",
      "              colsample_bynode=1, colsample_bytree=1, gamma=0, gpu_id=-1,\n",
      "              importance_type='gain', interaction_constraints='',\n",
      "              learning_rate=0.300000012, max_delta_step=0, max_depth=6,\n",
      "              min_child_weight=1, missing=nan, monotone_constraints='()',\n",
      "              n_estimators=100, n_jobs=8, num_parallel_tree=1, random_state=42,\n",
      "              reg_alpha=0, reg_lambda=1, scale_pos_weight=1, subsample=1,\n",
      "              tree_method='exact', validate_parameters=1, verbosity=None)\n",
      "Metrics:\n",
      "              precision    recall  f1-score   support\n",
      "\n",
      "         0.0       0.93      0.95      0.94      2594\n",
      "         1.0       0.71      0.60      0.65       489\n",
      "\n",
      "    accuracy                           0.90      3083\n",
      "   macro avg       0.82      0.77      0.79      3083\n",
      "weighted avg       0.89      0.90      0.89      3083\n",
      "\n",
      "Accuracy: 0.896529\n"
     ]
    }
   ],
   "source": [
    "#define pipeline\n",
    "model2 = XGBClassifier(random_state=42)\n",
    "steps = [('preprocessing', preprocessor),('model', model2)]\n",
    "pipeline2 = Pipeline(steps=steps)\n",
    "\n",
    "#fit pipeline\n",
    "pipe2 = pipeline2.fit(X_train,y_train)\n",
    "print(model2)\n",
    "\n",
    "#results\n",
    "y_pred2 = pipe2.predict(X_test)\n",
    "print('Metrics:')\n",
    "print(metrics.classification_report(y_test, y_pred2))\n",
    "accuracy2 = accuracy_score(y_test,y_pred2)\n",
    "print('Accuracy: %f' % accuracy2)"
   ]
  },
  {
   "cell_type": "markdown",
   "metadata": {},
   "source": [
    "In all 3 models we took into consideration precision,recall,f1-score and AUC in terms of model perfomance whereas the Accuracy \n",
    "is not reliable because of imbalance(as indicated in previous section). "
   ]
  },
  {
   "cell_type": "markdown",
   "metadata": {},
   "source": [
    "# 2nd Model\n",
    "In this section we added in first model the binning technique and we also used vif in order to reduce multicollinearity."
   ]
  },
  {
   "cell_type": "code",
   "execution_count": 70,
   "metadata": {},
   "outputs": [],
   "source": [
    "dataset = pd.read_csv('C:/Users/c2080129/Downloads/Coursework_1_data(1).csv')"
   ]
  },
  {
   "cell_type": "markdown",
   "metadata": {},
   "source": [
    "# Binning \n",
    "We divided true's with false's of the output in each category of a categorical variable and then we placed them in a bin based on the percentages(close percentages fit in the same bin)."
   ]
  },
  {
   "cell_type": "code",
   "execution_count": 71,
   "metadata": {},
   "outputs": [
    {
     "name": "stdout",
     "output_type": "stream",
     "text": [
      "1 : 0.17180417044424298\n",
      "2 : 0.2120822622107969\n",
      "3 : 0.11718408395277656\n",
      "4 : 0.21628498727735368\n",
      "5 : 0.2\n",
      "6 : 0.11764705882352941\n",
      "7 : 0.16666666666666666\n",
      "8 : 0.27419354838709675\n"
     ]
    }
   ],
   "source": [
    "#Binning technique for categorical feature 'OperatingSystems'. The reason is that some 'states' did not had too many \n",
    "#observations as presented on the count plot and this might cause overfit.\n",
    "\n",
    "for t in range(1,9):\n",
    "    ost=dataset.loc[(dataset['OperatingSystems'] == t) & (dataset['Revenue'] == True)].OperatingSystems.sum()\n",
    "    osf=dataset.loc[(dataset['OperatingSystems'] == t) & (dataset['Revenue'] == False)].OperatingSystems.sum()  \n",
    "    perc3 = ost/osf\n",
    "    print(t,':',perc3) "
   ]
  },
  {
   "cell_type": "code",
   "execution_count": 72,
   "metadata": {},
   "outputs": [],
   "source": [
    "conditions = [\n",
    "    dataset['OperatingSystems'] == 1,\n",
    "    dataset['OperatingSystems'] == 2,\n",
    "    dataset['OperatingSystems'] == 3,\n",
    "    dataset['OperatingSystems'] == 4,\n",
    "    dataset['OperatingSystems'] == 5,\n",
    "    dataset['OperatingSystems'] == 6,\n",
    "    dataset['OperatingSystems'] == 7,\n",
    "    dataset['OperatingSystems'] == 8]\n",
    "\n",
    "choices = ['1','2','3','2','2','3','1','4']\n",
    "\n",
    "dataset['NewOperatingSystems'] = np.select(conditions, choices, default='Other')"
   ]
  },
  {
   "cell_type": "code",
   "execution_count": 73,
   "metadata": {},
   "outputs": [],
   "source": [
    "#dropping the 'OperatingSystems' column and adding the one calculated with binning technique.\n",
    "dataset['NewOperatingSystems'].value_counts()\n",
    "dataset.drop(['OperatingSystems'], axis=1, inplace = True)"
   ]
  },
  {
   "cell_type": "code",
   "execution_count": 74,
   "metadata": {},
   "outputs": [
    {
     "name": "stdout",
     "output_type": "stream",
     "text": [
      "1 : 0.17405817835002385\n",
      "2 : 0.1815078658355595\n",
      "3 : 0.05\n",
      "4 : 0.2145214521452145\n",
      "5 : 0.22572178477690288\n",
      "6 : 0.12987012987012986\n",
      "7 : 0.13953488372093023\n",
      "8 : 0.18421052631578946\n",
      "9 : 0.0\n",
      "10 : 0.24427480916030533\n",
      "11 : 0.2\n",
      "12 : 0.42857142857142855\n",
      "13 : 0.35555555555555557\n"
     ]
    }
   ],
   "source": [
    "#Binning technique for categorical feature 'Browser'. The reason is that some 'states' did not had too many \n",
    "#observations as presented on the count plot and this might cause overfit.\n",
    "for t in range(1,14):\n",
    "    bt=dataset.loc[(dataset['Browser'] == t) & (dataset['Revenue'] == True)].Browser.sum()\n",
    "    bf=dataset.loc[(dataset['Browser'] == t) & (dataset['Revenue'] == False)].Browser.sum()  \n",
    "    perc3 = bt/bf\n",
    "    print(t,':',perc3)"
   ]
  },
  {
   "cell_type": "code",
   "execution_count": 75,
   "metadata": {},
   "outputs": [],
   "source": [
    "conditions1 = [\n",
    "    dataset['Browser'] == 1,\n",
    "    dataset['Browser'] == 2,\n",
    "    dataset['Browser'] == 3,\n",
    "    dataset['Browser'] == 4,\n",
    "    dataset['Browser'] == 5,\n",
    "    dataset['Browser'] == 6,\n",
    "    dataset['Browser'] == 7,\n",
    "    dataset['Browser'] == 8,\n",
    "    dataset['Browser'] == 9,\n",
    "    dataset['Browser'] == 10,\n",
    "    dataset['Browser'] == 11,\n",
    "    dataset['Browser'] == 12,\n",
    "    dataset['Browser'] == 13]\n",
    "\n",
    "choices1 = ['1','1','3','2','2','4','4','1','3','2','1','5','5']\n",
    "\n",
    "dataset['NewBrowser'] = np.select(conditions1, choices1, default='Other')"
   ]
  },
  {
   "cell_type": "code",
   "execution_count": 76,
   "metadata": {},
   "outputs": [],
   "source": [
    "#dropping the 'OperatingSystems' column and adding the one calculated with binning technique.\n",
    "dataset['NewBrowser'].value_counts()\n",
    "dataset.drop(['Browser'], axis=1, inplace = True)"
   ]
  },
  {
   "cell_type": "code",
   "execution_count": 77,
   "metadata": {},
   "outputs": [
    {
     "name": "stdout",
     "output_type": "stream",
     "text": [
      "1 : 0.11968935587026039\n",
      "2 : 0.2762557077625571\n",
      "3 : 0.09615384615384616\n",
      "4 : 0.18252212389380532\n",
      "5 : 0.27450980392156865\n",
      "6 : 0.13554987212276215\n",
      "7 : 0.42857142857142855\n",
      "8 : 0.38306451612903225\n",
      "9 : 0.10526315789473684\n",
      "10 : 0.25\n",
      "11 : 0.235\n",
      "12 : 0.0\n",
      "13 : 0.0618705035971223\n",
      "14 : 0.18181818181818182\n",
      "15 : 0.0\n",
      "16 : 0.5\n",
      "17 : 0.0\n",
      "18 : 0.0\n",
      "19 : 0.0625\n",
      "20 : 0.33783783783783783\n"
     ]
    }
   ],
   "source": [
    "#Binning technique for categorical feature 'TrafficType'. The reason is that some 'states' did not had too many \n",
    "#observations as presented on the count plot and this might cause overfit.\n",
    "for x in range(1,21):\n",
    "    ttt=dataset.loc[(dataset['TrafficType'] == x) & (dataset['Revenue'] == True)].TrafficType.sum()\n",
    "    ttf=dataset.loc[(dataset['TrafficType'] == x) & (dataset['Revenue'] == False)].TrafficType.sum()\n",
    "    perc3 = ttt/ttf\n",
    "    print(x,':',perc3)"
   ]
  },
  {
   "cell_type": "code",
   "execution_count": 78,
   "metadata": {},
   "outputs": [],
   "source": [
    "conditions2 = [\n",
    "    dataset['TrafficType'] == 1,\n",
    "    dataset['TrafficType'] == 2,\n",
    "    dataset['TrafficType'] == 3,\n",
    "    dataset['TrafficType'] == 4,\n",
    "    dataset['TrafficType'] == 5,\n",
    "    dataset['TrafficType'] == 6,\n",
    "    dataset['TrafficType'] == 7,\n",
    "    dataset['TrafficType'] == 8,\n",
    "    dataset['TrafficType'] == 9,\n",
    "    dataset['TrafficType'] == 10,\n",
    "    dataset['TrafficType'] == 11,\n",
    "    dataset['TrafficType'] == 12,\n",
    "    dataset['TrafficType'] == 13,\n",
    "    dataset['TrafficType'] == 14,\n",
    "    dataset['TrafficType'] == 15,\n",
    "    dataset['TrafficType'] == 16,\n",
    "    dataset['TrafficType'] == 17,\n",
    "    dataset['TrafficType'] == 18,\n",
    "    dataset['TrafficType'] == 19,\n",
    "    dataset['TrafficType'] == 20]\n",
    "    \n",
    "\n",
    "choices2 = ['1','2','1','3','2','1','4','5','1','2','2','6','7','3','6','4','6','6','7','5']\n",
    "\n",
    "dataset['NewTrafficType'] = np.select(conditions2, choices2, default='Other')"
   ]
  },
  {
   "cell_type": "code",
   "execution_count": 79,
   "metadata": {},
   "outputs": [],
   "source": [
    "#dropping the 'OperatingSystems' column and adding the one calculated with binning technique.\n",
    "dataset['NewTrafficType'].value_counts()\n",
    "dataset.drop(['TrafficType'], axis=1, inplace = True)"
   ]
  },
  {
   "cell_type": "markdown",
   "metadata": {},
   "source": [
    "# Multicollinearity\n",
    "Using VIF function we calculated the numerical columns with multicollinearity and dropped them to reduce it."
   ]
  },
  {
   "cell_type": "code",
   "execution_count": 80,
   "metadata": {},
   "outputs": [
    {
     "name": "stdout",
     "output_type": "stream",
     "text": [
      "<class 'pandas.core.frame.DataFrame'>\n"
     ]
    },
    {
     "data": {
      "text/html": [
       "<div>\n",
       "<style scoped>\n",
       "    .dataframe tbody tr th:only-of-type {\n",
       "        vertical-align: middle;\n",
       "    }\n",
       "\n",
       "    .dataframe tbody tr th {\n",
       "        vertical-align: top;\n",
       "    }\n",
       "\n",
       "    .dataframe thead th {\n",
       "        text-align: right;\n",
       "    }\n",
       "</style>\n",
       "<table border=\"1\" class=\"dataframe\">\n",
       "  <thead>\n",
       "    <tr style=\"text-align: right;\">\n",
       "      <th></th>\n",
       "      <th>variables</th>\n",
       "      <th>VIF</th>\n",
       "    </tr>\n",
       "  </thead>\n",
       "  <tbody>\n",
       "    <tr>\n",
       "      <th>0</th>\n",
       "      <td>Administrative</td>\n",
       "      <td>2.651491</td>\n",
       "    </tr>\n",
       "    <tr>\n",
       "      <th>1</th>\n",
       "      <td>Administrative_Duration</td>\n",
       "      <td>2.041915</td>\n",
       "    </tr>\n",
       "    <tr>\n",
       "      <th>2</th>\n",
       "      <td>Informational</td>\n",
       "      <td>2.113723</td>\n",
       "    </tr>\n",
       "    <tr>\n",
       "      <th>3</th>\n",
       "      <td>Informational_Duration</td>\n",
       "      <td>1.777154</td>\n",
       "    </tr>\n",
       "    <tr>\n",
       "      <th>4</th>\n",
       "      <td>ProductRelated</td>\n",
       "      <td>6.339345</td>\n",
       "    </tr>\n",
       "    <tr>\n",
       "      <th>5</th>\n",
       "      <td>ProductRelated_Duration</td>\n",
       "      <td>6.012012</td>\n",
       "    </tr>\n",
       "    <tr>\n",
       "      <th>6</th>\n",
       "      <td>ExitRates</td>\n",
       "      <td>5.978858</td>\n",
       "    </tr>\n",
       "    <tr>\n",
       "      <th>7</th>\n",
       "      <td>BounceRates</td>\n",
       "      <td>5.557495</td>\n",
       "    </tr>\n",
       "    <tr>\n",
       "      <th>8</th>\n",
       "      <td>PageValues</td>\n",
       "      <td>1.077806</td>\n",
       "    </tr>\n",
       "    <tr>\n",
       "      <th>9</th>\n",
       "      <td>SpecialDay</td>\n",
       "      <td>1.105706</td>\n",
       "    </tr>\n",
       "  </tbody>\n",
       "</table>\n",
       "</div>"
      ],
      "text/plain": [
       "                 variables       VIF\n",
       "0           Administrative  2.651491\n",
       "1  Administrative_Duration  2.041915\n",
       "2            Informational  2.113723\n",
       "3   Informational_Duration  1.777154\n",
       "4           ProductRelated  6.339345\n",
       "5  ProductRelated_Duration  6.012012\n",
       "6                ExitRates  5.978858\n",
       "7              BounceRates  5.557495\n",
       "8               PageValues  1.077806\n",
       "9               SpecialDay  1.105706"
      ]
     },
     "execution_count": 80,
     "metadata": {},
     "output_type": "execute_result"
    }
   ],
   "source": [
    "def calc_vif(X):\n",
    "\n",
    " \n",
    "\n",
    "    # Calculating VIF\n",
    "    vif = pd.DataFrame()\n",
    "    vif[\"variables\"] = X.columns\n",
    "    vif[\"VIF\"] = [variance_inflation_factor(X.values, k) for k in range(X.shape[1])]\n",
    "\n",
    " \n",
    "\n",
    "    return(vif)\n",
    "\n",
    " \n",
    "\n",
    "independent_columns = dataset[['Administrative','Administrative_Duration','Informational','Informational_Duration','ProductRelated','ProductRelated_Duration','ExitRates','BounceRates','PageValues','SpecialDay']]\n",
    "print(type(independent_columns))\n",
    "\n",
    " \n",
    "\n",
    "calc_vif(independent_columns)"
   ]
  },
  {
   "cell_type": "code",
   "execution_count": 81,
   "metadata": {},
   "outputs": [],
   "source": [
    "#Values greater than 5 indicate extreme multicollinearity."
   ]
  },
  {
   "cell_type": "code",
   "execution_count": 82,
   "metadata": {},
   "outputs": [],
   "source": [
    "#Dropping the values to reduce multicollinearity.\n",
    "dataset.drop(['ProductRelated_Duration'], axis=1, inplace = True)\n",
    "dataset.drop(['BounceRates'], axis=1, inplace = True)"
   ]
  },
  {
   "cell_type": "code",
   "execution_count": 83,
   "metadata": {},
   "outputs": [
    {
     "name": "stdout",
     "output_type": "stream",
     "text": [
      "<class 'pandas.core.frame.DataFrame'>\n"
     ]
    },
    {
     "data": {
      "text/html": [
       "<div>\n",
       "<style scoped>\n",
       "    .dataframe tbody tr th:only-of-type {\n",
       "        vertical-align: middle;\n",
       "    }\n",
       "\n",
       "    .dataframe tbody tr th {\n",
       "        vertical-align: top;\n",
       "    }\n",
       "\n",
       "    .dataframe thead th {\n",
       "        text-align: right;\n",
       "    }\n",
       "</style>\n",
       "<table border=\"1\" class=\"dataframe\">\n",
       "  <thead>\n",
       "    <tr style=\"text-align: right;\">\n",
       "      <th></th>\n",
       "      <th>variables</th>\n",
       "      <th>VIF</th>\n",
       "    </tr>\n",
       "  </thead>\n",
       "  <tbody>\n",
       "    <tr>\n",
       "      <th>0</th>\n",
       "      <td>Administrative</td>\n",
       "      <td>2.564112</td>\n",
       "    </tr>\n",
       "    <tr>\n",
       "      <th>1</th>\n",
       "      <td>Administrative_Duration</td>\n",
       "      <td>1.922148</td>\n",
       "    </tr>\n",
       "    <tr>\n",
       "      <th>2</th>\n",
       "      <td>Informational</td>\n",
       "      <td>2.112900</td>\n",
       "    </tr>\n",
       "    <tr>\n",
       "      <th>3</th>\n",
       "      <td>Informational_Duration</td>\n",
       "      <td>1.730571</td>\n",
       "    </tr>\n",
       "    <tr>\n",
       "      <th>4</th>\n",
       "      <td>ProductRelated</td>\n",
       "      <td>1.813662</td>\n",
       "    </tr>\n",
       "    <tr>\n",
       "      <th>5</th>\n",
       "      <td>ExitRates</td>\n",
       "      <td>1.119284</td>\n",
       "    </tr>\n",
       "    <tr>\n",
       "      <th>6</th>\n",
       "      <td>PageValues</td>\n",
       "      <td>1.075445</td>\n",
       "    </tr>\n",
       "    <tr>\n",
       "      <th>7</th>\n",
       "      <td>SpecialDay</td>\n",
       "      <td>1.090461</td>\n",
       "    </tr>\n",
       "  </tbody>\n",
       "</table>\n",
       "</div>"
      ],
      "text/plain": [
       "                 variables       VIF\n",
       "0           Administrative  2.564112\n",
       "1  Administrative_Duration  1.922148\n",
       "2            Informational  2.112900\n",
       "3   Informational_Duration  1.730571\n",
       "4           ProductRelated  1.813662\n",
       "5                ExitRates  1.119284\n",
       "6               PageValues  1.075445\n",
       "7               SpecialDay  1.090461"
      ]
     },
     "execution_count": 83,
     "metadata": {},
     "output_type": "execute_result"
    }
   ],
   "source": [
    "#No multicolinearity\n",
    "\n",
    "def calc_vif(X):\n",
    "\n",
    " \n",
    "\n",
    "    # Calculating VIF\n",
    "    vif = pd.DataFrame()\n",
    "    vif[\"variables\"] = X.columns\n",
    "    vif[\"VIF\"] = [variance_inflation_factor(X.values, k) for k in range(X.shape[1])]\n",
    "\n",
    " \n",
    "\n",
    "    return(vif)\n",
    "\n",
    " \n",
    "\n",
    "independent_columns = dataset[['Administrative','Administrative_Duration','Informational','Informational_Duration',\n",
    "                               'ProductRelated','ExitRates','PageValues','SpecialDay']]\n",
    "print(type(independent_columns))\n",
    "\n",
    " \n",
    "\n",
    "calc_vif(independent_columns)"
   ]
  },
  {
   "cell_type": "markdown",
   "metadata": {},
   "source": [
    "# Pre-processing"
   ]
  },
  {
   "cell_type": "code",
   "execution_count": 84,
   "metadata": {},
   "outputs": [
    {
     "data": {
      "text/html": [
       "<div>\n",
       "<style scoped>\n",
       "    .dataframe tbody tr th:only-of-type {\n",
       "        vertical-align: middle;\n",
       "    }\n",
       "\n",
       "    .dataframe tbody tr th {\n",
       "        vertical-align: top;\n",
       "    }\n",
       "\n",
       "    .dataframe thead th {\n",
       "        text-align: right;\n",
       "    }\n",
       "</style>\n",
       "<table border=\"1\" class=\"dataframe\">\n",
       "  <thead>\n",
       "    <tr style=\"text-align: right;\">\n",
       "      <th></th>\n",
       "      <th>Administrative</th>\n",
       "      <th>Administrative_Duration</th>\n",
       "      <th>Informational</th>\n",
       "      <th>Informational_Duration</th>\n",
       "      <th>ProductRelated</th>\n",
       "      <th>ExitRates</th>\n",
       "      <th>PageValues</th>\n",
       "      <th>SpecialDay</th>\n",
       "      <th>Month</th>\n",
       "      <th>NewOperatingSystems</th>\n",
       "      <th>NewBrowser</th>\n",
       "      <th>Region</th>\n",
       "      <th>NewTrafficType</th>\n",
       "      <th>VisitorType</th>\n",
       "      <th>Weekend</th>\n",
       "      <th>Revenue</th>\n",
       "    </tr>\n",
       "  </thead>\n",
       "  <tbody>\n",
       "    <tr>\n",
       "      <th>0</th>\n",
       "      <td>0</td>\n",
       "      <td>0.0</td>\n",
       "      <td>0</td>\n",
       "      <td>0.0</td>\n",
       "      <td>1</td>\n",
       "      <td>0.200000</td>\n",
       "      <td>0.000000</td>\n",
       "      <td>0.0</td>\n",
       "      <td>Feb</td>\n",
       "      <td>1</td>\n",
       "      <td>1</td>\n",
       "      <td>1</td>\n",
       "      <td>1</td>\n",
       "      <td>Returning_Visitor</td>\n",
       "      <td>False</td>\n",
       "      <td>0.0</td>\n",
       "    </tr>\n",
       "    <tr>\n",
       "      <th>1</th>\n",
       "      <td>0</td>\n",
       "      <td>0.0</td>\n",
       "      <td>0</td>\n",
       "      <td>0.0</td>\n",
       "      <td>2</td>\n",
       "      <td>0.100000</td>\n",
       "      <td>0.000000</td>\n",
       "      <td>0.0</td>\n",
       "      <td>Feb</td>\n",
       "      <td>2</td>\n",
       "      <td>1</td>\n",
       "      <td>1</td>\n",
       "      <td>2</td>\n",
       "      <td>Returning_Visitor</td>\n",
       "      <td>False</td>\n",
       "      <td>0.0</td>\n",
       "    </tr>\n",
       "    <tr>\n",
       "      <th>2</th>\n",
       "      <td>0</td>\n",
       "      <td>0.0</td>\n",
       "      <td>0</td>\n",
       "      <td>0.0</td>\n",
       "      <td>1</td>\n",
       "      <td>0.200000</td>\n",
       "      <td>0.000000</td>\n",
       "      <td>0.0</td>\n",
       "      <td>Feb</td>\n",
       "      <td>2</td>\n",
       "      <td>1</td>\n",
       "      <td>9</td>\n",
       "      <td>1</td>\n",
       "      <td>Returning_Visitor</td>\n",
       "      <td>False</td>\n",
       "      <td>0.0</td>\n",
       "    </tr>\n",
       "    <tr>\n",
       "      <th>3</th>\n",
       "      <td>0</td>\n",
       "      <td>0.0</td>\n",
       "      <td>0</td>\n",
       "      <td>0.0</td>\n",
       "      <td>2</td>\n",
       "      <td>0.140000</td>\n",
       "      <td>0.000000</td>\n",
       "      <td>0.0</td>\n",
       "      <td>Feb</td>\n",
       "      <td>3</td>\n",
       "      <td>1</td>\n",
       "      <td>2</td>\n",
       "      <td>3</td>\n",
       "      <td>Returning_Visitor</td>\n",
       "      <td>False</td>\n",
       "      <td>0.0</td>\n",
       "    </tr>\n",
       "    <tr>\n",
       "      <th>4</th>\n",
       "      <td>0</td>\n",
       "      <td>0.0</td>\n",
       "      <td>0</td>\n",
       "      <td>0.0</td>\n",
       "      <td>10</td>\n",
       "      <td>0.050000</td>\n",
       "      <td>0.000000</td>\n",
       "      <td>0.0</td>\n",
       "      <td>Feb</td>\n",
       "      <td>3</td>\n",
       "      <td>3</td>\n",
       "      <td>1</td>\n",
       "      <td>3</td>\n",
       "      <td>Returning_Visitor</td>\n",
       "      <td>True</td>\n",
       "      <td>0.0</td>\n",
       "    </tr>\n",
       "    <tr>\n",
       "      <th>...</th>\n",
       "      <td>...</td>\n",
       "      <td>...</td>\n",
       "      <td>...</td>\n",
       "      <td>...</td>\n",
       "      <td>...</td>\n",
       "      <td>...</td>\n",
       "      <td>...</td>\n",
       "      <td>...</td>\n",
       "      <td>...</td>\n",
       "      <td>...</td>\n",
       "      <td>...</td>\n",
       "      <td>...</td>\n",
       "      <td>...</td>\n",
       "      <td>...</td>\n",
       "      <td>...</td>\n",
       "      <td>...</td>\n",
       "    </tr>\n",
       "    <tr>\n",
       "      <th>12325</th>\n",
       "      <td>3</td>\n",
       "      <td>145.0</td>\n",
       "      <td>0</td>\n",
       "      <td>0.0</td>\n",
       "      <td>53</td>\n",
       "      <td>0.029031</td>\n",
       "      <td>12.241717</td>\n",
       "      <td>0.0</td>\n",
       "      <td>Dec</td>\n",
       "      <td>2</td>\n",
       "      <td>4</td>\n",
       "      <td>1</td>\n",
       "      <td>1</td>\n",
       "      <td>Returning_Visitor</td>\n",
       "      <td>True</td>\n",
       "      <td>0.0</td>\n",
       "    </tr>\n",
       "    <tr>\n",
       "      <th>12326</th>\n",
       "      <td>0</td>\n",
       "      <td>0.0</td>\n",
       "      <td>0</td>\n",
       "      <td>0.0</td>\n",
       "      <td>5</td>\n",
       "      <td>0.021333</td>\n",
       "      <td>0.000000</td>\n",
       "      <td>0.0</td>\n",
       "      <td>Nov</td>\n",
       "      <td>3</td>\n",
       "      <td>1</td>\n",
       "      <td>1</td>\n",
       "      <td>5</td>\n",
       "      <td>Returning_Visitor</td>\n",
       "      <td>True</td>\n",
       "      <td>0.0</td>\n",
       "    </tr>\n",
       "    <tr>\n",
       "      <th>12327</th>\n",
       "      <td>0</td>\n",
       "      <td>0.0</td>\n",
       "      <td>0</td>\n",
       "      <td>0.0</td>\n",
       "      <td>6</td>\n",
       "      <td>0.086667</td>\n",
       "      <td>0.000000</td>\n",
       "      <td>0.0</td>\n",
       "      <td>Nov</td>\n",
       "      <td>3</td>\n",
       "      <td>1</td>\n",
       "      <td>1</td>\n",
       "      <td>7</td>\n",
       "      <td>Returning_Visitor</td>\n",
       "      <td>True</td>\n",
       "      <td>0.0</td>\n",
       "    </tr>\n",
       "    <tr>\n",
       "      <th>12328</th>\n",
       "      <td>4</td>\n",
       "      <td>75.0</td>\n",
       "      <td>0</td>\n",
       "      <td>0.0</td>\n",
       "      <td>15</td>\n",
       "      <td>0.021053</td>\n",
       "      <td>0.000000</td>\n",
       "      <td>0.0</td>\n",
       "      <td>Nov</td>\n",
       "      <td>2</td>\n",
       "      <td>1</td>\n",
       "      <td>3</td>\n",
       "      <td>2</td>\n",
       "      <td>Returning_Visitor</td>\n",
       "      <td>False</td>\n",
       "      <td>0.0</td>\n",
       "    </tr>\n",
       "    <tr>\n",
       "      <th>12329</th>\n",
       "      <td>0</td>\n",
       "      <td>0.0</td>\n",
       "      <td>0</td>\n",
       "      <td>0.0</td>\n",
       "      <td>3</td>\n",
       "      <td>0.066667</td>\n",
       "      <td>0.000000</td>\n",
       "      <td>0.0</td>\n",
       "      <td>Nov</td>\n",
       "      <td>3</td>\n",
       "      <td>1</td>\n",
       "      <td>1</td>\n",
       "      <td>2</td>\n",
       "      <td>New_Visitor</td>\n",
       "      <td>True</td>\n",
       "      <td>0.0</td>\n",
       "    </tr>\n",
       "  </tbody>\n",
       "</table>\n",
       "<p>12330 rows × 16 columns</p>\n",
       "</div>"
      ],
      "text/plain": [
       "       Administrative  Administrative_Duration  Informational  \\\n",
       "0                   0                      0.0              0   \n",
       "1                   0                      0.0              0   \n",
       "2                   0                      0.0              0   \n",
       "3                   0                      0.0              0   \n",
       "4                   0                      0.0              0   \n",
       "...               ...                      ...            ...   \n",
       "12325               3                    145.0              0   \n",
       "12326               0                      0.0              0   \n",
       "12327               0                      0.0              0   \n",
       "12328               4                     75.0              0   \n",
       "12329               0                      0.0              0   \n",
       "\n",
       "       Informational_Duration  ProductRelated  ExitRates  PageValues  \\\n",
       "0                         0.0               1   0.200000    0.000000   \n",
       "1                         0.0               2   0.100000    0.000000   \n",
       "2                         0.0               1   0.200000    0.000000   \n",
       "3                         0.0               2   0.140000    0.000000   \n",
       "4                         0.0              10   0.050000    0.000000   \n",
       "...                       ...             ...        ...         ...   \n",
       "12325                     0.0              53   0.029031   12.241717   \n",
       "12326                     0.0               5   0.021333    0.000000   \n",
       "12327                     0.0               6   0.086667    0.000000   \n",
       "12328                     0.0              15   0.021053    0.000000   \n",
       "12329                     0.0               3   0.066667    0.000000   \n",
       "\n",
       "       SpecialDay Month NewOperatingSystems NewBrowser  Region NewTrafficType  \\\n",
       "0             0.0   Feb                   1          1       1              1   \n",
       "1             0.0   Feb                   2          1       1              2   \n",
       "2             0.0   Feb                   2          1       9              1   \n",
       "3             0.0   Feb                   3          1       2              3   \n",
       "4             0.0   Feb                   3          3       1              3   \n",
       "...           ...   ...                 ...        ...     ...            ...   \n",
       "12325         0.0   Dec                   2          4       1              1   \n",
       "12326         0.0   Nov                   3          1       1              5   \n",
       "12327         0.0   Nov                   3          1       1              7   \n",
       "12328         0.0   Nov                   2          1       3              2   \n",
       "12329         0.0   Nov                   3          1       1              2   \n",
       "\n",
       "             VisitorType  Weekend  Revenue  \n",
       "0      Returning_Visitor    False      0.0  \n",
       "1      Returning_Visitor    False      0.0  \n",
       "2      Returning_Visitor    False      0.0  \n",
       "3      Returning_Visitor    False      0.0  \n",
       "4      Returning_Visitor     True      0.0  \n",
       "...                  ...      ...      ...  \n",
       "12325  Returning_Visitor     True      0.0  \n",
       "12326  Returning_Visitor     True      0.0  \n",
       "12327  Returning_Visitor     True      0.0  \n",
       "12328  Returning_Visitor    False      0.0  \n",
       "12329        New_Visitor     True      0.0  \n",
       "\n",
       "[12330 rows x 16 columns]"
      ]
     },
     "execution_count": 84,
     "metadata": {},
     "output_type": "execute_result"
    }
   ],
   "source": [
    "#Firstly we encode the output variable 'Revenue'\n",
    "enc= OneHotEncoder(drop='first',sparse= False)\n",
    "enc.fit(dataset[['Revenue',]])\n",
    "dataset_c = pd.DataFrame(enc.transform(dataset[['Revenue',]]))\n",
    "dataset_c.head()\n",
    "dataset = pd.concat([dataset[['Administrative','Administrative_Duration','Informational','Informational_Duration','ProductRelated',\n",
    "                              'ExitRates','PageValues','SpecialDay','Month',\n",
    "                              'NewOperatingSystems','NewBrowser','Region','NewTrafficType','VisitorType','Weekend']],dataset_c],axis=1)\n",
    "dataset.rename(columns={0:'Revenue'},inplace=True)\n",
    "dataset2 = dataset\n",
    "dataset2"
   ]
  },
  {
   "cell_type": "code",
   "execution_count": 85,
   "metadata": {},
   "outputs": [
    {
     "data": {
      "text/html": [
       "<div>\n",
       "<style scoped>\n",
       "    .dataframe tbody tr th:only-of-type {\n",
       "        vertical-align: middle;\n",
       "    }\n",
       "\n",
       "    .dataframe tbody tr th {\n",
       "        vertical-align: top;\n",
       "    }\n",
       "\n",
       "    .dataframe thead th {\n",
       "        text-align: right;\n",
       "    }\n",
       "</style>\n",
       "<table border=\"1\" class=\"dataframe\">\n",
       "  <thead>\n",
       "    <tr style=\"text-align: right;\">\n",
       "      <th></th>\n",
       "      <th>Administrative</th>\n",
       "      <th>Administrative_Duration</th>\n",
       "      <th>Informational</th>\n",
       "      <th>Informational_Duration</th>\n",
       "      <th>ProductRelated</th>\n",
       "      <th>ExitRates</th>\n",
       "      <th>PageValues</th>\n",
       "      <th>SpecialDay</th>\n",
       "      <th>Region</th>\n",
       "    </tr>\n",
       "  </thead>\n",
       "  <tbody>\n",
       "    <tr>\n",
       "      <th>count</th>\n",
       "      <td>9247.000000</td>\n",
       "      <td>9247.000000</td>\n",
       "      <td>9247.000000</td>\n",
       "      <td>9247.000000</td>\n",
       "      <td>9247.000000</td>\n",
       "      <td>9247.000000</td>\n",
       "      <td>9247.000000</td>\n",
       "      <td>9247.000000</td>\n",
       "      <td>9247.000000</td>\n",
       "    </tr>\n",
       "    <tr>\n",
       "      <th>mean</th>\n",
       "      <td>2.297934</td>\n",
       "      <td>81.049415</td>\n",
       "      <td>0.507516</td>\n",
       "      <td>34.653222</td>\n",
       "      <td>31.702823</td>\n",
       "      <td>0.042631</td>\n",
       "      <td>5.897237</td>\n",
       "      <td>0.059760</td>\n",
       "      <td>3.158105</td>\n",
       "    </tr>\n",
       "    <tr>\n",
       "      <th>std</th>\n",
       "      <td>3.289023</td>\n",
       "      <td>177.074002</td>\n",
       "      <td>1.272992</td>\n",
       "      <td>140.677507</td>\n",
       "      <td>44.749761</td>\n",
       "      <td>0.047899</td>\n",
       "      <td>18.683590</td>\n",
       "      <td>0.195951</td>\n",
       "      <td>2.415942</td>\n",
       "    </tr>\n",
       "    <tr>\n",
       "      <th>min</th>\n",
       "      <td>0.000000</td>\n",
       "      <td>0.000000</td>\n",
       "      <td>0.000000</td>\n",
       "      <td>0.000000</td>\n",
       "      <td>0.000000</td>\n",
       "      <td>0.000000</td>\n",
       "      <td>0.000000</td>\n",
       "      <td>0.000000</td>\n",
       "      <td>1.000000</td>\n",
       "    </tr>\n",
       "    <tr>\n",
       "      <th>25%</th>\n",
       "      <td>0.000000</td>\n",
       "      <td>0.000000</td>\n",
       "      <td>0.000000</td>\n",
       "      <td>0.000000</td>\n",
       "      <td>7.000000</td>\n",
       "      <td>0.014286</td>\n",
       "      <td>0.000000</td>\n",
       "      <td>0.000000</td>\n",
       "      <td>1.000000</td>\n",
       "    </tr>\n",
       "    <tr>\n",
       "      <th>50%</th>\n",
       "      <td>1.000000</td>\n",
       "      <td>7.100000</td>\n",
       "      <td>0.000000</td>\n",
       "      <td>0.000000</td>\n",
       "      <td>18.000000</td>\n",
       "      <td>0.025000</td>\n",
       "      <td>0.000000</td>\n",
       "      <td>0.000000</td>\n",
       "      <td>3.000000</td>\n",
       "    </tr>\n",
       "    <tr>\n",
       "      <th>75%</th>\n",
       "      <td>4.000000</td>\n",
       "      <td>91.950000</td>\n",
       "      <td>0.000000</td>\n",
       "      <td>0.000000</td>\n",
       "      <td>37.000000</td>\n",
       "      <td>0.050000</td>\n",
       "      <td>0.000000</td>\n",
       "      <td>0.000000</td>\n",
       "      <td>4.000000</td>\n",
       "    </tr>\n",
       "    <tr>\n",
       "      <th>max</th>\n",
       "      <td>27.000000</td>\n",
       "      <td>3398.750000</td>\n",
       "      <td>24.000000</td>\n",
       "      <td>2549.375000</td>\n",
       "      <td>705.000000</td>\n",
       "      <td>0.200000</td>\n",
       "      <td>361.763742</td>\n",
       "      <td>1.000000</td>\n",
       "      <td>9.000000</td>\n",
       "    </tr>\n",
       "  </tbody>\n",
       "</table>\n",
       "</div>"
      ],
      "text/plain": [
       "       Administrative  Administrative_Duration  Informational  \\\n",
       "count     9247.000000              9247.000000    9247.000000   \n",
       "mean         2.297934                81.049415       0.507516   \n",
       "std          3.289023               177.074002       1.272992   \n",
       "min          0.000000                 0.000000       0.000000   \n",
       "25%          0.000000                 0.000000       0.000000   \n",
       "50%          1.000000                 7.100000       0.000000   \n",
       "75%          4.000000                91.950000       0.000000   \n",
       "max         27.000000              3398.750000      24.000000   \n",
       "\n",
       "       Informational_Duration  ProductRelated    ExitRates   PageValues  \\\n",
       "count             9247.000000     9247.000000  9247.000000  9247.000000   \n",
       "mean                34.653222       31.702823     0.042631     5.897237   \n",
       "std                140.677507       44.749761     0.047899    18.683590   \n",
       "min                  0.000000        0.000000     0.000000     0.000000   \n",
       "25%                  0.000000        7.000000     0.014286     0.000000   \n",
       "50%                  0.000000       18.000000     0.025000     0.000000   \n",
       "75%                  0.000000       37.000000     0.050000     0.000000   \n",
       "max               2549.375000      705.000000     0.200000   361.763742   \n",
       "\n",
       "        SpecialDay       Region  \n",
       "count  9247.000000  9247.000000  \n",
       "mean      0.059760     3.158105  \n",
       "std       0.195951     2.415942  \n",
       "min       0.000000     1.000000  \n",
       "25%       0.000000     1.000000  \n",
       "50%       0.000000     3.000000  \n",
       "75%       0.000000     4.000000  \n",
       "max       1.000000     9.000000  "
      ]
     },
     "execution_count": 85,
     "metadata": {},
     "output_type": "execute_result"
    }
   ],
   "source": [
    "#Seperate inputs from output.\n",
    "datasetx = dataset2[['Administrative','Administrative_Duration','Informational','Informational_Duration',\n",
    "                     'ProductRelated','ExitRates','PageValues','SpecialDay','NewOperatingSystems',\n",
    "                     'NewBrowser','NewTrafficType','Month','Region','Weekend','VisitorType']]\n",
    "datasety = dataset2[['Revenue']]\n",
    "\n",
    "#Splitting the data in 75% for training and 25% for testing.\n",
    "X_train, X_test, y_train, y_test = train_test_split(datasetx, datasety, test_size=0.25, random_state=42)\n",
    "X_train.describe()"
   ]
  },
  {
   "cell_type": "code",
   "execution_count": 86,
   "metadata": {},
   "outputs": [],
   "source": [
    "# transformer for categorical features\n",
    "categorical_features = ['Weekend', 'Month', 'VisitorType','NewBrowser','Region','NewTrafficType', 'NewOperatingSystems']\n",
    "categorical_transformer = Pipeline(\n",
    "    [\n",
    "        ('onehot', OneHotEncoder(handle_unknown = 'ignore'))\n",
    "    ]\n",
    ")\n",
    "\n",
    "# transformer for numerical features\n",
    "numeric_features = ['Administrative','Administrative_Duration','Informational','Informational_Duration',\n",
    "                            'ProductRelated','ExitRates','PageValues','SpecialDay']\n",
    "numeric_transformer = Pipeline(\n",
    "    [\n",
    "        ('scaler', PowerTransformer())\n",
    "    ]\n",
    ")\n",
    "\n",
    "# combine them in a single ColumnTransformer\n",
    "preprocessor = ColumnTransformer(\n",
    "    [\n",
    "        ('categoricals', categorical_transformer, categorical_features),\n",
    "        ('numericals', numeric_transformer, numeric_features)\n",
    "    ],\n",
    "    remainder = 'drop'\n",
    ")"
   ]
  },
  {
   "cell_type": "markdown",
   "metadata": {},
   "source": [
    "# Classifiers"
   ]
  },
  {
   "cell_type": "code",
   "execution_count": 87,
   "metadata": {},
   "outputs": [
    {
     "name": "stderr",
     "output_type": "stream",
     "text": [
      "C:\\Users\\c2080129\\Anaconda3\\lib\\site-packages\\sklearn\\utils\\validation.py:73: DataConversionWarning: A column-vector y was passed when a 1d array was expected. Please change the shape of y to (n_samples, ), for example using ravel().\n",
      "  return f(**kwargs)\n"
     ]
    },
    {
     "name": "stdout",
     "output_type": "stream",
     "text": [
      "LogisticRegression(random_state=42)\n",
      "Metrics:\n",
      "              precision    recall  f1-score   support\n",
      "\n",
      "         0.0       0.92      0.95      0.94      2594\n",
      "         1.0       0.70      0.58      0.64       489\n",
      "\n",
      "    accuracy                           0.89      3083\n",
      "   macro avg       0.81      0.77      0.79      3083\n",
      "weighted avg       0.89      0.89      0.89      3083\n",
      "\n",
      "Accuracy: 0.894908\n"
     ]
    },
    {
     "name": "stderr",
     "output_type": "stream",
     "text": [
      "C:\\Users\\c2080129\\Anaconda3\\lib\\site-packages\\sklearn\\linear_model\\_logistic.py:762: ConvergenceWarning: lbfgs failed to converge (status=1):\n",
      "STOP: TOTAL NO. of ITERATIONS REACHED LIMIT.\n",
      "\n",
      "Increase the number of iterations (max_iter) or scale the data as shown in:\n",
      "    https://scikit-learn.org/stable/modules/preprocessing.html\n",
      "Please also refer to the documentation for alternative solver options:\n",
      "    https://scikit-learn.org/stable/modules/linear_model.html#logistic-regression\n",
      "  n_iter_i = _check_optimize_result(\n"
     ]
    }
   ],
   "source": [
    "#define pipeline\n",
    "model = LogisticRegression(random_state=42)\n",
    "steps = [('preprocessing', preprocessor),('model', model)]\n",
    "pipeline = Pipeline(steps=steps)\n",
    "\n",
    "#fit pipeline\n",
    "pipe = pipeline.fit(X_train,y_train)\n",
    "print(model)\n",
    "\n",
    "#results\n",
    "y_pred = pipe.predict(X_test)\n",
    "print('Metrics:')\n",
    "print(metrics.classification_report(y_test, y_pred))\n",
    "accuracy = accuracy_score(y_test,y_pred)\n",
    "print('Accuracy: %f' % accuracy)"
   ]
  },
  {
   "cell_type": "code",
   "execution_count": 88,
   "metadata": {},
   "outputs": [
    {
     "name": "stderr",
     "output_type": "stream",
     "text": [
      "C:\\Users\\c2080129\\Anaconda3\\lib\\site-packages\\sklearn\\utils\\validation.py:73: DataConversionWarning: A column-vector y was passed when a 1d array was expected. Please change the shape of y to (n_samples, ), for example using ravel().\n",
      "  return f(**kwargs)\n"
     ]
    },
    {
     "name": "stdout",
     "output_type": "stream",
     "text": [
      "SVC(probability=True, random_state=42)\n",
      "Metrics:\n",
      "              precision    recall  f1-score   support\n",
      "\n",
      "         0.0       0.92      0.96      0.94      2594\n",
      "         1.0       0.72      0.58      0.65       489\n",
      "\n",
      "    accuracy                           0.90      3083\n",
      "   macro avg       0.82      0.77      0.79      3083\n",
      "weighted avg       0.89      0.90      0.89      3083\n",
      "\n",
      "Accuracy: 0.898476\n"
     ]
    }
   ],
   "source": [
    "#define pipeline\n",
    "model1 = SVC(random_state=42,probability=True)\n",
    "steps = [('preprocessing', preprocessor),('model', model1)]\n",
    "pipeline1 = Pipeline(steps=steps)\n",
    "\n",
    "#fit pipeline\n",
    "pipe1 = pipeline1.fit(X_train,y_train)\n",
    "print(model1)\n",
    "\n",
    "#results\n",
    "y_pred1 = pipe1.predict(X_test)\n",
    "print('Metrics:')\n",
    "print(metrics.classification_report(y_test, y_pred1))\n",
    "accuracy1 = accuracy_score(y_test,y_pred1)\n",
    "print('Accuracy: %f' % accuracy1)"
   ]
  },
  {
   "cell_type": "code",
   "execution_count": 89,
   "metadata": {},
   "outputs": [
    {
     "name": "stderr",
     "output_type": "stream",
     "text": [
      "C:\\Users\\c2080129\\Anaconda3\\lib\\site-packages\\xgboost\\sklearn.py:892: UserWarning: The use of label encoder in XGBClassifier is deprecated and will be removed in a future release. To remove this warning, do the following: 1) Pass option use_label_encoder=False when constructing XGBClassifier object; and 2) Encode your labels (y) as integers starting with 0, i.e. 0, 1, 2, ..., [num_class - 1].\n",
      "  warnings.warn(label_encoder_deprecation_msg, UserWarning)\n",
      "C:\\Users\\c2080129\\Anaconda3\\lib\\site-packages\\sklearn\\utils\\validation.py:73: DataConversionWarning: A column-vector y was passed when a 1d array was expected. Please change the shape of y to (n_samples, ), for example using ravel().\n",
      "  return f(**kwargs)\n"
     ]
    },
    {
     "name": "stdout",
     "output_type": "stream",
     "text": [
      "[23:19:38] WARNING: C:/Users/Administrator/workspace/xgboost-win64_release_1.3.0/src/learner.cc:1061: Starting in XGBoost 1.3.0, the default evaluation metric used with the objective 'binary:logistic' was changed from 'error' to 'logloss'. Explicitly set eval_metric if you'd like to restore the old behavior.\n",
      "XGBClassifier(base_score=0.5, booster='gbtree', colsample_bylevel=1,\n",
      "              colsample_bynode=1, colsample_bytree=1, gamma=0, gpu_id=-1,\n",
      "              importance_type='gain', interaction_constraints='',\n",
      "              learning_rate=0.300000012, max_delta_step=0, max_depth=6,\n",
      "              min_child_weight=1, missing=nan, monotone_constraints='()',\n",
      "              n_estimators=100, n_jobs=8, num_parallel_tree=1, random_state=42,\n",
      "              reg_alpha=0, reg_lambda=1, scale_pos_weight=1, subsample=1,\n",
      "              tree_method='exact', validate_parameters=1, verbosity=None)\n",
      "Metrics:\n",
      "              precision    recall  f1-score   support\n",
      "\n",
      "         0.0       0.92      0.95      0.94      2594\n",
      "         1.0       0.70      0.58      0.64       489\n",
      "\n",
      "    accuracy                           0.89      3083\n",
      "   macro avg       0.81      0.77      0.79      3083\n",
      "weighted avg       0.89      0.89      0.89      3083\n",
      "\n",
      "Accuracy: 0.894583\n"
     ]
    }
   ],
   "source": [
    "#define pipeline\n",
    "model2 = XGBClassifier(random_state=42)\n",
    "steps = [('preprocessing', preprocessor),('model', model2)]\n",
    "pipeline2 = Pipeline(steps=steps)\n",
    "\n",
    "#fit pipeline\n",
    "pipe2 = pipeline2.fit(X_train,y_train)\n",
    "print(model2)\n",
    "\n",
    "#results\n",
    "y_pred2 = pipe2.predict(X_test)\n",
    "print('Metrics:')\n",
    "print(metrics.classification_report(y_test, y_pred2))\n",
    "accuracy2 = accuracy_score(y_test,y_pred2)\n",
    "print('Accuracy: %f' % accuracy2)"
   ]
  },
  {
   "cell_type": "markdown",
   "metadata": {},
   "source": [
    "# 3rd Model\n",
    "This Model contains everything used in the 2nd Model and we will use particular parameters so as to reduce the imbalance in our\n",
    "dataset.The 2nd Model was chosen over the 1st because it performed in a better way regarding the metrics."
   ]
  },
  {
   "cell_type": "code",
   "execution_count": 5,
   "metadata": {},
   "outputs": [],
   "source": [
    "dataset = pd.read_csv('C:/Users/c2080129/Downloads/Coursework_1_data(1).csv')"
   ]
  },
  {
   "cell_type": "markdown",
   "metadata": {},
   "source": [
    "# Binning"
   ]
  },
  {
   "cell_type": "code",
   "execution_count": 6,
   "metadata": {},
   "outputs": [
    {
     "name": "stdout",
     "output_type": "stream",
     "text": [
      "1 : 0.17180417044424298\n",
      "2 : 0.2120822622107969\n",
      "3 : 0.11718408395277656\n",
      "4 : 0.21628498727735368\n",
      "5 : 0.2\n",
      "6 : 0.11764705882352941\n",
      "7 : 0.16666666666666666\n",
      "8 : 0.27419354838709675\n"
     ]
    }
   ],
   "source": [
    "#Binning technique for categorical feature 'OperatingSystems'. The reason is that some 'states' did not had too many \n",
    "#observations as presented on the count plot and this might cause overfit.\n",
    "for t in range(1,9):\n",
    "    ost=dataset.loc[(dataset['OperatingSystems'] == t) & (dataset['Revenue'] == True)].OperatingSystems.sum()\n",
    "    osf=dataset.loc[(dataset['OperatingSystems'] == t) & (dataset['Revenue'] == False)].OperatingSystems.sum()  \n",
    "    perc3 = ost/osf\n",
    "    print(t,':',perc3)"
   ]
  },
  {
   "cell_type": "code",
   "execution_count": 7,
   "metadata": {},
   "outputs": [],
   "source": [
    "conditions = [\n",
    "    dataset['OperatingSystems'] == 1,\n",
    "    dataset['OperatingSystems'] == 2,\n",
    "    dataset['OperatingSystems'] == 3,\n",
    "    dataset['OperatingSystems'] == 4,\n",
    "    dataset['OperatingSystems'] == 5,\n",
    "    dataset['OperatingSystems'] == 6,\n",
    "    dataset['OperatingSystems'] == 7,\n",
    "    dataset['OperatingSystems'] == 8]\n",
    "\n",
    "choices = ['1','2','3','2','2','3','1','4']\n",
    "\n",
    "dataset['NewOperatingSystems'] = np.select(conditions, choices, default='Other')"
   ]
  },
  {
   "cell_type": "code",
   "execution_count": 8,
   "metadata": {},
   "outputs": [],
   "source": [
    "#dropping the 'OperatingSystems' column and adding the one calculated with binning technique.\n",
    "dataset['NewOperatingSystems'].value_counts()\n",
    "dataset.drop(['OperatingSystems'], axis=1, inplace = True)"
   ]
  },
  {
   "cell_type": "code",
   "execution_count": 9,
   "metadata": {},
   "outputs": [
    {
     "name": "stdout",
     "output_type": "stream",
     "text": [
      "1 : 0.17405817835002385\n",
      "2 : 0.1815078658355595\n",
      "3 : 0.05\n",
      "4 : 0.2145214521452145\n",
      "5 : 0.22572178477690288\n",
      "6 : 0.12987012987012986\n",
      "7 : 0.13953488372093023\n",
      "8 : 0.18421052631578946\n",
      "9 : 0.0\n",
      "10 : 0.24427480916030533\n",
      "11 : 0.2\n",
      "12 : 0.42857142857142855\n",
      "13 : 0.35555555555555557\n"
     ]
    }
   ],
   "source": [
    "#Binning technique for categorical feature 'Browser'. The reason is that some 'states' did not had too many \n",
    "#observations as presented on the count plot and this might cause overfit.\n",
    "for t in range(1,14):\n",
    "    bt=dataset.loc[(dataset['Browser'] == t) & (dataset['Revenue'] == True)].Browser.sum()\n",
    "    bf=dataset.loc[(dataset['Browser'] == t) & (dataset['Revenue'] == False)].Browser.sum()  \n",
    "    perc3 = bt/bf\n",
    "    print(t,':',perc3)"
   ]
  },
  {
   "cell_type": "code",
   "execution_count": 10,
   "metadata": {},
   "outputs": [],
   "source": [
    "conditions = [\n",
    "    dataset['Browser'] == 1,\n",
    "    dataset['Browser'] == 2,\n",
    "    dataset['Browser'] == 3,\n",
    "    dataset['Browser'] == 4,\n",
    "    dataset['Browser'] == 5,\n",
    "    dataset['Browser'] == 6,\n",
    "    dataset['Browser'] == 7,\n",
    "    dataset['Browser'] == 8,\n",
    "    dataset['Browser'] == 9,\n",
    "    dataset['Browser'] == 10,\n",
    "    dataset['Browser'] == 11,\n",
    "    dataset['Browser'] == 12,\n",
    "    dataset['Browser'] == 13]\n",
    "\n",
    "choices = ['1','1','3','2','2','4','4','1','3','2','1','5','5']\n",
    "\n",
    "dataset['NewBrowser'] = np.select(conditions, choices, default='Other')"
   ]
  },
  {
   "cell_type": "code",
   "execution_count": 11,
   "metadata": {},
   "outputs": [],
   "source": [
    "#dropping the 'Browser' column and adding the one calculated with binning technique.\n",
    "dataset['NewBrowser'].value_counts()\n",
    "dataset.drop(['Browser'], axis=1, inplace = True)"
   ]
  },
  {
   "cell_type": "code",
   "execution_count": 12,
   "metadata": {},
   "outputs": [
    {
     "name": "stdout",
     "output_type": "stream",
     "text": [
      "1 : 0.11968935587026039\n",
      "2 : 0.2762557077625571\n",
      "3 : 0.09615384615384616\n",
      "4 : 0.18252212389380532\n",
      "5 : 0.27450980392156865\n",
      "6 : 0.13554987212276215\n",
      "7 : 0.42857142857142855\n",
      "8 : 0.38306451612903225\n",
      "9 : 0.10526315789473684\n",
      "10 : 0.25\n",
      "11 : 0.235\n",
      "12 : 0.0\n",
      "13 : 0.0618705035971223\n",
      "14 : 0.18181818181818182\n",
      "15 : 0.0\n",
      "16 : 0.5\n",
      "17 : 0.0\n",
      "18 : 0.0\n",
      "19 : 0.0625\n",
      "20 : 0.33783783783783783\n"
     ]
    }
   ],
   "source": [
    "#Binning technique for categorical feature 'TrafficType'. The reason is that some 'states' did not had too many \n",
    "#observations as presented on the count plot and this might cause overfit.\n",
    "for x in range(1,21):\n",
    "    ttt=dataset.loc[(dataset['TrafficType'] == x) & (dataset['Revenue'] == True)].TrafficType.sum()\n",
    "    ttf=dataset.loc[(dataset['TrafficType'] == x) & (dataset['Revenue'] == False)].TrafficType.sum()\n",
    "    perc3 = ttt/ttf\n",
    "    print(x,':',perc3)"
   ]
  },
  {
   "cell_type": "code",
   "execution_count": 13,
   "metadata": {},
   "outputs": [],
   "source": [
    "conditions = [\n",
    "    dataset['TrafficType'] == 1,\n",
    "    dataset['TrafficType'] == 2,\n",
    "    dataset['TrafficType'] == 3,\n",
    "    dataset['TrafficType'] == 4,\n",
    "    dataset['TrafficType'] == 5,\n",
    "    dataset['TrafficType'] == 6,\n",
    "    dataset['TrafficType'] == 7,\n",
    "    dataset['TrafficType'] == 8,\n",
    "    dataset['TrafficType'] == 9,\n",
    "    dataset['TrafficType'] == 10,\n",
    "    dataset['TrafficType'] == 11,\n",
    "    dataset['TrafficType'] == 12,\n",
    "    dataset['TrafficType'] == 13,\n",
    "    dataset['TrafficType'] == 14,\n",
    "    dataset['TrafficType'] == 15,\n",
    "    dataset['TrafficType'] == 16,\n",
    "    dataset['TrafficType'] == 17,\n",
    "    dataset['TrafficType'] == 18,\n",
    "    dataset['TrafficType'] == 19,\n",
    "    dataset['TrafficType'] == 20]\n",
    "    \n",
    "\n",
    "choices = ['1','2','1','3','2','1','4','5','1','2','2','6','7','3','6','4','6','6','7','5']\n",
    "\n",
    "dataset['NewTrafficType'] = np.select(conditions, choices, default='Other')"
   ]
  },
  {
   "cell_type": "code",
   "execution_count": 14,
   "metadata": {},
   "outputs": [],
   "source": [
    "#dropping the 'TrafficType' column and adding the one calculated with binning technique.\n",
    "dataset['NewTrafficType'].value_counts()\n",
    "dataset.drop(['TrafficType'], axis=1, inplace = True)"
   ]
  },
  {
   "cell_type": "markdown",
   "metadata": {},
   "source": [
    "# Multicollinearity"
   ]
  },
  {
   "cell_type": "code",
   "execution_count": 15,
   "metadata": {},
   "outputs": [
    {
     "name": "stdout",
     "output_type": "stream",
     "text": [
      "<class 'pandas.core.frame.DataFrame'>\n"
     ]
    },
    {
     "data": {
      "text/html": [
       "<div>\n",
       "<style scoped>\n",
       "    .dataframe tbody tr th:only-of-type {\n",
       "        vertical-align: middle;\n",
       "    }\n",
       "\n",
       "    .dataframe tbody tr th {\n",
       "        vertical-align: top;\n",
       "    }\n",
       "\n",
       "    .dataframe thead th {\n",
       "        text-align: right;\n",
       "    }\n",
       "</style>\n",
       "<table border=\"1\" class=\"dataframe\">\n",
       "  <thead>\n",
       "    <tr style=\"text-align: right;\">\n",
       "      <th></th>\n",
       "      <th>variables</th>\n",
       "      <th>VIF</th>\n",
       "    </tr>\n",
       "  </thead>\n",
       "  <tbody>\n",
       "    <tr>\n",
       "      <th>0</th>\n",
       "      <td>Administrative</td>\n",
       "      <td>2.651491</td>\n",
       "    </tr>\n",
       "    <tr>\n",
       "      <th>1</th>\n",
       "      <td>Administrative_Duration</td>\n",
       "      <td>2.041915</td>\n",
       "    </tr>\n",
       "    <tr>\n",
       "      <th>2</th>\n",
       "      <td>Informational</td>\n",
       "      <td>2.113723</td>\n",
       "    </tr>\n",
       "    <tr>\n",
       "      <th>3</th>\n",
       "      <td>Informational_Duration</td>\n",
       "      <td>1.777154</td>\n",
       "    </tr>\n",
       "    <tr>\n",
       "      <th>4</th>\n",
       "      <td>ProductRelated</td>\n",
       "      <td>6.339345</td>\n",
       "    </tr>\n",
       "    <tr>\n",
       "      <th>5</th>\n",
       "      <td>ProductRelated_Duration</td>\n",
       "      <td>6.012012</td>\n",
       "    </tr>\n",
       "    <tr>\n",
       "      <th>6</th>\n",
       "      <td>ExitRates</td>\n",
       "      <td>5.978858</td>\n",
       "    </tr>\n",
       "    <tr>\n",
       "      <th>7</th>\n",
       "      <td>BounceRates</td>\n",
       "      <td>5.557495</td>\n",
       "    </tr>\n",
       "    <tr>\n",
       "      <th>8</th>\n",
       "      <td>PageValues</td>\n",
       "      <td>1.077806</td>\n",
       "    </tr>\n",
       "    <tr>\n",
       "      <th>9</th>\n",
       "      <td>SpecialDay</td>\n",
       "      <td>1.105706</td>\n",
       "    </tr>\n",
       "  </tbody>\n",
       "</table>\n",
       "</div>"
      ],
      "text/plain": [
       "                 variables       VIF\n",
       "0           Administrative  2.651491\n",
       "1  Administrative_Duration  2.041915\n",
       "2            Informational  2.113723\n",
       "3   Informational_Duration  1.777154\n",
       "4           ProductRelated  6.339345\n",
       "5  ProductRelated_Duration  6.012012\n",
       "6                ExitRates  5.978858\n",
       "7              BounceRates  5.557495\n",
       "8               PageValues  1.077806\n",
       "9               SpecialDay  1.105706"
      ]
     },
     "execution_count": 15,
     "metadata": {},
     "output_type": "execute_result"
    }
   ],
   "source": [
    "def calc_vif(X):\n",
    "\n",
    " \n",
    "\n",
    "    # Calculating VIF\n",
    "    vif = pd.DataFrame()\n",
    "    vif[\"variables\"] = X.columns\n",
    "    vif[\"VIF\"] = [variance_inflation_factor(X.values, k) for k in range(X.shape[1])]\n",
    "\n",
    " \n",
    "\n",
    "    return(vif)\n",
    "\n",
    " \n",
    "\n",
    "independent_columns = dataset[['Administrative','Administrative_Duration','Informational','Informational_Duration','ProductRelated','ProductRelated_Duration','ExitRates','BounceRates','PageValues','SpecialDay']]\n",
    "print(type(independent_columns))\n",
    "\n",
    " \n",
    "\n",
    "calc_vif(independent_columns)"
   ]
  },
  {
   "cell_type": "code",
   "execution_count": 16,
   "metadata": {},
   "outputs": [],
   "source": [
    "#Values greater than 5 indicate extreme multicollinearity."
   ]
  },
  {
   "cell_type": "code",
   "execution_count": 17,
   "metadata": {},
   "outputs": [],
   "source": [
    "#Dropping the values to reduce multicollinearity.\n",
    "dataset.drop(['ProductRelated_Duration'], axis=1, inplace = True)\n",
    "dataset.drop(['BounceRates'], axis=1, inplace = True)"
   ]
  },
  {
   "cell_type": "code",
   "execution_count": 18,
   "metadata": {},
   "outputs": [
    {
     "name": "stdout",
     "output_type": "stream",
     "text": [
      "<class 'pandas.core.frame.DataFrame'>\n"
     ]
    },
    {
     "data": {
      "text/html": [
       "<div>\n",
       "<style scoped>\n",
       "    .dataframe tbody tr th:only-of-type {\n",
       "        vertical-align: middle;\n",
       "    }\n",
       "\n",
       "    .dataframe tbody tr th {\n",
       "        vertical-align: top;\n",
       "    }\n",
       "\n",
       "    .dataframe thead th {\n",
       "        text-align: right;\n",
       "    }\n",
       "</style>\n",
       "<table border=\"1\" class=\"dataframe\">\n",
       "  <thead>\n",
       "    <tr style=\"text-align: right;\">\n",
       "      <th></th>\n",
       "      <th>variables</th>\n",
       "      <th>VIF</th>\n",
       "    </tr>\n",
       "  </thead>\n",
       "  <tbody>\n",
       "    <tr>\n",
       "      <th>0</th>\n",
       "      <td>Administrative</td>\n",
       "      <td>2.564112</td>\n",
       "    </tr>\n",
       "    <tr>\n",
       "      <th>1</th>\n",
       "      <td>Administrative_Duration</td>\n",
       "      <td>1.922148</td>\n",
       "    </tr>\n",
       "    <tr>\n",
       "      <th>2</th>\n",
       "      <td>Informational</td>\n",
       "      <td>2.112900</td>\n",
       "    </tr>\n",
       "    <tr>\n",
       "      <th>3</th>\n",
       "      <td>Informational_Duration</td>\n",
       "      <td>1.730571</td>\n",
       "    </tr>\n",
       "    <tr>\n",
       "      <th>4</th>\n",
       "      <td>ProductRelated</td>\n",
       "      <td>1.813662</td>\n",
       "    </tr>\n",
       "    <tr>\n",
       "      <th>5</th>\n",
       "      <td>ExitRates</td>\n",
       "      <td>1.119284</td>\n",
       "    </tr>\n",
       "    <tr>\n",
       "      <th>6</th>\n",
       "      <td>PageValues</td>\n",
       "      <td>1.075445</td>\n",
       "    </tr>\n",
       "    <tr>\n",
       "      <th>7</th>\n",
       "      <td>SpecialDay</td>\n",
       "      <td>1.090461</td>\n",
       "    </tr>\n",
       "  </tbody>\n",
       "</table>\n",
       "</div>"
      ],
      "text/plain": [
       "                 variables       VIF\n",
       "0           Administrative  2.564112\n",
       "1  Administrative_Duration  1.922148\n",
       "2            Informational  2.112900\n",
       "3   Informational_Duration  1.730571\n",
       "4           ProductRelated  1.813662\n",
       "5                ExitRates  1.119284\n",
       "6               PageValues  1.075445\n",
       "7               SpecialDay  1.090461"
      ]
     },
     "execution_count": 18,
     "metadata": {},
     "output_type": "execute_result"
    }
   ],
   "source": [
    "#No multicolinearity\n",
    "\n",
    "def calc_vif(X):\n",
    "\n",
    " \n",
    "\n",
    "    # Calculating VIF\n",
    "    vif = pd.DataFrame()\n",
    "    vif[\"variables\"] = X.columns\n",
    "    vif[\"VIF\"] = [variance_inflation_factor(X.values, k) for k in range(X.shape[1])]\n",
    "\n",
    " \n",
    "\n",
    "    return(vif)\n",
    "\n",
    " \n",
    "\n",
    "independent_columns = dataset[['Administrative','Administrative_Duration','Informational','Informational_Duration',\n",
    "                               'ProductRelated','ExitRates','PageValues','SpecialDay']]\n",
    "print(type(independent_columns))\n",
    "\n",
    " \n",
    "\n",
    "calc_vif(independent_columns)"
   ]
  },
  {
   "cell_type": "markdown",
   "metadata": {},
   "source": [
    "# Pre-processing"
   ]
  },
  {
   "cell_type": "code",
   "execution_count": 19,
   "metadata": {},
   "outputs": [
    {
     "data": {
      "text/html": [
       "<div>\n",
       "<style scoped>\n",
       "    .dataframe tbody tr th:only-of-type {\n",
       "        vertical-align: middle;\n",
       "    }\n",
       "\n",
       "    .dataframe tbody tr th {\n",
       "        vertical-align: top;\n",
       "    }\n",
       "\n",
       "    .dataframe thead th {\n",
       "        text-align: right;\n",
       "    }\n",
       "</style>\n",
       "<table border=\"1\" class=\"dataframe\">\n",
       "  <thead>\n",
       "    <tr style=\"text-align: right;\">\n",
       "      <th></th>\n",
       "      <th>Administrative</th>\n",
       "      <th>Administrative_Duration</th>\n",
       "      <th>Informational</th>\n",
       "      <th>Informational_Duration</th>\n",
       "      <th>ProductRelated</th>\n",
       "      <th>ExitRates</th>\n",
       "      <th>PageValues</th>\n",
       "      <th>SpecialDay</th>\n",
       "      <th>Month</th>\n",
       "      <th>NewOperatingSystems</th>\n",
       "      <th>NewBrowser</th>\n",
       "      <th>Region</th>\n",
       "      <th>NewTrafficType</th>\n",
       "      <th>VisitorType</th>\n",
       "      <th>Weekend</th>\n",
       "      <th>Revenue</th>\n",
       "    </tr>\n",
       "  </thead>\n",
       "  <tbody>\n",
       "    <tr>\n",
       "      <th>0</th>\n",
       "      <td>0</td>\n",
       "      <td>0.0</td>\n",
       "      <td>0</td>\n",
       "      <td>0.0</td>\n",
       "      <td>1</td>\n",
       "      <td>0.200000</td>\n",
       "      <td>0.000000</td>\n",
       "      <td>0.0</td>\n",
       "      <td>Feb</td>\n",
       "      <td>1</td>\n",
       "      <td>1</td>\n",
       "      <td>1</td>\n",
       "      <td>1</td>\n",
       "      <td>Returning_Visitor</td>\n",
       "      <td>False</td>\n",
       "      <td>0.0</td>\n",
       "    </tr>\n",
       "    <tr>\n",
       "      <th>1</th>\n",
       "      <td>0</td>\n",
       "      <td>0.0</td>\n",
       "      <td>0</td>\n",
       "      <td>0.0</td>\n",
       "      <td>2</td>\n",
       "      <td>0.100000</td>\n",
       "      <td>0.000000</td>\n",
       "      <td>0.0</td>\n",
       "      <td>Feb</td>\n",
       "      <td>2</td>\n",
       "      <td>1</td>\n",
       "      <td>1</td>\n",
       "      <td>2</td>\n",
       "      <td>Returning_Visitor</td>\n",
       "      <td>False</td>\n",
       "      <td>0.0</td>\n",
       "    </tr>\n",
       "    <tr>\n",
       "      <th>2</th>\n",
       "      <td>0</td>\n",
       "      <td>0.0</td>\n",
       "      <td>0</td>\n",
       "      <td>0.0</td>\n",
       "      <td>1</td>\n",
       "      <td>0.200000</td>\n",
       "      <td>0.000000</td>\n",
       "      <td>0.0</td>\n",
       "      <td>Feb</td>\n",
       "      <td>2</td>\n",
       "      <td>1</td>\n",
       "      <td>9</td>\n",
       "      <td>1</td>\n",
       "      <td>Returning_Visitor</td>\n",
       "      <td>False</td>\n",
       "      <td>0.0</td>\n",
       "    </tr>\n",
       "    <tr>\n",
       "      <th>3</th>\n",
       "      <td>0</td>\n",
       "      <td>0.0</td>\n",
       "      <td>0</td>\n",
       "      <td>0.0</td>\n",
       "      <td>2</td>\n",
       "      <td>0.140000</td>\n",
       "      <td>0.000000</td>\n",
       "      <td>0.0</td>\n",
       "      <td>Feb</td>\n",
       "      <td>3</td>\n",
       "      <td>1</td>\n",
       "      <td>2</td>\n",
       "      <td>3</td>\n",
       "      <td>Returning_Visitor</td>\n",
       "      <td>False</td>\n",
       "      <td>0.0</td>\n",
       "    </tr>\n",
       "    <tr>\n",
       "      <th>4</th>\n",
       "      <td>0</td>\n",
       "      <td>0.0</td>\n",
       "      <td>0</td>\n",
       "      <td>0.0</td>\n",
       "      <td>10</td>\n",
       "      <td>0.050000</td>\n",
       "      <td>0.000000</td>\n",
       "      <td>0.0</td>\n",
       "      <td>Feb</td>\n",
       "      <td>3</td>\n",
       "      <td>3</td>\n",
       "      <td>1</td>\n",
       "      <td>3</td>\n",
       "      <td>Returning_Visitor</td>\n",
       "      <td>True</td>\n",
       "      <td>0.0</td>\n",
       "    </tr>\n",
       "    <tr>\n",
       "      <th>...</th>\n",
       "      <td>...</td>\n",
       "      <td>...</td>\n",
       "      <td>...</td>\n",
       "      <td>...</td>\n",
       "      <td>...</td>\n",
       "      <td>...</td>\n",
       "      <td>...</td>\n",
       "      <td>...</td>\n",
       "      <td>...</td>\n",
       "      <td>...</td>\n",
       "      <td>...</td>\n",
       "      <td>...</td>\n",
       "      <td>...</td>\n",
       "      <td>...</td>\n",
       "      <td>...</td>\n",
       "      <td>...</td>\n",
       "    </tr>\n",
       "    <tr>\n",
       "      <th>12325</th>\n",
       "      <td>3</td>\n",
       "      <td>145.0</td>\n",
       "      <td>0</td>\n",
       "      <td>0.0</td>\n",
       "      <td>53</td>\n",
       "      <td>0.029031</td>\n",
       "      <td>12.241717</td>\n",
       "      <td>0.0</td>\n",
       "      <td>Dec</td>\n",
       "      <td>2</td>\n",
       "      <td>4</td>\n",
       "      <td>1</td>\n",
       "      <td>1</td>\n",
       "      <td>Returning_Visitor</td>\n",
       "      <td>True</td>\n",
       "      <td>0.0</td>\n",
       "    </tr>\n",
       "    <tr>\n",
       "      <th>12326</th>\n",
       "      <td>0</td>\n",
       "      <td>0.0</td>\n",
       "      <td>0</td>\n",
       "      <td>0.0</td>\n",
       "      <td>5</td>\n",
       "      <td>0.021333</td>\n",
       "      <td>0.000000</td>\n",
       "      <td>0.0</td>\n",
       "      <td>Nov</td>\n",
       "      <td>3</td>\n",
       "      <td>1</td>\n",
       "      <td>1</td>\n",
       "      <td>5</td>\n",
       "      <td>Returning_Visitor</td>\n",
       "      <td>True</td>\n",
       "      <td>0.0</td>\n",
       "    </tr>\n",
       "    <tr>\n",
       "      <th>12327</th>\n",
       "      <td>0</td>\n",
       "      <td>0.0</td>\n",
       "      <td>0</td>\n",
       "      <td>0.0</td>\n",
       "      <td>6</td>\n",
       "      <td>0.086667</td>\n",
       "      <td>0.000000</td>\n",
       "      <td>0.0</td>\n",
       "      <td>Nov</td>\n",
       "      <td>3</td>\n",
       "      <td>1</td>\n",
       "      <td>1</td>\n",
       "      <td>7</td>\n",
       "      <td>Returning_Visitor</td>\n",
       "      <td>True</td>\n",
       "      <td>0.0</td>\n",
       "    </tr>\n",
       "    <tr>\n",
       "      <th>12328</th>\n",
       "      <td>4</td>\n",
       "      <td>75.0</td>\n",
       "      <td>0</td>\n",
       "      <td>0.0</td>\n",
       "      <td>15</td>\n",
       "      <td>0.021053</td>\n",
       "      <td>0.000000</td>\n",
       "      <td>0.0</td>\n",
       "      <td>Nov</td>\n",
       "      <td>2</td>\n",
       "      <td>1</td>\n",
       "      <td>3</td>\n",
       "      <td>2</td>\n",
       "      <td>Returning_Visitor</td>\n",
       "      <td>False</td>\n",
       "      <td>0.0</td>\n",
       "    </tr>\n",
       "    <tr>\n",
       "      <th>12329</th>\n",
       "      <td>0</td>\n",
       "      <td>0.0</td>\n",
       "      <td>0</td>\n",
       "      <td>0.0</td>\n",
       "      <td>3</td>\n",
       "      <td>0.066667</td>\n",
       "      <td>0.000000</td>\n",
       "      <td>0.0</td>\n",
       "      <td>Nov</td>\n",
       "      <td>3</td>\n",
       "      <td>1</td>\n",
       "      <td>1</td>\n",
       "      <td>2</td>\n",
       "      <td>New_Visitor</td>\n",
       "      <td>True</td>\n",
       "      <td>0.0</td>\n",
       "    </tr>\n",
       "  </tbody>\n",
       "</table>\n",
       "<p>12330 rows × 16 columns</p>\n",
       "</div>"
      ],
      "text/plain": [
       "       Administrative  Administrative_Duration  Informational  \\\n",
       "0                   0                      0.0              0   \n",
       "1                   0                      0.0              0   \n",
       "2                   0                      0.0              0   \n",
       "3                   0                      0.0              0   \n",
       "4                   0                      0.0              0   \n",
       "...               ...                      ...            ...   \n",
       "12325               3                    145.0              0   \n",
       "12326               0                      0.0              0   \n",
       "12327               0                      0.0              0   \n",
       "12328               4                     75.0              0   \n",
       "12329               0                      0.0              0   \n",
       "\n",
       "       Informational_Duration  ProductRelated  ExitRates  PageValues  \\\n",
       "0                         0.0               1   0.200000    0.000000   \n",
       "1                         0.0               2   0.100000    0.000000   \n",
       "2                         0.0               1   0.200000    0.000000   \n",
       "3                         0.0               2   0.140000    0.000000   \n",
       "4                         0.0              10   0.050000    0.000000   \n",
       "...                       ...             ...        ...         ...   \n",
       "12325                     0.0              53   0.029031   12.241717   \n",
       "12326                     0.0               5   0.021333    0.000000   \n",
       "12327                     0.0               6   0.086667    0.000000   \n",
       "12328                     0.0              15   0.021053    0.000000   \n",
       "12329                     0.0               3   0.066667    0.000000   \n",
       "\n",
       "       SpecialDay Month NewOperatingSystems NewBrowser  Region NewTrafficType  \\\n",
       "0             0.0   Feb                   1          1       1              1   \n",
       "1             0.0   Feb                   2          1       1              2   \n",
       "2             0.0   Feb                   2          1       9              1   \n",
       "3             0.0   Feb                   3          1       2              3   \n",
       "4             0.0   Feb                   3          3       1              3   \n",
       "...           ...   ...                 ...        ...     ...            ...   \n",
       "12325         0.0   Dec                   2          4       1              1   \n",
       "12326         0.0   Nov                   3          1       1              5   \n",
       "12327         0.0   Nov                   3          1       1              7   \n",
       "12328         0.0   Nov                   2          1       3              2   \n",
       "12329         0.0   Nov                   3          1       1              2   \n",
       "\n",
       "             VisitorType  Weekend  Revenue  \n",
       "0      Returning_Visitor    False      0.0  \n",
       "1      Returning_Visitor    False      0.0  \n",
       "2      Returning_Visitor    False      0.0  \n",
       "3      Returning_Visitor    False      0.0  \n",
       "4      Returning_Visitor     True      0.0  \n",
       "...                  ...      ...      ...  \n",
       "12325  Returning_Visitor     True      0.0  \n",
       "12326  Returning_Visitor     True      0.0  \n",
       "12327  Returning_Visitor     True      0.0  \n",
       "12328  Returning_Visitor    False      0.0  \n",
       "12329        New_Visitor     True      0.0  \n",
       "\n",
       "[12330 rows x 16 columns]"
      ]
     },
     "execution_count": 19,
     "metadata": {},
     "output_type": "execute_result"
    }
   ],
   "source": [
    "#Firstly we encode the output variable 'Revenue'\n",
    "enc= OneHotEncoder(drop='first',sparse= False)\n",
    "enc.fit(dataset[['Revenue',]])\n",
    "dataset_c = pd.DataFrame(enc.transform(dataset[['Revenue',]]))\n",
    "dataset_c.head()\n",
    "dataset = pd.concat([dataset[['Administrative','Administrative_Duration','Informational','Informational_Duration',\n",
    "                              'ProductRelated','ExitRates','PageValues','SpecialDay','Month',\n",
    "                              'NewOperatingSystems','NewBrowser','Region','NewTrafficType','VisitorType','Weekend']],dataset_c],axis=1)\n",
    "dataset.rename(columns={0:'Revenue'},inplace=True)\n",
    "dataset2 = dataset\n",
    "dataset2"
   ]
  },
  {
   "cell_type": "code",
   "execution_count": 20,
   "metadata": {},
   "outputs": [
    {
     "data": {
      "text/html": [
       "<div>\n",
       "<style scoped>\n",
       "    .dataframe tbody tr th:only-of-type {\n",
       "        vertical-align: middle;\n",
       "    }\n",
       "\n",
       "    .dataframe tbody tr th {\n",
       "        vertical-align: top;\n",
       "    }\n",
       "\n",
       "    .dataframe thead th {\n",
       "        text-align: right;\n",
       "    }\n",
       "</style>\n",
       "<table border=\"1\" class=\"dataframe\">\n",
       "  <thead>\n",
       "    <tr style=\"text-align: right;\">\n",
       "      <th></th>\n",
       "      <th>Administrative</th>\n",
       "      <th>Administrative_Duration</th>\n",
       "      <th>Informational</th>\n",
       "      <th>Informational_Duration</th>\n",
       "      <th>ProductRelated</th>\n",
       "      <th>ExitRates</th>\n",
       "      <th>PageValues</th>\n",
       "      <th>SpecialDay</th>\n",
       "      <th>Region</th>\n",
       "    </tr>\n",
       "  </thead>\n",
       "  <tbody>\n",
       "    <tr>\n",
       "      <th>count</th>\n",
       "      <td>9247.000000</td>\n",
       "      <td>9247.000000</td>\n",
       "      <td>9247.000000</td>\n",
       "      <td>9247.000000</td>\n",
       "      <td>9247.000000</td>\n",
       "      <td>9247.000000</td>\n",
       "      <td>9247.000000</td>\n",
       "      <td>9247.000000</td>\n",
       "      <td>9247.000000</td>\n",
       "    </tr>\n",
       "    <tr>\n",
       "      <th>mean</th>\n",
       "      <td>2.297934</td>\n",
       "      <td>81.049415</td>\n",
       "      <td>0.507516</td>\n",
       "      <td>34.653222</td>\n",
       "      <td>31.702823</td>\n",
       "      <td>0.042631</td>\n",
       "      <td>5.897237</td>\n",
       "      <td>0.059760</td>\n",
       "      <td>3.158105</td>\n",
       "    </tr>\n",
       "    <tr>\n",
       "      <th>std</th>\n",
       "      <td>3.289023</td>\n",
       "      <td>177.074002</td>\n",
       "      <td>1.272992</td>\n",
       "      <td>140.677507</td>\n",
       "      <td>44.749761</td>\n",
       "      <td>0.047899</td>\n",
       "      <td>18.683590</td>\n",
       "      <td>0.195951</td>\n",
       "      <td>2.415942</td>\n",
       "    </tr>\n",
       "    <tr>\n",
       "      <th>min</th>\n",
       "      <td>0.000000</td>\n",
       "      <td>0.000000</td>\n",
       "      <td>0.000000</td>\n",
       "      <td>0.000000</td>\n",
       "      <td>0.000000</td>\n",
       "      <td>0.000000</td>\n",
       "      <td>0.000000</td>\n",
       "      <td>0.000000</td>\n",
       "      <td>1.000000</td>\n",
       "    </tr>\n",
       "    <tr>\n",
       "      <th>25%</th>\n",
       "      <td>0.000000</td>\n",
       "      <td>0.000000</td>\n",
       "      <td>0.000000</td>\n",
       "      <td>0.000000</td>\n",
       "      <td>7.000000</td>\n",
       "      <td>0.014286</td>\n",
       "      <td>0.000000</td>\n",
       "      <td>0.000000</td>\n",
       "      <td>1.000000</td>\n",
       "    </tr>\n",
       "    <tr>\n",
       "      <th>50%</th>\n",
       "      <td>1.000000</td>\n",
       "      <td>7.100000</td>\n",
       "      <td>0.000000</td>\n",
       "      <td>0.000000</td>\n",
       "      <td>18.000000</td>\n",
       "      <td>0.025000</td>\n",
       "      <td>0.000000</td>\n",
       "      <td>0.000000</td>\n",
       "      <td>3.000000</td>\n",
       "    </tr>\n",
       "    <tr>\n",
       "      <th>75%</th>\n",
       "      <td>4.000000</td>\n",
       "      <td>91.950000</td>\n",
       "      <td>0.000000</td>\n",
       "      <td>0.000000</td>\n",
       "      <td>37.000000</td>\n",
       "      <td>0.050000</td>\n",
       "      <td>0.000000</td>\n",
       "      <td>0.000000</td>\n",
       "      <td>4.000000</td>\n",
       "    </tr>\n",
       "    <tr>\n",
       "      <th>max</th>\n",
       "      <td>27.000000</td>\n",
       "      <td>3398.750000</td>\n",
       "      <td>24.000000</td>\n",
       "      <td>2549.375000</td>\n",
       "      <td>705.000000</td>\n",
       "      <td>0.200000</td>\n",
       "      <td>361.763742</td>\n",
       "      <td>1.000000</td>\n",
       "      <td>9.000000</td>\n",
       "    </tr>\n",
       "  </tbody>\n",
       "</table>\n",
       "</div>"
      ],
      "text/plain": [
       "       Administrative  Administrative_Duration  Informational  \\\n",
       "count     9247.000000              9247.000000    9247.000000   \n",
       "mean         2.297934                81.049415       0.507516   \n",
       "std          3.289023               177.074002       1.272992   \n",
       "min          0.000000                 0.000000       0.000000   \n",
       "25%          0.000000                 0.000000       0.000000   \n",
       "50%          1.000000                 7.100000       0.000000   \n",
       "75%          4.000000                91.950000       0.000000   \n",
       "max         27.000000              3398.750000      24.000000   \n",
       "\n",
       "       Informational_Duration  ProductRelated    ExitRates   PageValues  \\\n",
       "count             9247.000000     9247.000000  9247.000000  9247.000000   \n",
       "mean                34.653222       31.702823     0.042631     5.897237   \n",
       "std                140.677507       44.749761     0.047899    18.683590   \n",
       "min                  0.000000        0.000000     0.000000     0.000000   \n",
       "25%                  0.000000        7.000000     0.014286     0.000000   \n",
       "50%                  0.000000       18.000000     0.025000     0.000000   \n",
       "75%                  0.000000       37.000000     0.050000     0.000000   \n",
       "max               2549.375000      705.000000     0.200000   361.763742   \n",
       "\n",
       "        SpecialDay       Region  \n",
       "count  9247.000000  9247.000000  \n",
       "mean      0.059760     3.158105  \n",
       "std       0.195951     2.415942  \n",
       "min       0.000000     1.000000  \n",
       "25%       0.000000     1.000000  \n",
       "50%       0.000000     3.000000  \n",
       "75%       0.000000     4.000000  \n",
       "max       1.000000     9.000000  "
      ]
     },
     "execution_count": 20,
     "metadata": {},
     "output_type": "execute_result"
    }
   ],
   "source": [
    "#Seperate inputs from output.\n",
    "datasetx = dataset2[['Administrative','Administrative_Duration','Informational','Informational_Duration',\n",
    "                     'ProductRelated','ExitRates','PageValues','SpecialDay','NewOperatingSystems',\n",
    "                     'NewBrowser','NewTrafficType','Month','Region','Weekend','VisitorType']]\n",
    "datasety = dataset2[['Revenue']]\n",
    "\n",
    "#Splitting the data in 75% for training and 25% for testing.\n",
    "X_train, X_test, y_train, y_test = train_test_split(datasetx, datasety, test_size=0.25, random_state=42)\n",
    "X_train.describe()"
   ]
  },
  {
   "cell_type": "code",
   "execution_count": 21,
   "metadata": {},
   "outputs": [],
   "source": [
    "# transformer for categorical features\n",
    "categorical_features = ['Weekend', 'Month', 'VisitorType','NewBrowser','Region','NewTrafficType', 'NewOperatingSystems']\n",
    "categorical_transformer = Pipeline(\n",
    "    [\n",
    "        ('onehot', OneHotEncoder(handle_unknown = 'ignore'))\n",
    "    ]\n",
    ")\n",
    "\n",
    "# transformer for numerical features\n",
    "numeric_features = ['Administrative','Administrative_Duration','Informational','Informational_Duration',\n",
    "                            'ProductRelated','ExitRates','PageValues','SpecialDay']\n",
    "numeric_transformer = Pipeline(\n",
    "    [\n",
    "        ('scaler', PowerTransformer())\n",
    "    ]\n",
    ")\n",
    "\n",
    "# combine them in a single ColumnTransformer\n",
    "preprocessor = ColumnTransformer(\n",
    "    [\n",
    "        ('categoricals', categorical_transformer, categorical_features),\n",
    "        ('numericals', numeric_transformer, numeric_features)\n",
    "    ],\n",
    "    remainder = 'drop'\n",
    ")"
   ]
  },
  {
   "cell_type": "markdown",
   "metadata": {},
   "source": [
    "# Classifiers"
   ]
  },
  {
   "cell_type": "markdown",
   "metadata": {},
   "source": [
    "We add the parameter class_weight to balance(not perfectly) the imbalance data."
   ]
  },
  {
   "cell_type": "code",
   "execution_count": 107,
   "metadata": {},
   "outputs": [
    {
     "name": "stderr",
     "output_type": "stream",
     "text": [
      "C:\\Users\\c2080129\\Anaconda3\\lib\\site-packages\\sklearn\\utils\\validation.py:73: DataConversionWarning: A column-vector y was passed when a 1d array was expected. Please change the shape of y to (n_samples, ), for example using ravel().\n",
      "  return f(**kwargs)\n"
     ]
    },
    {
     "name": "stdout",
     "output_type": "stream",
     "text": [
      "LogisticRegression(class_weight={0: 0.3, 1: 0.7}, random_state=42)\n",
      "Metrics:\n",
      "              precision    recall  f1-score   support\n",
      "\n",
      "         0.0       0.95      0.91      0.93      2594\n",
      "         1.0       0.60      0.75      0.67       489\n",
      "\n",
      "    accuracy                           0.88      3083\n",
      "   macro avg       0.78      0.83      0.80      3083\n",
      "weighted avg       0.90      0.88      0.89      3083\n",
      "\n",
      "Accuracy: 0.881609\n"
     ]
    },
    {
     "name": "stderr",
     "output_type": "stream",
     "text": [
      "C:\\Users\\c2080129\\Anaconda3\\lib\\site-packages\\sklearn\\linear_model\\_logistic.py:762: ConvergenceWarning: lbfgs failed to converge (status=1):\n",
      "STOP: TOTAL NO. of ITERATIONS REACHED LIMIT.\n",
      "\n",
      "Increase the number of iterations (max_iter) or scale the data as shown in:\n",
      "    https://scikit-learn.org/stable/modules/preprocessing.html\n",
      "Please also refer to the documentation for alternative solver options:\n",
      "    https://scikit-learn.org/stable/modules/linear_model.html#logistic-regression\n",
      "  n_iter_i = _check_optimize_result(\n"
     ]
    }
   ],
   "source": [
    "#define pipeline\n",
    "model = LogisticRegression(random_state=42,class_weight={0:0.3,1:0.7})\n",
    "steps = [('preprocessing', preprocessor),('model', model)]\n",
    "pipeline = Pipeline(steps=steps)\n",
    "\n",
    "#fit pipeline\n",
    "pipe = pipeline.fit(X_train,y_train)\n",
    "print(model)\n",
    "\n",
    "#results\n",
    "y_pred = pipe.predict(X_test)\n",
    "print('Metrics:')\n",
    "print(metrics.classification_report(y_test, y_pred))\n",
    "accuracy = accuracy_score(y_test,y_pred)\n",
    "print('Accuracy: %f' % accuracy)"
   ]
  },
  {
   "cell_type": "markdown",
   "metadata": {},
   "source": [
    "The overall performance improves when we try to balance the data in a proper way.So, we are going to tune this particular model."
   ]
  },
  {
   "cell_type": "code",
   "execution_count": 108,
   "metadata": {},
   "outputs": [
    {
     "name": "stderr",
     "output_type": "stream",
     "text": [
      "C:\\Users\\c2080129\\Anaconda3\\lib\\site-packages\\sklearn\\utils\\validation.py:73: DataConversionWarning: A column-vector y was passed when a 1d array was expected. Please change the shape of y to (n_samples, ), for example using ravel().\n",
      "  return f(**kwargs)\n"
     ]
    },
    {
     "name": "stdout",
     "output_type": "stream",
     "text": [
      "Best F-Score: 0.6717986240948992\n",
      "Best Hyperparameters: {'model__solver': 'saga', 'model__penalty': 'l1', 'model__class_weight': {0: 0.34824120603015074, 1: 0.6517587939698493}, 'model__C': 29.763514416313132}\n"
     ]
    },
    {
     "name": "stderr",
     "output_type": "stream",
     "text": [
      "C:\\Users\\c2080129\\Anaconda3\\lib\\site-packages\\sklearn\\linear_model\\_sag.py:329: ConvergenceWarning: The max_iter was reached which means the coef_ did not converge\n",
      "  warnings.warn(\"The max_iter was reached which means \"\n"
     ]
    }
   ],
   "source": [
    "# define search space\n",
    "C = np.logspace(-4, 4, 20)\n",
    "penalty = ['l1', 'l2']\n",
    "weights = np.linspace(0,0.99,200)\n",
    "class_weight=[{0:x, 1:1-x} for x in weights]\n",
    "solver = ['newton-cg', 'lbfgs', 'liblinear', 'sag', 'saga']\n",
    "param_grid = {'model__C' : C ,'model__penalty': penalty, 'model__class_weight' : class_weight,'model__solver':solver} \n",
    "\n",
    "\n",
    "# define classification model\n",
    "model = LogisticRegression(random_state=42)\n",
    "steps = [('preprocessing', preprocessor),('model', model)]\n",
    "pipeline = Pipeline(steps=steps)\n",
    "\n",
    "# define evaluation\n",
    "cv = RepeatedStratifiedKFold(n_splits=5, n_repeats=3,random_state=42)\n",
    "\n",
    "# define search\n",
    "search = RandomizedSearchCV(pipeline, param_grid,scoring='f1', n_jobs=-1, cv=cv)\n",
    "\n",
    "# execute search\n",
    "result = search.fit(X_train,y_train)\n",
    "\n",
    "# summarize result\n",
    "print('Best F-Score: %s' % result.best_score_)\n",
    "print('Best Hyperparameters: %s' % result.best_params_)"
   ]
  },
  {
   "cell_type": "markdown",
   "metadata": {},
   "source": [
    "We add the parameter class_weight to balance(not perfectly) the imbalance data."
   ]
  },
  {
   "cell_type": "code",
   "execution_count": 22,
   "metadata": {},
   "outputs": [
    {
     "name": "stderr",
     "output_type": "stream",
     "text": [
      "C:\\Users\\c2080129\\Anaconda3\\lib\\site-packages\\sklearn\\utils\\validation.py:73: DataConversionWarning: A column-vector y was passed when a 1d array was expected. Please change the shape of y to (n_samples, ), for example using ravel().\n",
      "  return f(**kwargs)\n"
     ]
    },
    {
     "name": "stdout",
     "output_type": "stream",
     "text": [
      "SVC(class_weight={0: 0.3, 1: 0.7}, probability=True, random_state=42)\n",
      "Metrics:\n",
      "              precision    recall  f1-score   support\n",
      "\n",
      "         0.0       0.96      0.89      0.93      2594\n",
      "         1.0       0.59      0.80      0.68       489\n",
      "\n",
      "    accuracy                           0.88      3083\n",
      "   macro avg       0.77      0.85      0.80      3083\n",
      "weighted avg       0.90      0.88      0.89      3083\n",
      "\n",
      "Accuracy: 0.878690\n"
     ]
    }
   ],
   "source": [
    "#define pipeline\n",
    "model1 = SVC(random_state=42,class_weight={0:0.3,1:0.7},probability=True)\n",
    "steps = [('preprocessing', preprocessor),('model', model1)]\n",
    "pipeline1 = Pipeline(steps=steps)\n",
    "\n",
    "#fit pipeline\n",
    "pipe1 = pipeline1.fit(X_train,y_train)\n",
    "print(model1)\n",
    "\n",
    "#results\n",
    "y_pred1 = pipe1.predict(X_test)\n",
    "print('Metrics:')\n",
    "print(metrics.classification_report(y_test, y_pred1))\n",
    "accuracy1 = accuracy_score(y_test,y_pred1)\n",
    "print('Accuracy: %f' % accuracy1)"
   ]
  },
  {
   "cell_type": "markdown",
   "metadata": {},
   "source": [
    "The overall performance improves when we try to balance the data in a proper way.So, we are going to tune this particular model."
   ]
  },
  {
   "cell_type": "code",
   "execution_count": 123,
   "metadata": {},
   "outputs": [
    {
     "name": "stderr",
     "output_type": "stream",
     "text": [
      "C:\\Users\\c2080129\\Anaconda3\\lib\\site-packages\\sklearn\\utils\\validation.py:73: DataConversionWarning: A column-vector y was passed when a 1d array was expected. Please change the shape of y to (n_samples, ), for example using ravel().\n",
      "  return f(**kwargs)\n"
     ]
    },
    {
     "name": "stdout",
     "output_type": "stream",
     "text": [
      "Best F-Score: 0.6613431772992286\n",
      "Best Hyperparameters: {'model__kernel': 'linear', 'model__class_weight': {0: 0.2636683417085427, 1: 0.7363316582914573}, 'model__C': 78.47599703514607}\n"
     ]
    }
   ],
   "source": [
    "# define search space\n",
    "C = np.logspace(-4, 4, 20)\n",
    "weights = np.linspace(0,0.99,200)\n",
    "class_weight=[{0:x, 1:1-x} for x in weights]\n",
    "kernel=[\"linear\", \"poly\", \"rbf\", \"sigmoid\", \"precomputed\"]\n",
    "param_grid1 = {'model__C': C , 'model__class_weight':class_weight,'model__kernel':kernel}  \n",
    "\n",
    "# define classification model\n",
    "model1 = SVC(random_state=42,probability=True)\n",
    "steps = [('preprocessing', preprocessor),('model', model1)]\n",
    "pipeline1 = Pipeline(steps=steps)\n",
    "\n",
    "# define evaluation\n",
    "cv1 = RepeatedStratifiedKFold(n_splits=5, n_repeats=3,random_state=42)\n",
    "\n",
    "# define search\n",
    "search1 = RandomizedSearchCV(pipeline1, param_grid1,scoring='f1', n_jobs=-1, cv=cv1)\n",
    "\n",
    "# execute search\n",
    "result1 = search1.fit(X_train,y_train)\n",
    "\n",
    "# summarize result\n",
    "print('Best F-Score: %s' % result1.best_score_)\n",
    "print('Best Hyperparameters: %s' % result1.best_params_)"
   ]
  },
  {
   "cell_type": "markdown",
   "metadata": {},
   "source": [
    "We add the parameter scale_pos_weight to balance(not perfectly) the imbalance data."
   ]
  },
  {
   "cell_type": "code",
   "execution_count": 111,
   "metadata": {},
   "outputs": [
    {
     "name": "stderr",
     "output_type": "stream",
     "text": [
      "C:\\Users\\c2080129\\Anaconda3\\lib\\site-packages\\xgboost\\sklearn.py:892: UserWarning: The use of label encoder in XGBClassifier is deprecated and will be removed in a future release. To remove this warning, do the following: 1) Pass option use_label_encoder=False when constructing XGBClassifier object; and 2) Encode your labels (y) as integers starting with 0, i.e. 0, 1, 2, ..., [num_class - 1].\n",
      "  warnings.warn(label_encoder_deprecation_msg, UserWarning)\n",
      "C:\\Users\\c2080129\\Anaconda3\\lib\\site-packages\\sklearn\\utils\\validation.py:73: DataConversionWarning: A column-vector y was passed when a 1d array was expected. Please change the shape of y to (n_samples, ), for example using ravel().\n",
      "  return f(**kwargs)\n"
     ]
    },
    {
     "name": "stdout",
     "output_type": "stream",
     "text": [
      "[23:38:54] WARNING: C:/Users/Administrator/workspace/xgboost-win64_release_1.3.0/src/learner.cc:1061: Starting in XGBoost 1.3.0, the default evaluation metric used with the objective 'binary:logistic' was changed from 'error' to 'logloss'. Explicitly set eval_metric if you'd like to restore the old behavior.\n",
      "XGBClassifier(base_score=0.5, booster='gbtree', colsample_bylevel=1,\n",
      "              colsample_bynode=1, colsample_bytree=1, gamma=0, gpu_id=-1,\n",
      "              importance_type='gain', interaction_constraints='',\n",
      "              learning_rate=0.300000012, max_delta_step=0, max_depth=6,\n",
      "              min_child_weight=1, missing=nan, monotone_constraints='()',\n",
      "              n_estimators=100, n_jobs=8, num_parallel_tree=1, random_state=42,\n",
      "              reg_alpha=0, reg_lambda=1, scale_pos_weight=2.5, subsample=1,\n",
      "              tree_method='exact', validate_parameters=1, verbosity=None)\n",
      "Metrics:\n",
      "              precision    recall  f1-score   support\n",
      "\n",
      "         0.0       0.94      0.93      0.94      2594\n",
      "         1.0       0.65      0.67      0.66       489\n",
      "\n",
      "    accuracy                           0.89      3083\n",
      "   macro avg       0.80      0.80      0.80      3083\n",
      "weighted avg       0.89      0.89      0.89      3083\n",
      "\n",
      "Accuracy: 0.891015\n"
     ]
    }
   ],
   "source": [
    "#define pipeline\n",
    "model2 = XGBClassifier(random_state=42,scale_pos_weight=2.5)\n",
    "steps = [('preprocessing', preprocessor),('model', model2)]\n",
    "pipeline2 = Pipeline(steps=steps)\n",
    "\n",
    "#fit pipeline\n",
    "pipe2 = pipeline2.fit(X_train,y_train)\n",
    "print(model2)\n",
    "\n",
    "#results\n",
    "y_pred2 = pipe2.predict(X_test)\n",
    "print('Metrics:')\n",
    "print(metrics.classification_report(y_test, y_pred2))\n",
    "accuracy2 = accuracy_score(y_test,y_pred2)\n",
    "print('Accuracy: %f' % accuracy2)"
   ]
  },
  {
   "cell_type": "markdown",
   "metadata": {},
   "source": [
    "The overall performance improves when we try to balance the data in a proper way.So, we are going to tune this particular model."
   ]
  },
  {
   "cell_type": "code",
   "execution_count": 112,
   "metadata": {},
   "outputs": [
    {
     "name": "stderr",
     "output_type": "stream",
     "text": [
      "C:\\Users\\c2080129\\Anaconda3\\lib\\site-packages\\xgboost\\sklearn.py:892: UserWarning: The use of label encoder in XGBClassifier is deprecated and will be removed in a future release. To remove this warning, do the following: 1) Pass option use_label_encoder=False when constructing XGBClassifier object; and 2) Encode your labels (y) as integers starting with 0, i.e. 0, 1, 2, ..., [num_class - 1].\n",
      "  warnings.warn(label_encoder_deprecation_msg, UserWarning)\n",
      "C:\\Users\\c2080129\\Anaconda3\\lib\\site-packages\\sklearn\\utils\\validation.py:73: DataConversionWarning: A column-vector y was passed when a 1d array was expected. Please change the shape of y to (n_samples, ), for example using ravel().\n",
      "  return f(**kwargs)\n"
     ]
    },
    {
     "name": "stdout",
     "output_type": "stream",
     "text": [
      "[00:28:33] WARNING: C:/Users/Administrator/workspace/xgboost-win64_release_1.3.0/src/learner.cc:1061: Starting in XGBoost 1.3.0, the default evaluation metric used with the objective 'binary:logistic' was changed from 'error' to 'logloss'. Explicitly set eval_metric if you'd like to restore the old behavior.\n",
      "Best F-Score: 0.6623857042646372\n",
      "Best Hyperparameters: {'model__subsample': 0.1, 'model__scale_pos_weight': 6, 'model__n_estimators': 450, 'model__min_child_weight': 0, 'model__max_depth': 2, 'model__learning_rate': 0.001, 'model__gamma': 0.2}\n"
     ]
    }
   ],
   "source": [
    "# define classification model\n",
    "model2 =  XGBClassifier(random_state=42)\n",
    "steps = [('preprocessing', preprocessor),('model', model2)]\n",
    "pipeline2 = Pipeline(steps=steps)\n",
    "\n",
    "# define search space\n",
    "max_depth=list(range(12))\n",
    "scale_pos_weight=list(range(12))\n",
    "min_child_weight=list(range(12))\n",
    "learning_rate = [0.0001, 0.001, 0.01, 0.1, 0.25, 0.5,0.75]\n",
    "gamma=[i/10.0 for i in range(0,5)]\n",
    "n_estimators = list(range(0,500,50))\n",
    "subsample= [0.1,0.25,0.5,0.75,1]\n",
    "\n",
    "param_grid2={'model__scale_pos_weight':scale_pos_weight,\n",
    "             'model__max_depth':max_depth,\n",
    "             'model__learning_rate':learning_rate,\n",
    "             'model__gamma':gamma,\n",
    "             'model__min_child_weight':min_child_weight,\n",
    "             'model__n_estimators':n_estimators,\n",
    "             'model__subsample':subsample}\n",
    "\n",
    "# define evaluation\n",
    "cv2 = RepeatedStratifiedKFold(n_splits=5, n_repeats=3,random_state=42)\n",
    "\n",
    "# define search\n",
    "search2 = RandomizedSearchCV(pipeline2, param_grid2, scoring='f1', n_jobs=-1, cv=cv2)\n",
    "\n",
    "# execute search\n",
    "result2 = search2.fit(X_train, y_train)\n",
    "\n",
    "# summarize result\n",
    "print('Best F-Score: %s' % result2.best_score_)\n",
    "print('Best Hyperparameters: %s' % result2.best_params_)"
   ]
  },
  {
   "cell_type": "markdown",
   "metadata": {},
   "source": [
    "# Precision-Recall Curve"
   ]
  },
  {
   "cell_type": "code",
   "execution_count": 127,
   "metadata": {},
   "outputs": [
    {
     "name": "stderr",
     "output_type": "stream",
     "text": [
      "C:\\Users\\c2080129\\Anaconda3\\lib\\site-packages\\sklearn\\utils\\validation.py:73: DataConversionWarning: A column-vector y was passed when a 1d array was expected. Please change the shape of y to (n_samples, ), for example using ravel().\n",
      "  return f(**kwargs)\n"
     ]
    },
    {
     "name": "stdout",
     "output_type": "stream",
     "text": [
      "LogisticRegression(C=29, class_weight={0: 0.34, 1: 0.66}, penalty='l1',\n",
      "                   random_state=42, solver='saga')\n",
      "Best Threshold=0.423003, F-Score=0.671\n"
     ]
    },
    {
     "name": "stderr",
     "output_type": "stream",
     "text": [
      "C:\\Users\\c2080129\\Anaconda3\\lib\\site-packages\\sklearn\\linear_model\\_sag.py:329: ConvergenceWarning: The max_iter was reached which means the coef_ did not converge\n",
      "  warnings.warn(\"The max_iter was reached which means \"\n"
     ]
    },
    {
     "data": {
      "image/png": "[encoded data removed]",
      "text/plain": [
       "<Figure size 432x288 with 1 Axes>"
      ]
     },
     "metadata": {
      "needs_background": "light"
     },
     "output_type": "display_data"
    },
    {
     "name": "stdout",
     "output_type": "stream",
     "text": [
      "AUC: 0.6712113102995894\n"
     ]
    }
   ],
   "source": [
    "model = LogisticRegression(random_state=42,class_weight={0:0.34,1:0.66},penalty='l1',solver='saga',C=29)\n",
    "steps = [('preprocessing', preprocessor),('model', model)]\n",
    "pipeline = Pipeline(steps=steps)\n",
    "\n",
    "#fit pipeline\n",
    "pipe = pipeline.fit(X_train,y_train)\n",
    "print(model)\n",
    "\n",
    "# predict probabilities\n",
    "yhat = pipe.predict_proba(X_test)\n",
    "\n",
    "# keep probabilities for the positive outcome only\n",
    "yhat = yhat[:, 1]\n",
    "\n",
    "# calculate roc curves\n",
    "precision, recall, thresholds = precision_recall_curve(y_test, yhat)\n",
    "\n",
    "# convert to f score\n",
    "fscore = (2 * precision * recall) / (precision + recall)\n",
    "\n",
    "# locate the index of the largest f score\n",
    "ix = argmax(fscore)\n",
    "print('Best Threshold=%f, F-Score=%.3f' % (thresholds[ix], fscore[ix]))\n",
    "\n",
    "# plot the roc curve for the model\n",
    "no_skill = len(y_test[y_test==1]) / len(y_test)\n",
    "pyplot.plot([0,1], [no_skill,no_skill], linestyle='--', label='No Skill')\n",
    "pyplot.plot(recall, precision, marker='.', label='Logistic')\n",
    "pyplot.scatter(recall[ix], precision[ix], marker='o', color='black', label='Best')\n",
    "\n",
    "# axis labels\n",
    "pyplot.xlabel('Recall')\n",
    "pyplot.ylabel('Precision')\n",
    "pyplot.legend()\n",
    "\n",
    "# show the plot\n",
    "pyplot.show()\n",
    "\n",
    "#auc score\n",
    "auc_prc = auc(recall, precision)\n",
    "print('AUC: %s' % auc_prc)"
   ]
  },
  {
   "cell_type": "code",
   "execution_count": 23,
   "metadata": {},
   "outputs": [
    {
     "name": "stderr",
     "output_type": "stream",
     "text": [
      "C:\\Users\\c2080129\\Anaconda3\\lib\\site-packages\\sklearn\\utils\\validation.py:73: DataConversionWarning: A column-vector y was passed when a 1d array was expected. Please change the shape of y to (n_samples, ), for example using ravel().\n",
      "  return f(**kwargs)\n"
     ]
    },
    {
     "name": "stdout",
     "output_type": "stream",
     "text": [
      "SVC(C=78, class_weight={0: 0.26, 1: 0.74}, kernel='linear', probability=True,\n",
      "    random_state=42)\n",
      "Best Threshold=0.332006, F-Score=0.670\n"
     ]
    },
    {
     "data": {
      "image/png": "[encoded data removed]",
      "text/plain": [
       "<Figure size 432x288 with 1 Axes>"
      ]
     },
     "metadata": {
      "needs_background": "light"
     },
     "output_type": "display_data"
    },
    {
     "name": "stdout",
     "output_type": "stream",
     "text": [
      "AUC: 0.6672748008932236\n"
     ]
    }
   ],
   "source": [
    "model1 = SVC(random_state=42,probability=True,kernel='linear', class_weight= {0: 0.26, 1: 0.74}, C =78)\n",
    "steps = [('preprocessing', preprocessor),('model', model1)]\n",
    "pipeline1 = Pipeline(steps=steps)\n",
    "\n",
    "#fit pipeline\n",
    "pipe1 = pipeline1.fit(X_train,y_train)\n",
    "print(model1)\n",
    "\n",
    "# predict probabilities\n",
    "yhat1 = pipe1.predict_proba(X_test)\n",
    "\n",
    "# keep probabilities for the positive outcome only\n",
    "yhat1 = yhat1[:, 1]\n",
    "\n",
    "# calculate roc curves\n",
    "precision1, recall1, thresholds1 = precision_recall_curve(y_test, yhat1)\n",
    "\n",
    "# convert to f score\n",
    "fscore1 = (2 * precision1 * recall1) / (precision1 + recall1)\n",
    "\n",
    "# locate the index of the largest f score\n",
    "ix1 = argmax(fscore1)\n",
    "print('Best Threshold=%f, F-Score=%.3f' % (thresholds1[ix1], fscore1[ix1]))\n",
    "\n",
    "# plot the roc curve for the model\n",
    "no_skill1 = len(y_test[y_test==1]) / len(y_test)\n",
    "pyplot.plot([0,1], [no_skill1,no_skill1], linestyle='--', label='No Skill')\n",
    "pyplot.plot(recall1, precision1, marker='.', label='SVC')\n",
    "pyplot.scatter(recall1[ix1], precision1[ix1], marker='o', color='black', label='Best')\n",
    "\n",
    "# axis labels\n",
    "pyplot.xlabel('Recall')\n",
    "pyplot.ylabel('Precision')\n",
    "pyplot.legend()\n",
    "\n",
    "# show the plot\n",
    "pyplot.show()\n",
    "\n",
    "#auc score\n",
    "auc_prc1 = auc(recall1, precision1)\n",
    "print('AUC: %s' % auc_prc1)"
   ]
  },
  {
   "cell_type": "code",
   "execution_count": 24,
   "metadata": {},
   "outputs": [
    {
     "name": "stderr",
     "output_type": "stream",
     "text": [
      "C:\\Users\\c2080129\\Anaconda3\\lib\\site-packages\\xgboost\\sklearn.py:892: UserWarning: The use of label encoder in XGBClassifier is deprecated and will be removed in a future release. To remove this warning, do the following: 1) Pass option use_label_encoder=False when constructing XGBClassifier object; and 2) Encode your labels (y) as integers starting with 0, i.e. 0, 1, 2, ..., [num_class - 1].\n",
      "  warnings.warn(label_encoder_deprecation_msg, UserWarning)\n",
      "C:\\Users\\c2080129\\Anaconda3\\lib\\site-packages\\sklearn\\utils\\validation.py:73: DataConversionWarning: A column-vector y was passed when a 1d array was expected. Please change the shape of y to (n_samples, ), for example using ravel().\n",
      "  return f(**kwargs)\n"
     ]
    },
    {
     "name": "stdout",
     "output_type": "stream",
     "text": [
      "[13:47:32] WARNING: C:/Users/Administrator/workspace/xgboost-win64_release_1.3.0/src/learner.cc:1061: Starting in XGBoost 1.3.0, the default evaluation metric used with the objective 'binary:logistic' was changed from 'error' to 'logloss'. Explicitly set eval_metric if you'd like to restore the old behavior.\n",
      "XGBClassifier(base_score=0.5, booster='gbtree', colsample_bylevel=1,\n",
      "              colsample_bynode=1, colsample_bytree=1, gamma=2, gpu_id=-1,\n",
      "              importance_type='gain', interaction_constraints='',\n",
      "              learning_rate=0.001, max_delta_step=0, max_depth=2,\n",
      "              min_child_weight=0, missing=nan, monotone_constraints='()',\n",
      "              n_estimators=450, n_jobs=8, num_parallel_tree=1, random_state=42,\n",
      "              reg_alpha=0, reg_lambda=1, scale_pos_weight=6, subsample=0.1,\n",
      "              tree_method='exact', validate_parameters=1, verbosity=None)\n",
      "Best Threshold=0.566069, F-Score=0.674\n"
     ]
    },
    {
     "data": {
      "image/png": "[encoded data removed]",
      "text/plain": [
       "<Figure size 432x288 with 1 Axes>"
      ]
     },
     "metadata": {
      "needs_background": "light"
     },
     "output_type": "display_data"
    },
    {
     "name": "stdout",
     "output_type": "stream",
     "text": [
      "AUC: 0.7031562920865633\n"
     ]
    }
   ],
   "source": [
    "#define pipeline\n",
    "model2 = XGBClassifier(random_state=42,subsample =0.1, scale_pos_weight= 6, n_estimators = 450,\n",
    "                       min_child_weight=0, max_depth=2, learning_rate=0.001, gamma= 2)\n",
    "steps = [('preprocessing', preprocessor),('model', model2)]\n",
    "pipeline2 = Pipeline(steps=steps)\n",
    "\n",
    "#fit pipeline\n",
    "pipe2 = pipeline2.fit(X_train,y_train)\n",
    "print(model2)\n",
    "\n",
    "# predict probabilities\n",
    "yhat2 = pipe2.predict_proba(X_test)\n",
    "\n",
    "# keep probabilities for the positive outcome only\n",
    "yhat2 = yhat2[:, 1]\n",
    "\n",
    "# calculate roc curves\n",
    "precision2, recall2, thresholds2 = precision_recall_curve(y_test, yhat2)\n",
    "\n",
    "# convert to f score\n",
    "fscore2 = (2 * precision2 * recall2) / (precision2 + recall2)\n",
    "\n",
    "# locate the index of the largest f score\n",
    "ix2 = argmax(fscore2)\n",
    "print('Best Threshold=%f, F-Score=%.3f' % (thresholds2[ix2], fscore2[ix2]))\n",
    "\n",
    "# plot the roc curve for the model\n",
    "no_skill2 = len(y_test[y_test==1]) / len(y_test)\n",
    "pyplot.plot([0,1], [no_skill2,no_skill2], linestyle='--', label='No Skill')\n",
    "pyplot.plot(recall2, precision2, marker='.', label='XGBoost')\n",
    "pyplot.scatter(recall2[ix2], precision2[ix2], marker='o', color='black', label='Best')\n",
    "\n",
    "# axis labels\n",
    "pyplot.xlabel('Recall')\n",
    "pyplot.ylabel('Precision')\n",
    "pyplot.legend()\n",
    "\n",
    "# show the plot\n",
    "pyplot.show()\n",
    "\n",
    "#auc score\n",
    "auc_prc2 = auc(recall2, precision2)\n",
    "print('AUC: %s' % auc_prc2)"
   ]
  },
  {
   "cell_type": "code",
   "execution_count": null,
   "metadata": {},
   "outputs": [],
   "source": []
  }
 ],
 "metadata": {
  "kernelspec": {
   "display_name": "Python 3",
   "language": "python",
   "name": "python3"
  },
  "language_info": {
   "codemirror_mode": {
    "name": "ipython",
    "version": 3
   },
   "file_extension": ".py",
   "mimetype": "text/x-python",
   "name": "python",
   "nbconvert_exporter": "python",
   "pygments_lexer": "ipython3",
   "version": "3.8.5"
  }
 },
 "nbformat": 4,
 "nbformat_minor": 4
}
